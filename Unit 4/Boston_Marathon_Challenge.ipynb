{
  "nbformat": 4,
  "nbformat_minor": 0,
  "metadata": {
    "colab": {
      "name": "Boston Marathon Challenge",
      "version": "0.3.2",
      "provenance": []
    },
    "kernelspec": {
      "name": "python3",
      "display_name": "Python 3"
    }
  },
  "cells": [
    {
      "metadata": {
        "id": "iqF5A8NJso28",
        "colab_type": "code",
        "colab": {}
      },
      "cell_type": "code",
      "source": [
        "##imports \n",
        "\n",
        "#basic imports \n",
        "import numpy as np\n",
        "import pandas as pd\n",
        "import scipy\n",
        "import matplotlib.pyplot as plt\n",
        "import seaborn as sns\n",
        "\n",
        "from sklearn.model_selection import train_test_split\n",
        "from sklearn.preprocessing import normalize\n",
        "from sklearn.decomposition import PCA\n",
        "from scipy.spatial.distance import cdist\n",
        "\n",
        "#models \n",
        "from sklearn.cluster import KMeans\n",
        "from sklearn.cluster import MiniBatchKMeans\n",
        "from sklearn.cluster import MeanShift, estimate_bandwidth\n",
        "from sklearn.cluster import SpectralClustering\n",
        "from sklearn.cluster import AffinityPropagation\n",
        "\n",
        "#cluster eval\n",
        "from sklearn.metrics import silhouette_score \n",
        "from sklearn import metrics "
      ],
      "execution_count": 0,
      "outputs": []
    },
    {
      "metadata": {
        "id": "0p2DkNz7sz33",
        "colab_type": "code",
        "colab": {
          "base_uri": "https://localhost:8080/",
          "height": 224
        },
        "outputId": "5ad305ea-bef8-4516-c062-3ddfc92d893e"
      },
      "cell_type": "code",
      "source": [
        "#read in data\n",
        "df = pd.read_csv('https://raw.githubusercontent.com/llimllib/bostonmarathon/master/results/2014/results.csv') \n",
        "df.head()"
      ],
      "execution_count": 3,
      "outputs": [
        {
          "output_type": "execute_result",
          "data": {
            "text/html": [
              "<div>\n",
              "<style scoped>\n",
              "    .dataframe tbody tr th:only-of-type {\n",
              "        vertical-align: middle;\n",
              "    }\n",
              "\n",
              "    .dataframe tbody tr th {\n",
              "        vertical-align: top;\n",
              "    }\n",
              "\n",
              "    .dataframe thead th {\n",
              "        text-align: right;\n",
              "    }\n",
              "</style>\n",
              "<table border=\"1\" class=\"dataframe\">\n",
              "  <thead>\n",
              "    <tr style=\"text-align: right;\">\n",
              "      <th></th>\n",
              "      <th>10k</th>\n",
              "      <th>name</th>\n",
              "      <th>division</th>\n",
              "      <th>25k</th>\n",
              "      <th>gender</th>\n",
              "      <th>age</th>\n",
              "      <th>official</th>\n",
              "      <th>bib</th>\n",
              "      <th>genderdiv</th>\n",
              "      <th>ctz</th>\n",
              "      <th>...</th>\n",
              "      <th>overall</th>\n",
              "      <th>pace</th>\n",
              "      <th>state</th>\n",
              "      <th>30k</th>\n",
              "      <th>5k</th>\n",
              "      <th>half</th>\n",
              "      <th>20k</th>\n",
              "      <th>country</th>\n",
              "      <th>city</th>\n",
              "      <th>40k</th>\n",
              "    </tr>\n",
              "  </thead>\n",
              "  <tbody>\n",
              "    <tr>\n",
              "      <th>0</th>\n",
              "      <td>17.37</td>\n",
              "      <td>Yamamoto, Hiroyuki</td>\n",
              "      <td>8</td>\n",
              "      <td>47.67</td>\n",
              "      <td>M</td>\n",
              "      <td>47</td>\n",
              "      <td>85.25</td>\n",
              "      <td>W1</td>\n",
              "      <td>8</td>\n",
              "      <td>NaN</td>\n",
              "      <td>...</td>\n",
              "      <td>8</td>\n",
              "      <td>3.27</td>\n",
              "      <td>NaN</td>\n",
              "      <td>59.18</td>\n",
              "      <td>8.02</td>\n",
              "      <td>39.72</td>\n",
              "      <td>37.65</td>\n",
              "      <td>JPN</td>\n",
              "      <td>Fukuoka</td>\n",
              "      <td>80.43</td>\n",
              "    </tr>\n",
              "    <tr>\n",
              "      <th>1</th>\n",
              "      <td>32.58</td>\n",
              "      <td>Jeptoo, Rita</td>\n",
              "      <td>1</td>\n",
              "      <td>82.43</td>\n",
              "      <td>F</td>\n",
              "      <td>33</td>\n",
              "      <td>138.95</td>\n",
              "      <td>F1</td>\n",
              "      <td>1</td>\n",
              "      <td>NaN</td>\n",
              "      <td>...</td>\n",
              "      <td>21</td>\n",
              "      <td>5.30</td>\n",
              "      <td>NaN</td>\n",
              "      <td>99.33</td>\n",
              "      <td>16.22</td>\n",
              "      <td>69.47</td>\n",
              "      <td>65.83</td>\n",
              "      <td>KEN</td>\n",
              "      <td>Eldoret</td>\n",
              "      <td>132.10</td>\n",
              "    </tr>\n",
              "    <tr>\n",
              "      <th>2</th>\n",
              "      <td>16.62</td>\n",
              "      <td>Van Dyk, Ernst F.</td>\n",
              "      <td>1</td>\n",
              "      <td>45.80</td>\n",
              "      <td>M</td>\n",
              "      <td>41</td>\n",
              "      <td>80.60</td>\n",
              "      <td>W2</td>\n",
              "      <td>1</td>\n",
              "      <td>NaN</td>\n",
              "      <td>...</td>\n",
              "      <td>1</td>\n",
              "      <td>3.08</td>\n",
              "      <td>NaN</td>\n",
              "      <td>56.45</td>\n",
              "      <td>7.75</td>\n",
              "      <td>38.03</td>\n",
              "      <td>36.10</td>\n",
              "      <td>RSA</td>\n",
              "      <td>Paarl</td>\n",
              "      <td>76.10</td>\n",
              "    </tr>\n",
              "    <tr>\n",
              "      <th>3</th>\n",
              "      <td>32.57</td>\n",
              "      <td>Dibaba, Mare</td>\n",
              "      <td>3</td>\n",
              "      <td>82.43</td>\n",
              "      <td>F</td>\n",
              "      <td>24</td>\n",
              "      <td>140.58</td>\n",
              "      <td>F2</td>\n",
              "      <td>3</td>\n",
              "      <td>NaN</td>\n",
              "      <td>...</td>\n",
              "      <td>27</td>\n",
              "      <td>5.37</td>\n",
              "      <td>NaN</td>\n",
              "      <td>99.33</td>\n",
              "      <td>16.20</td>\n",
              "      <td>69.47</td>\n",
              "      <td>65.83</td>\n",
              "      <td>ETH</td>\n",
              "      <td>Shoa</td>\n",
              "      <td>132.95</td>\n",
              "    </tr>\n",
              "    <tr>\n",
              "      <th>4</th>\n",
              "      <td>17.12</td>\n",
              "      <td>Hokinoue, Kota</td>\n",
              "      <td>2</td>\n",
              "      <td>46.37</td>\n",
              "      <td>M</td>\n",
              "      <td>40</td>\n",
              "      <td>81.23</td>\n",
              "      <td>W3</td>\n",
              "      <td>2</td>\n",
              "      <td>NaN</td>\n",
              "      <td>...</td>\n",
              "      <td>2</td>\n",
              "      <td>3.10</td>\n",
              "      <td>NaN</td>\n",
              "      <td>57.03</td>\n",
              "      <td>8.02</td>\n",
              "      <td>38.60</td>\n",
              "      <td>36.58</td>\n",
              "      <td>JPN</td>\n",
              "      <td>Nogata Fukuoka</td>\n",
              "      <td>76.72</td>\n",
              "    </tr>\n",
              "  </tbody>\n",
              "</table>\n",
              "<p>5 rows × 21 columns</p>\n",
              "</div>"
            ],
            "text/plain": [
              "     10k                name  division    25k gender  age  official bib  \\\n",
              "0  17.37  Yamamoto, Hiroyuki         8  47.67      M   47     85.25  W1   \n",
              "1  32.58        Jeptoo, Rita         1  82.43      F   33    138.95  F1   \n",
              "2  16.62   Van Dyk, Ernst F.         1  45.80      M   41     80.60  W2   \n",
              "3  32.57        Dibaba, Mare         3  82.43      F   24    140.58  F2   \n",
              "4  17.12      Hokinoue, Kota         2  46.37      M   40     81.23  W3   \n",
              "\n",
              "   genderdiv  ctz   ...   overall  pace  state    30k     5k   half    20k  \\\n",
              "0          8  NaN   ...         8  3.27    NaN  59.18   8.02  39.72  37.65   \n",
              "1          1  NaN   ...        21  5.30    NaN  99.33  16.22  69.47  65.83   \n",
              "2          1  NaN   ...         1  3.08    NaN  56.45   7.75  38.03  36.10   \n",
              "3          3  NaN   ...        27  5.37    NaN  99.33  16.20  69.47  65.83   \n",
              "4          2  NaN   ...         2  3.10    NaN  57.03   8.02  38.60  36.58   \n",
              "\n",
              "  country            city     40k  \n",
              "0     JPN         Fukuoka   80.43  \n",
              "1     KEN         Eldoret  132.10  \n",
              "2     RSA           Paarl   76.10  \n",
              "3     ETH            Shoa  132.95  \n",
              "4     JPN  Nogata Fukuoka   76.72  \n",
              "\n",
              "[5 rows x 21 columns]"
            ]
          },
          "metadata": {
            "tags": []
          },
          "execution_count": 3
        }
      ]
    },
    {
      "metadata": {
        "id": "zJ-0Fj04uPCA",
        "colab_type": "code",
        "colab": {
          "base_uri": "https://localhost:8080/",
          "height": 454
        },
        "outputId": "29d0b740-0c27-46e5-e884-aada875010f2"
      },
      "cell_type": "code",
      "source": [
        "df.info()"
      ],
      "execution_count": 4,
      "outputs": [
        {
          "output_type": "stream",
          "text": [
            "<class 'pandas.core.frame.DataFrame'>\n",
            "RangeIndex: 31984 entries, 0 to 31983\n",
            "Data columns (total 21 columns):\n",
            "10k          31984 non-null object\n",
            "name         31984 non-null object\n",
            "division     31984 non-null int64\n",
            "25k          31984 non-null object\n",
            "gender       31984 non-null object\n",
            "age          31984 non-null int64\n",
            "official     31984 non-null float64\n",
            "bib          31984 non-null object\n",
            "genderdiv    31984 non-null int64\n",
            "ctz          1244 non-null object\n",
            "35k          31984 non-null object\n",
            "overall      31984 non-null int64\n",
            "pace         31984 non-null float64\n",
            "state        29408 non-null object\n",
            "30k          31984 non-null object\n",
            "5k           31984 non-null object\n",
            "half         31984 non-null object\n",
            "20k          31984 non-null object\n",
            "country      31984 non-null object\n",
            "city         31983 non-null object\n",
            "40k          31984 non-null object\n",
            "dtypes: float64(2), int64(4), object(15)\n",
            "memory usage: 5.1+ MB\n"
          ],
          "name": "stdout"
        }
      ]
    },
    {
      "metadata": {
        "id": "rKfRxmT6uURu",
        "colab_type": "code",
        "colab": {
          "base_uri": "https://localhost:8080/",
          "height": 386
        },
        "outputId": "342ea7f7-c1a2-4dec-a773-1c1f5d945d49"
      },
      "cell_type": "code",
      "source": [
        "df.isnull().sum()"
      ],
      "execution_count": 5,
      "outputs": [
        {
          "output_type": "execute_result",
          "data": {
            "text/plain": [
              "10k              0\n",
              "name             0\n",
              "division         0\n",
              "25k              0\n",
              "gender           0\n",
              "age              0\n",
              "official         0\n",
              "bib              0\n",
              "genderdiv        0\n",
              "ctz          30740\n",
              "35k              0\n",
              "overall          0\n",
              "pace             0\n",
              "state         2576\n",
              "30k              0\n",
              "5k               0\n",
              "half             0\n",
              "20k              0\n",
              "country          0\n",
              "city             1\n",
              "40k              0\n",
              "dtype: int64"
            ]
          },
          "metadata": {
            "tags": []
          },
          "execution_count": 5
        }
      ]
    },
    {
      "metadata": {
        "id": "0Hvq6ar8wCxh",
        "colab_type": "code",
        "colab": {
          "base_uri": "https://localhost:8080/",
          "height": 195
        },
        "outputId": "a057c5f3-925a-4765-d1cd-55c5477c0941"
      },
      "cell_type": "code",
      "source": [
        "#we'll drop categorical variables as they aren't useful in K means clustering \n",
        "df.drop(['ctz','name','bib','state','country','city'],axis=1,inplace=True)\n",
        "df.head()"
      ],
      "execution_count": 4,
      "outputs": [
        {
          "output_type": "execute_result",
          "data": {
            "text/html": [
              "<div>\n",
              "<style scoped>\n",
              "    .dataframe tbody tr th:only-of-type {\n",
              "        vertical-align: middle;\n",
              "    }\n",
              "\n",
              "    .dataframe tbody tr th {\n",
              "        vertical-align: top;\n",
              "    }\n",
              "\n",
              "    .dataframe thead th {\n",
              "        text-align: right;\n",
              "    }\n",
              "</style>\n",
              "<table border=\"1\" class=\"dataframe\">\n",
              "  <thead>\n",
              "    <tr style=\"text-align: right;\">\n",
              "      <th></th>\n",
              "      <th>10k</th>\n",
              "      <th>division</th>\n",
              "      <th>25k</th>\n",
              "      <th>gender</th>\n",
              "      <th>age</th>\n",
              "      <th>official</th>\n",
              "      <th>genderdiv</th>\n",
              "      <th>35k</th>\n",
              "      <th>overall</th>\n",
              "      <th>pace</th>\n",
              "      <th>30k</th>\n",
              "      <th>5k</th>\n",
              "      <th>half</th>\n",
              "      <th>20k</th>\n",
              "      <th>40k</th>\n",
              "    </tr>\n",
              "  </thead>\n",
              "  <tbody>\n",
              "    <tr>\n",
              "      <th>0</th>\n",
              "      <td>17.37</td>\n",
              "      <td>8</td>\n",
              "      <td>47.67</td>\n",
              "      <td>M</td>\n",
              "      <td>47</td>\n",
              "      <td>85.25</td>\n",
              "      <td>8</td>\n",
              "      <td>71.40</td>\n",
              "      <td>8</td>\n",
              "      <td>3.27</td>\n",
              "      <td>59.18</td>\n",
              "      <td>8.02</td>\n",
              "      <td>39.72</td>\n",
              "      <td>37.65</td>\n",
              "      <td>80.43</td>\n",
              "    </tr>\n",
              "    <tr>\n",
              "      <th>1</th>\n",
              "      <td>32.58</td>\n",
              "      <td>1</td>\n",
              "      <td>82.43</td>\n",
              "      <td>F</td>\n",
              "      <td>33</td>\n",
              "      <td>138.95</td>\n",
              "      <td>1</td>\n",
              "      <td>116.37</td>\n",
              "      <td>21</td>\n",
              "      <td>5.30</td>\n",
              "      <td>99.33</td>\n",
              "      <td>16.22</td>\n",
              "      <td>69.47</td>\n",
              "      <td>65.83</td>\n",
              "      <td>132.10</td>\n",
              "    </tr>\n",
              "    <tr>\n",
              "      <th>2</th>\n",
              "      <td>16.62</td>\n",
              "      <td>1</td>\n",
              "      <td>45.80</td>\n",
              "      <td>M</td>\n",
              "      <td>41</td>\n",
              "      <td>80.60</td>\n",
              "      <td>1</td>\n",
              "      <td>67.42</td>\n",
              "      <td>1</td>\n",
              "      <td>3.08</td>\n",
              "      <td>56.45</td>\n",
              "      <td>7.75</td>\n",
              "      <td>38.03</td>\n",
              "      <td>36.10</td>\n",
              "      <td>76.10</td>\n",
              "    </tr>\n",
              "    <tr>\n",
              "      <th>3</th>\n",
              "      <td>32.57</td>\n",
              "      <td>3</td>\n",
              "      <td>82.43</td>\n",
              "      <td>F</td>\n",
              "      <td>24</td>\n",
              "      <td>140.58</td>\n",
              "      <td>3</td>\n",
              "      <td>116.37</td>\n",
              "      <td>27</td>\n",
              "      <td>5.37</td>\n",
              "      <td>99.33</td>\n",
              "      <td>16.20</td>\n",
              "      <td>69.47</td>\n",
              "      <td>65.83</td>\n",
              "      <td>132.95</td>\n",
              "    </tr>\n",
              "    <tr>\n",
              "      <th>4</th>\n",
              "      <td>17.12</td>\n",
              "      <td>2</td>\n",
              "      <td>46.37</td>\n",
              "      <td>M</td>\n",
              "      <td>40</td>\n",
              "      <td>81.23</td>\n",
              "      <td>2</td>\n",
              "      <td>67.83</td>\n",
              "      <td>2</td>\n",
              "      <td>3.10</td>\n",
              "      <td>57.03</td>\n",
              "      <td>8.02</td>\n",
              "      <td>38.60</td>\n",
              "      <td>36.58</td>\n",
              "      <td>76.72</td>\n",
              "    </tr>\n",
              "  </tbody>\n",
              "</table>\n",
              "</div>"
            ],
            "text/plain": [
              "     10k  division    25k gender  age  official  genderdiv     35k  overall  \\\n",
              "0  17.37         8  47.67      M   47     85.25          8   71.40        8   \n",
              "1  32.58         1  82.43      F   33    138.95          1  116.37       21   \n",
              "2  16.62         1  45.80      M   41     80.60          1   67.42        1   \n",
              "3  32.57         3  82.43      F   24    140.58          3  116.37       27   \n",
              "4  17.12         2  46.37      M   40     81.23          2   67.83        2   \n",
              "\n",
              "   pace    30k     5k   half    20k     40k  \n",
              "0  3.27  59.18   8.02  39.72  37.65   80.43  \n",
              "1  5.30  99.33  16.22  69.47  65.83  132.10  \n",
              "2  3.08  56.45   7.75  38.03  36.10   76.10  \n",
              "3  5.37  99.33  16.20  69.47  65.83  132.95  \n",
              "4  3.10  57.03   8.02  38.60  36.58   76.72  "
            ]
          },
          "metadata": {
            "tags": []
          },
          "execution_count": 4
        }
      ]
    },
    {
      "metadata": {
        "id": "4RGh5xnY3UIN",
        "colab_type": "code",
        "colab": {
          "base_uri": "https://localhost:8080/",
          "height": 286
        },
        "outputId": "48ec9cb5-cf10-4d8a-e69a-80817c0a3822"
      },
      "cell_type": "code",
      "source": [
        "df.iloc[3189]"
      ],
      "execution_count": 7,
      "outputs": [
        {
          "output_type": "execute_result",
          "data": {
            "text/plain": [
              "10k               -\n",
              "division        647\n",
              "25k               -\n",
              "gender            M\n",
              "age              47\n",
              "official     195.82\n",
              "genderdiv      4815\n",
              "35k          160.48\n",
              "overall        5463\n",
              "pace           7.48\n",
              "30k               -\n",
              "5k                -\n",
              "half              -\n",
              "20k               -\n",
              "40k          184.62\n",
              "Name: 3189, dtype: object"
            ]
          },
          "metadata": {
            "tags": []
          },
          "execution_count": 7
        }
      ]
    },
    {
      "metadata": {
        "id": "j_fAaHcy2Qu3",
        "colab_type": "code",
        "colab": {}
      },
      "cell_type": "code",
      "source": [
        "#convert splits to float value, replacing '-' in splits \n",
        "splits = ['10k','25k','35k','30k','5k','half','20k','40k']\n",
        "for col in splits:\n",
        "    df[col] = df[col].str.replace('-','')\n",
        "    df[col] = pd.to_numeric(df[col])"
      ],
      "execution_count": 0,
      "outputs": []
    },
    {
      "metadata": {
        "id": "4T25nAy--QwC",
        "colab_type": "code",
        "colab": {}
      },
      "cell_type": "code",
      "source": [
        "#drop the null split values \n",
        "df = df.dropna()"
      ],
      "execution_count": 0,
      "outputs": []
    },
    {
      "metadata": {
        "id": "y-r1jlawwMIc",
        "colab_type": "code",
        "colab": {}
      },
      "cell_type": "code",
      "source": [
        "#create binary outcome variable \n",
        "df.gender = np.where(df.gender == 'F',1,0)"
      ],
      "execution_count": 0,
      "outputs": []
    },
    {
      "metadata": {
        "id": "uqjQm1cqzlXv",
        "colab_type": "code",
        "colab": {
          "base_uri": "https://localhost:8080/",
          "height": 304
        },
        "outputId": "c65429c9-f85e-4f0d-b4a5-addd0c690b38"
      },
      "cell_type": "code",
      "source": [
        "df.describe()"
      ],
      "execution_count": 9,
      "outputs": [
        {
          "output_type": "execute_result",
          "data": {
            "text/html": [
              "<div>\n",
              "<style scoped>\n",
              "    .dataframe tbody tr th:only-of-type {\n",
              "        vertical-align: middle;\n",
              "    }\n",
              "\n",
              "    .dataframe tbody tr th {\n",
              "        vertical-align: top;\n",
              "    }\n",
              "\n",
              "    .dataframe thead th {\n",
              "        text-align: right;\n",
              "    }\n",
              "</style>\n",
              "<table border=\"1\" class=\"dataframe\">\n",
              "  <thead>\n",
              "    <tr style=\"text-align: right;\">\n",
              "      <th></th>\n",
              "      <th>10k</th>\n",
              "      <th>division</th>\n",
              "      <th>25k</th>\n",
              "      <th>gender</th>\n",
              "      <th>age</th>\n",
              "      <th>official</th>\n",
              "      <th>genderdiv</th>\n",
              "      <th>35k</th>\n",
              "      <th>overall</th>\n",
              "      <th>pace</th>\n",
              "      <th>30k</th>\n",
              "      <th>5k</th>\n",
              "      <th>half</th>\n",
              "      <th>20k</th>\n",
              "      <th>40k</th>\n",
              "    </tr>\n",
              "  </thead>\n",
              "  <tbody>\n",
              "    <tr>\n",
              "      <th>count</th>\n",
              "      <td>31649.000000</td>\n",
              "      <td>31649.000000</td>\n",
              "      <td>31649.000000</td>\n",
              "      <td>31649.000000</td>\n",
              "      <td>31649.000000</td>\n",
              "      <td>31649.000000</td>\n",
              "      <td>31649.000000</td>\n",
              "      <td>31649.000000</td>\n",
              "      <td>31649.000000</td>\n",
              "      <td>31649.000000</td>\n",
              "      <td>31649.000000</td>\n",
              "      <td>31649.000000</td>\n",
              "      <td>31649.000000</td>\n",
              "      <td>31649.000000</td>\n",
              "      <td>31649.000000</td>\n",
              "    </tr>\n",
              "    <tr>\n",
              "      <th>mean</th>\n",
              "      <td>51.629039</td>\n",
              "      <td>1922.747291</td>\n",
              "      <td>133.581175</td>\n",
              "      <td>0.447565</td>\n",
              "      <td>42.385067</td>\n",
              "      <td>241.952383</td>\n",
              "      <td>8002.921988</td>\n",
              "      <td>196.033373</td>\n",
              "      <td>15833.958924</td>\n",
              "      <td>9.236463</td>\n",
              "      <td>163.894883</td>\n",
              "      <td>25.678261</td>\n",
              "      <td>111.211481</td>\n",
              "      <td>105.321404</td>\n",
              "      <td>228.189990</td>\n",
              "    </tr>\n",
              "    <tr>\n",
              "      <th>std</th>\n",
              "      <td>8.710102</td>\n",
              "      <td>1704.843679</td>\n",
              "      <td>25.571480</td>\n",
              "      <td>0.497251</td>\n",
              "      <td>11.299795</td>\n",
              "      <td>50.842552</td>\n",
              "      <td>4733.255987</td>\n",
              "      <td>40.775036</td>\n",
              "      <td>9182.223743</td>\n",
              "      <td>1.939150</td>\n",
              "      <td>32.889354</td>\n",
              "      <td>4.215381</td>\n",
              "      <td>20.306387</td>\n",
              "      <td>19.159500</td>\n",
              "      <td>48.074493</td>\n",
              "    </tr>\n",
              "    <tr>\n",
              "      <th>min</th>\n",
              "      <td>16.620000</td>\n",
              "      <td>1.000000</td>\n",
              "      <td>45.800000</td>\n",
              "      <td>0.000000</td>\n",
              "      <td>18.000000</td>\n",
              "      <td>80.600000</td>\n",
              "      <td>1.000000</td>\n",
              "      <td>67.420000</td>\n",
              "      <td>1.000000</td>\n",
              "      <td>3.080000</td>\n",
              "      <td>56.450000</td>\n",
              "      <td>7.750000</td>\n",
              "      <td>38.030000</td>\n",
              "      <td>36.100000</td>\n",
              "      <td>76.100000</td>\n",
              "    </tr>\n",
              "    <tr>\n",
              "      <th>25%</th>\n",
              "      <td>45.370000</td>\n",
              "      <td>607.000000</td>\n",
              "      <td>115.430000</td>\n",
              "      <td>0.000000</td>\n",
              "      <td>33.000000</td>\n",
              "      <td>205.300000</td>\n",
              "      <td>3940.000000</td>\n",
              "      <td>166.950000</td>\n",
              "      <td>7880.000000</td>\n",
              "      <td>7.830000</td>\n",
              "      <td>140.520000</td>\n",
              "      <td>22.620000</td>\n",
              "      <td>96.750000</td>\n",
              "      <td>91.670000</td>\n",
              "      <td>193.620000</td>\n",
              "    </tr>\n",
              "    <tr>\n",
              "      <th>50%</th>\n",
              "      <td>50.280000</td>\n",
              "      <td>1418.000000</td>\n",
              "      <td>128.850000</td>\n",
              "      <td>0.000000</td>\n",
              "      <td>42.000000</td>\n",
              "      <td>231.980000</td>\n",
              "      <td>7919.000000</td>\n",
              "      <td>187.850000</td>\n",
              "      <td>15829.000000</td>\n",
              "      <td>8.850000</td>\n",
              "      <td>157.500000</td>\n",
              "      <td>25.050000</td>\n",
              "      <td>107.680000</td>\n",
              "      <td>102.000000</td>\n",
              "      <td>218.470000</td>\n",
              "    </tr>\n",
              "    <tr>\n",
              "      <th>75%</th>\n",
              "      <td>57.000000</td>\n",
              "      <td>2601.000000</td>\n",
              "      <td>147.700000</td>\n",
              "      <td>1.000000</td>\n",
              "      <td>50.000000</td>\n",
              "      <td>272.200000</td>\n",
              "      <td>11893.000000</td>\n",
              "      <td>219.370000</td>\n",
              "      <td>23785.000000</td>\n",
              "      <td>10.380000</td>\n",
              "      <td>182.200000</td>\n",
              "      <td>28.400000</td>\n",
              "      <td>122.680000</td>\n",
              "      <td>116.150000</td>\n",
              "      <td>256.570000</td>\n",
              "    </tr>\n",
              "    <tr>\n",
              "      <th>max</th>\n",
              "      <td>112.380000</td>\n",
              "      <td>6979.000000</td>\n",
              "      <td>289.020000</td>\n",
              "      <td>1.000000</td>\n",
              "      <td>81.000000</td>\n",
              "      <td>538.880000</td>\n",
              "      <td>17575.000000</td>\n",
              "      <td>449.330000</td>\n",
              "      <td>31931.000000</td>\n",
              "      <td>20.570000</td>\n",
              "      <td>376.380000</td>\n",
              "      <td>86.950000</td>\n",
              "      <td>236.670000</td>\n",
              "      <td>224.350000</td>\n",
              "      <td>508.350000</td>\n",
              "    </tr>\n",
              "  </tbody>\n",
              "</table>\n",
              "</div>"
            ],
            "text/plain": [
              "                10k      division           25k        gender           age  \\\n",
              "count  31649.000000  31649.000000  31649.000000  31649.000000  31649.000000   \n",
              "mean      51.629039   1922.747291    133.581175      0.447565     42.385067   \n",
              "std        8.710102   1704.843679     25.571480      0.497251     11.299795   \n",
              "min       16.620000      1.000000     45.800000      0.000000     18.000000   \n",
              "25%       45.370000    607.000000    115.430000      0.000000     33.000000   \n",
              "50%       50.280000   1418.000000    128.850000      0.000000     42.000000   \n",
              "75%       57.000000   2601.000000    147.700000      1.000000     50.000000   \n",
              "max      112.380000   6979.000000    289.020000      1.000000     81.000000   \n",
              "\n",
              "           official     genderdiv           35k       overall          pace  \\\n",
              "count  31649.000000  31649.000000  31649.000000  31649.000000  31649.000000   \n",
              "mean     241.952383   8002.921988    196.033373  15833.958924      9.236463   \n",
              "std       50.842552   4733.255987     40.775036   9182.223743      1.939150   \n",
              "min       80.600000      1.000000     67.420000      1.000000      3.080000   \n",
              "25%      205.300000   3940.000000    166.950000   7880.000000      7.830000   \n",
              "50%      231.980000   7919.000000    187.850000  15829.000000      8.850000   \n",
              "75%      272.200000  11893.000000    219.370000  23785.000000     10.380000   \n",
              "max      538.880000  17575.000000    449.330000  31931.000000     20.570000   \n",
              "\n",
              "                30k            5k          half           20k           40k  \n",
              "count  31649.000000  31649.000000  31649.000000  31649.000000  31649.000000  \n",
              "mean     163.894883     25.678261    111.211481    105.321404    228.189990  \n",
              "std       32.889354      4.215381     20.306387     19.159500     48.074493  \n",
              "min       56.450000      7.750000     38.030000     36.100000     76.100000  \n",
              "25%      140.520000     22.620000     96.750000     91.670000    193.620000  \n",
              "50%      157.500000     25.050000    107.680000    102.000000    218.470000  \n",
              "75%      182.200000     28.400000    122.680000    116.150000    256.570000  \n",
              "max      376.380000     86.950000    236.670000    224.350000    508.350000  "
            ]
          },
          "metadata": {
            "tags": []
          },
          "execution_count": 9
        }
      ]
    },
    {
      "metadata": {
        "id": "sT_Dl43UFn3e",
        "colab_type": "code",
        "colab": {
          "base_uri": "https://localhost:8080/",
          "height": 398
        },
        "outputId": "a4637985-8b94-413c-a384-a63aeb82e288"
      },
      "cell_type": "code",
      "source": [
        "corr = df.corr()\n",
        "sns.heatmap(corr)"
      ],
      "execution_count": 8,
      "outputs": [
        {
          "output_type": "execute_result",
          "data": {
            "text/plain": [
              "<matplotlib.axes._subplots.AxesSubplot at 0x7f73b38a5470>"
            ]
          },
          "metadata": {
            "tags": []
          },
          "execution_count": 8
        },
        {
          "output_type": "display_data",
          "data": {
            "image/png": "[encoded data removed]",
            "text/plain": [
              "<Figure size 576x396 with 2 Axes>"
            ]
          },
          "metadata": {
            "tags": []
          }
        }
      ]
    },
    {
      "metadata": {
        "id": "juhaqETh9DGQ",
        "colab_type": "code",
        "colab": {}
      },
      "cell_type": "code",
      "source": [
        "X = df[['5k','10k','25k','30k','35k','40k','half','official','pace','overall','age','division','genderdiv']]\n",
        "y = df['gender']\n"
      ],
      "execution_count": 0,
      "outputs": []
    },
    {
      "metadata": {
        "id": "jlTt0LWhCoEY",
        "colab_type": "text"
      },
      "cell_type": "markdown",
      "source": [
        "## K-Means "
      ]
    },
    {
      "metadata": {
        "id": "7PBlTgGZE2O0",
        "colab_type": "code",
        "colab": {
          "base_uri": "https://localhost:8080/",
          "height": 376
        },
        "outputId": "a76f28e0-c6df-48f5-9ce0-749ec3ab4205"
      },
      "cell_type": "code",
      "source": [
        "# Normalize the data.\n",
        "X_norm = normalize(X)\n",
        "\n",
        "distortions = []\n",
        "K = range(1,10)\n",
        "for k in K:\n",
        "    kmeanModel = KMeans(n_clusters=k).fit(X_norm)\n",
        "    kmeanModel.fit(X_norm)\n",
        "    distortions.append(sum(np.min(cdist(X_norm, kmeanModel.cluster_centers_, 'euclidean'), axis=1)) / X_norm.shape[0])\n",
        "# Plot the elbow\n",
        "plt.plot(K, distortions, 'bx-')\n",
        "plt.xlabel('k')\n",
        "plt.ylabel('Distortion')\n",
        "plt.title('Elbow Method for optimal k')\n",
        "plt.show()"
      ],
      "execution_count": 14,
      "outputs": [
        {
          "output_type": "display_data",
          "data": {
            "image/png": "[encoded data removed]",
            "text/plain": [
              "<Figure size 576x396 with 1 Axes>"
            ]
          },
          "metadata": {
            "tags": []
          }
        }
      ]
    },
    {
      "metadata": {
        "id": "N90vPSE-CpsD",
        "colab_type": "code",
        "colab": {
          "base_uri": "https://localhost:8080/",
          "height": 84
        },
        "outputId": "9f7027d5-6ab0-4eca-e23d-75c01509e07c"
      },
      "cell_type": "code",
      "source": [
        "for n_cluster in range(2, 6):\n",
        "    kmeans = KMeans(n_clusters=n_cluster).fit(X_norm)\n",
        "    labels = kmeans.labels_\n",
        "    sil_coeff = silhouette_score(X, labels, metric='euclidean')\n",
        "    print(\"For {} clusters, our Silhouette Coefficient is {}\".format(n_cluster, sil_coeff))"
      ],
      "execution_count": 15,
      "outputs": [
        {
          "output_type": "stream",
          "text": [
            "For 2 clusters, our Silhouette Coefficient is 0.3481365506349887\n",
            "For 3 clusters, our Silhouette Coefficient is 0.010603189046789164\n",
            "For 4 clusters, our Silhouette Coefficient is -0.06569106409373096\n",
            "For 5 clusters, our Silhouette Coefficient is -0.022915380061776965\n"
          ],
          "name": "stdout"
        }
      ]
    },
    {
      "metadata": {
        "id": "FIis9CgdStcY",
        "colab_type": "text"
      },
      "cell_type": "markdown",
      "source": [
        "Looks like the best cluster here is 2 showcased both from the Elbow method and Silhouette score. "
      ]
    },
    {
      "metadata": {
        "id": "Tg0xnB86Do1_",
        "colab_type": "code",
        "colab": {
          "base_uri": "https://localhost:8080/",
          "height": 34
        },
        "outputId": "8b757f82-eea5-464f-b841-468389ea81d5"
      },
      "cell_type": "code",
      "source": [
        "    bandwidth = estimate_bandwidth(X, quantile=0.2, n_samples=500)\n",
        "    #Declare and fit the model.\n",
        "    ms = MeanShift(bandwidth=bandwidth, bin_seeding=True)\n",
        "    ms.fit(X)   \n",
        "    # Extract cluster assignments for each data point.\n",
        "    labels = ms.labels_\n",
        "    cluster_centers = ms.cluster_centers_\n",
        "    # Count our clusters.\n",
        "    n_clusters_ = len(np.unique(labels))\n",
        "    # Get silhouette score \n",
        "    sil_coeff = silhouette_score(X,labels,metric='euclidean')\n",
        "    print(\"For {} clusters, our Silhouette Coefficient is {}\".format(n_clusters_, sil_coeff))"
      ],
      "execution_count": 16,
      "outputs": [
        {
          "output_type": "stream",
          "text": [
            "For 3 clusters, our Silhouette Coefficient is 0.4618019723855221\n"
          ],
          "name": "stdout"
        }
      ]
    },
    {
      "metadata": {
        "id": "2NuFvwjtduvY",
        "colab_type": "text"
      },
      "cell_type": "markdown",
      "source": [
        "Seems that our Mean Shift model outperforms our KMeans with a Silhouette of .46 for 3 clusters. "
      ]
    },
    {
      "metadata": {
        "id": "L9-ctGJxZ8gD",
        "colab_type": "code",
        "colab": {}
      },
      "cell_type": "code",
      "source": [
        "#session keeps crashing when run this cell? \n",
        "for n_cluster in range(2, 6):\n",
        "  sc = SpectralClustering(n_clusters=n_cluster).fit(X)\n",
        "  labels = sc.labels_\n",
        "  sil_coeff = silhouette_score(X, labels, metric='euclidean')\n",
        "  print(\"For {} clusters, our Silhouette Coefficient is {}\".format(n_cluster, sil_coeff))"
      ],
      "execution_count": 0,
      "outputs": []
    },
    {
      "metadata": {
        "id": "UphCjIcmiynL",
        "colab_type": "code",
        "colab": {
          "base_uri": "https://localhost:8080/",
          "height": 229
        },
        "outputId": "1cb82b76-7906-419a-928b-5f57a9bc7059"
      },
      "cell_type": "code",
      "source": [
        "#session crashes after execution of this cell as well \n",
        "af = AffinityPropagation().fit(X)\n",
        "# Pull the number of clusters and cluster assignments for each data point.\n",
        "cluster_centers_indices = af.cluster_centers_indices_\n",
        "n_clusters_ = len(cluster_centers_indices)\n",
        "labels = af.labels_\n",
        "sil_coeff = silhouette_score(X, labels, metric='euclidean')\n",
        "print(\"For {} clusters, our Silhouette Coefficient is {}\".format(n_cluster, sil_coeff))"
      ],
      "execution_count": 1,
      "outputs": [
        {
          "output_type": "error",
          "ename": "NameError",
          "evalue": "ignored",
          "traceback": [
            "\u001b[0;31m---------------------------------------------------------------------------\u001b[0m",
            "\u001b[0;31mNameError\u001b[0m                                 Traceback (most recent call last)",
            "\u001b[0;32m<ipython-input-1-aa4a8ea551ae>\u001b[0m in \u001b[0;36m<module>\u001b[0;34m()\u001b[0m\n\u001b[1;32m      1\u001b[0m \u001b[0;34m\u001b[0m\u001b[0m\n\u001b[0;32m----> 2\u001b[0;31m \u001b[0maf\u001b[0m \u001b[0;34m=\u001b[0m \u001b[0mAffinityPropagation\u001b[0m\u001b[0;34m(\u001b[0m\u001b[0;34m)\u001b[0m\u001b[0;34m.\u001b[0m\u001b[0mfit\u001b[0m\u001b[0;34m(\u001b[0m\u001b[0mX\u001b[0m\u001b[0;34m)\u001b[0m\u001b[0;34m\u001b[0m\u001b[0;34m\u001b[0m\u001b[0m\n\u001b[0m\u001b[1;32m      3\u001b[0m \u001b[0;31m# Pull the number of clusters and cluster assignments for each data point.\u001b[0m\u001b[0;34m\u001b[0m\u001b[0;34m\u001b[0m\u001b[0;34m\u001b[0m\u001b[0m\n\u001b[1;32m      4\u001b[0m \u001b[0mcluster_centers_indices\u001b[0m \u001b[0;34m=\u001b[0m \u001b[0maf\u001b[0m\u001b[0;34m.\u001b[0m\u001b[0mcluster_centers_indices_\u001b[0m\u001b[0;34m\u001b[0m\u001b[0;34m\u001b[0m\u001b[0m\n\u001b[1;32m      5\u001b[0m \u001b[0mn_clusters_\u001b[0m \u001b[0;34m=\u001b[0m \u001b[0mlen\u001b[0m\u001b[0;34m(\u001b[0m\u001b[0mcluster_centers_indices\u001b[0m\u001b[0;34m)\u001b[0m\u001b[0;34m\u001b[0m\u001b[0;34m\u001b[0m\u001b[0m\n",
            "\u001b[0;31mNameError\u001b[0m: name 'AffinityPropagation' is not defined"
          ]
        }
      ]
    },
    {
      "metadata": {
        "id": "nov2RmwnpZ7q",
        "colab_type": "code",
        "colab": {}
      },
      "cell_type": "code",
      "source": [
        ""
      ],
      "execution_count": 0,
      "outputs": []
    }
  ]
}