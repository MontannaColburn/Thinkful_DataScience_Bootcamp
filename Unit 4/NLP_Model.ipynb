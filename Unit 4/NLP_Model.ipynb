{
  "nbformat": 4,
  "nbformat_minor": 0,
  "metadata": {
    "colab": {
      "name": "NLP Model",
      "version": "0.3.2",
      "provenance": []
    },
    "kernelspec": {
      "name": "python3",
      "display_name": "Python 3"
    },
    "accelerator": "GPU"
  },
  "cells": [
    {
      "metadata": {
        "id": "QiBGR79lGaVV",
        "colab_type": "code",
        "outputId": "71b025f1-c415-49fe-8dcb-3f79d0ad917e",
        "colab": {
          "base_uri": "https://localhost:8080/",
          "height": 50
        }
      },
      "cell_type": "code",
      "source": [
        "#Basic imports \n",
        "%matplotlib inline\n",
        "import numpy as np\n",
        "import pandas as pd\n",
        "import scipy\n",
        "import sklearn\n",
        "import matplotlib.pyplot as plt\n",
        "import seaborn as sns\n",
        "import re\n",
        "\n",
        "#NLP imports \n",
        "import nltk\n",
        "nltk.download('stopwords')\n",
        "from nltk.corpus import stopwords\n",
        "\n",
        "import spacy\n",
        "spacy.load('en')\n",
        "\n",
        "# Feature Creations \n",
        "from sklearn.feature_extraction.text import TfidfVectorizer\n",
        "from sklearn.feature_extraction.text import CountVectorizer\n",
        "\n",
        "#Dimension Reduction \n",
        "from sklearn.decomposition import TruncatedSVD, PCA\n",
        "from sklearn.pipeline import make_pipeline, Pipeline\n",
        "from sklearn.preprocessing import Normalizer\n",
        "\n",
        "#Model Imports \n",
        "from sklearn import ensemble\n",
        "from sklearn.model_selection import train_test_split, cross_val_score\n",
        "from sklearn.model_selection import RandomizedSearchCV \n",
        "from sklearn.linear_model import LogisticRegression\n",
        "from sklearn.ensemble import RandomForestClassifier\n",
        "import xgboost as xgb\n",
        "from xgboost.sklearn import XGBClassifier\n",
        "\n",
        "#Time\n",
        "import time "
      ],
      "execution_count": 0,
      "outputs": [
        {
          "output_type": "stream",
          "text": [
            "[nltk_data] Downloading package stopwords to /root/nltk_data...\n",
            "[nltk_data]   Package stopwords is already up-to-date!\n"
          ],
          "name": "stdout"
        }
      ]
    },
    {
      "metadata": {
        "id": "LQ6vMEl0HrPW",
        "colab_type": "code",
        "colab": {}
      },
      "cell_type": "code",
      "source": [
        "df = pd.read_csv('https://www.dropbox.com/s/d4ye48a67tth2ae/Reviews.csv?dl=1')"
      ],
      "execution_count": 0,
      "outputs": []
    },
    {
      "metadata": {
        "id": "539YrJZ3JK7t",
        "colab_type": "code",
        "outputId": "ab6f8727-10ca-4e3c-f54b-73ab7367d7dd",
        "colab": {
          "base_uri": "https://localhost:8080/",
          "height": 196
        }
      },
      "cell_type": "code",
      "source": [
        "#drop uneccessary columns \n",
        "df.drop(['Id','ProductId','UserId','ProfileName','HelpfulnessNumerator','HelpfulnessDenominator','Time', 'Summary'],axis=1,inplace=True)\n",
        "df.head()"
      ],
      "execution_count": 0,
      "outputs": [
        {
          "output_type": "execute_result",
          "data": {
            "text/html": [
              "<div>\n",
              "<style scoped>\n",
              "    .dataframe tbody tr th:only-of-type {\n",
              "        vertical-align: middle;\n",
              "    }\n",
              "\n",
              "    .dataframe tbody tr th {\n",
              "        vertical-align: top;\n",
              "    }\n",
              "\n",
              "    .dataframe thead th {\n",
              "        text-align: right;\n",
              "    }\n",
              "</style>\n",
              "<table border=\"1\" class=\"dataframe\">\n",
              "  <thead>\n",
              "    <tr style=\"text-align: right;\">\n",
              "      <th></th>\n",
              "      <th>Score</th>\n",
              "      <th>Text</th>\n",
              "    </tr>\n",
              "  </thead>\n",
              "  <tbody>\n",
              "    <tr>\n",
              "      <th>0</th>\n",
              "      <td>5</td>\n",
              "      <td>I have bought several of the Vitality canned d...</td>\n",
              "    </tr>\n",
              "    <tr>\n",
              "      <th>1</th>\n",
              "      <td>1</td>\n",
              "      <td>Product arrived labeled as Jumbo Salted Peanut...</td>\n",
              "    </tr>\n",
              "    <tr>\n",
              "      <th>2</th>\n",
              "      <td>4</td>\n",
              "      <td>This is a confection that has been around a fe...</td>\n",
              "    </tr>\n",
              "    <tr>\n",
              "      <th>3</th>\n",
              "      <td>2</td>\n",
              "      <td>If you are looking for the secret ingredient i...</td>\n",
              "    </tr>\n",
              "    <tr>\n",
              "      <th>4</th>\n",
              "      <td>5</td>\n",
              "      <td>Great taffy at a great price.  There was a wid...</td>\n",
              "    </tr>\n",
              "  </tbody>\n",
              "</table>\n",
              "</div>"
            ],
            "text/plain": [
              "   Score                                               Text\n",
              "0      5  I have bought several of the Vitality canned d...\n",
              "1      1  Product arrived labeled as Jumbo Salted Peanut...\n",
              "2      4  This is a confection that has been around a fe...\n",
              "3      2  If you are looking for the secret ingredient i...\n",
              "4      5  Great taffy at a great price.  There was a wid..."
            ]
          },
          "metadata": {
            "tags": []
          },
          "execution_count": 72
        }
      ]
    },
    {
      "metadata": {
        "id": "153OctxzJ_2V",
        "colab_type": "code",
        "outputId": "34e3c313-149f-4b56-8242-13c32fbc0dc1",
        "colab": {
          "base_uri": "https://localhost:8080/",
          "height": 134
        }
      },
      "cell_type": "code",
      "source": [
        "df.info()"
      ],
      "execution_count": 0,
      "outputs": [
        {
          "output_type": "stream",
          "text": [
            "<class 'pandas.core.frame.DataFrame'>\n",
            "RangeIndex: 568454 entries, 0 to 568453\n",
            "Data columns (total 2 columns):\n",
            "Score    568454 non-null int64\n",
            "Text     568454 non-null object\n",
            "dtypes: int64(1), object(1)\n",
            "memory usage: 8.7+ MB\n"
          ],
          "name": "stdout"
        }
      ]
    },
    {
      "metadata": {
        "id": "EA2MTL7xKVTg",
        "colab_type": "code",
        "outputId": "0015592d-3603-4ec5-c4c5-472e72d06057",
        "colab": {
          "base_uri": "https://localhost:8080/",
          "height": 67
        }
      },
      "cell_type": "code",
      "source": [
        "df.isnull().sum()"
      ],
      "execution_count": 0,
      "outputs": [
        {
          "output_type": "execute_result",
          "data": {
            "text/plain": [
              "Score    0\n",
              "Text     0\n",
              "dtype: int64"
            ]
          },
          "metadata": {
            "tags": []
          },
          "execution_count": 74
        }
      ]
    },
    {
      "metadata": {
        "id": "0_5c48k8VVIf",
        "colab_type": "code",
        "colab": {}
      },
      "cell_type": "code",
      "source": [
        "# Remove duplicate reviews  \n",
        "df.drop_duplicates(subset=['Score','Text'],keep='first',inplace=True)  "
      ],
      "execution_count": 0,
      "outputs": []
    },
    {
      "metadata": {
        "id": "N6W9jrbGKZYp",
        "colab_type": "code",
        "outputId": "75535924-6d82-421d-a8e8-28ceab862276",
        "colab": {
          "base_uri": "https://localhost:8080/",
          "height": 117
        }
      },
      "cell_type": "code",
      "source": [
        "df.Score.value_counts()"
      ],
      "execution_count": 0,
      "outputs": [
        {
          "output_type": "execute_result",
          "data": {
            "text/plain": [
              "5    250745\n",
              "4     56074\n",
              "1     36280\n",
              "3     29772\n",
              "2     20804\n",
              "Name: Score, dtype: int64"
            ]
          },
          "metadata": {
            "tags": []
          },
          "execution_count": 76
        }
      ]
    },
    {
      "metadata": {
        "id": "8SZT9dyPKwFB",
        "colab_type": "code",
        "colab": {}
      },
      "cell_type": "code",
      "source": [
        "# Utility function to clean text.\n",
        "def text_cleaner(text):\n",
        "    \n",
        "    # Visual inspection shows spaCy does not recognize the double dash '--'.\n",
        "    \n",
        "    text = re.sub(r'--',' ',text)\n",
        "    \n",
        "    # Removes hyperlinks \n",
        "    text = re.sub(r'<a\\s+href=(?:\"([^\"]+)\"|\\'([^\\']+)\\').*?>(.*?)</a>',' ', text)\n",
        "    \n",
        "    # Get rid of extra whitespace.\n",
        "    text = ' '.join(text.split())\n",
        "    \n",
        "    text = text.lower()\n",
        "    \n",
        "    return text"
      ],
      "execution_count": 0,
      "outputs": []
    },
    {
      "metadata": {
        "id": "bEYnv5jYM3aO",
        "colab_type": "code",
        "colab": {}
      },
      "cell_type": "code",
      "source": [
        "df['Clean'] = df['Text'].apply(lambda x: text_cleaner(x))"
      ],
      "execution_count": 0,
      "outputs": []
    },
    {
      "metadata": {
        "id": "m1fC-WEkN7au",
        "colab_type": "code",
        "colab": {}
      },
      "cell_type": "code",
      "source": [
        "# Declare X and Y values\n",
        "X = df.Clean\n",
        "y = df.Score"
      ],
      "execution_count": 0,
      "outputs": []
    },
    {
      "metadata": {
        "id": "bJ47Dch422Ux",
        "colab_type": "code",
        "colab": {}
      },
      "cell_type": "code",
      "source": [
        "#split out training/test data \n",
        "X_train, X_test, y_train, y_test = train_test_split(X,y, test_size=0.2, random_state=0)\n",
        "\n",
        "#split training set again to test best params with reduce execution times \n",
        "X_train2, X_test2, y_train2, y_test2 = train_test_split(X_train,y_train, test_size=0.8, random_state=0)"
      ],
      "execution_count": 0,
      "outputs": []
    },
    {
      "metadata": {
        "id": "rGKMveUQNUiV",
        "colab_type": "code",
        "outputId": "7750c14a-37f3-4331-8d8d-182f07a24dd7",
        "colab": {
          "base_uri": "https://localhost:8080/",
          "height": 50
        }
      },
      "cell_type": "code",
      "source": [
        "# Display the shape to make sure the length is the same.\n",
        "print(X_train2.shape)\n",
        "print(y_train2.shape)"
      ],
      "execution_count": 0,
      "outputs": [
        {
          "output_type": "stream",
          "text": [
            "(62988,)\n",
            "(62988,)\n"
          ],
          "name": "stdout"
        }
      ]
    },
    {
      "metadata": {
        "id": "4vD8c6vydPts",
        "colab_type": "code",
        "colab": {}
      },
      "cell_type": "code",
      "source": [
        "# Lemmatize our text reviews to limit variations on same words\n",
        "\n",
        "stop_words = set(stopwords.words('english'))\n",
        "lemmatizer = spacy.lang.en.English()\n",
        "\n",
        "def lemmatize_sen(text):\n",
        "    tokens = lemmatizer(text) \n",
        "    return([token.lemma_ for token in tokens if token not in stop_words])"
      ],
      "execution_count": 0,
      "outputs": []
    },
    {
      "metadata": {
        "id": "Kqcn3ndzQRAo",
        "colab_type": "code",
        "outputId": "c8a320e5-13b3-4854-d314-d36ae244ef06",
        "colab": {
          "base_uri": "https://localhost:8080/",
          "height": 50
        }
      },
      "cell_type": "code",
      "source": [
        "# Setting max features to 1000 will choose the 1000 with the highest count.\n",
        "vectorizer = CountVectorizer(max_features=1000, tokenizer=lemmatize_sen)\n",
        "# Train the model and transform it\n",
        "X_train2_matrix = vectorizer.fit_transform(X_train2)\n",
        "\n",
        "X_train2_matrix"
      ],
      "execution_count": 0,
      "outputs": [
        {
          "output_type": "execute_result",
          "data": {
            "text/plain": [
              "<62988x1000 sparse matrix of type '<class 'numpy.int64'>'\n",
              "\twith 2994439 stored elements in Compressed Sparse Row format>"
            ]
          },
          "metadata": {
            "tags": []
          },
          "execution_count": 83
        }
      ]
    },
    {
      "metadata": {
        "id": "TGhN7mlyo32l",
        "colab_type": "code",
        "outputId": "67fef090-8ee2-4da2-df1a-9eb52fd87363",
        "colab": {
          "base_uri": "https://localhost:8080/",
          "height": 50
        }
      },
      "cell_type": "code",
      "source": [
        "# X_test\n",
        "X_test_matrix = vectorizer.transform(X_test)\n",
        "X_test_matrix"
      ],
      "execution_count": 0,
      "outputs": [
        {
          "output_type": "execute_result",
          "data": {
            "text/plain": [
              "<78735x1000 sparse matrix of type '<class 'numpy.int64'>'\n",
              "\twith 3727078 stored elements in Compressed Sparse Row format>"
            ]
          },
          "metadata": {
            "tags": []
          },
          "execution_count": 84
        }
      ]
    },
    {
      "metadata": {
        "id": "pGQ-cO-ep0xM",
        "colab_type": "text"
      },
      "cell_type": "markdown",
      "source": [
        "### Logisitc Regression Model"
      ]
    },
    {
      "metadata": {
        "id": "kVfYZdtPnGkV",
        "colab_type": "code",
        "outputId": "f1099c7b-0346-4248-bf93-1b88fdfa808d",
        "colab": {
          "base_uri": "https://localhost:8080/",
          "height": 204
        }
      },
      "cell_type": "code",
      "source": [
        "start_time = time.time()\n",
        "param_dist = {'penalty':['l1','l2'],\n",
        "                'C':[1,100,1000]}\n",
        "\n",
        "lr = LogisticRegression()\n",
        "\n",
        "random_search = RandomizedSearchCV(LogisticRegression(class_weight = 'balanced',random_state=0, n_jobs= -1), param_distributions=param_dist, n_iter=5)\n",
        "#Fit the Data\n",
        "random_search.fit(X_train2_matrix, y_train2)\n",
        "print(random_search.score(X_test_matrix, y_test))\n",
        "print(\"-- Execution time: %s seconds ---\" % (time.time() - start_time))"
      ],
      "execution_count": 0,
      "outputs": [
        {
          "output_type": "stream",
          "text": [
            "/usr/local/lib/python3.6/dist-packages/sklearn/model_selection/_split.py:2053: FutureWarning: You should specify a value for 'cv' instead of relying on the default value. The default value will change from 3 to 5 in version 0.22.\n",
            "  warnings.warn(CV_WARNING, FutureWarning)\n",
            "/usr/local/lib/python3.6/dist-packages/sklearn/linear_model/logistic.py:433: FutureWarning: Default solver will be changed to 'lbfgs' in 0.22. Specify a solver to silence this warning.\n",
            "  FutureWarning)\n",
            "/usr/local/lib/python3.6/dist-packages/sklearn/linear_model/logistic.py:460: FutureWarning: Default multi_class will be changed to 'auto' in 0.22. Specify the multi_class option to silence this warning.\n",
            "  \"this warning.\", FutureWarning)\n",
            "/usr/local/lib/python3.6/dist-packages/sklearn/linear_model/logistic.py:1300: UserWarning: 'n_jobs' > 1 does not have any effect when 'solver' is set to 'liblinear'. Got 'n_jobs' = 2.\n",
            "  \" = {}.\".format(effective_n_jobs(self.n_jobs)))\n"
          ],
          "name": "stderr"
        },
        {
          "output_type": "stream",
          "text": [
            "0.6808280942401728\n",
            "-- Execution time: 529.4680571556091 seconds ---\n"
          ],
          "name": "stdout"
        }
      ]
    },
    {
      "metadata": {
        "id": "4fTOqYS5q3g-",
        "colab_type": "code",
        "outputId": "8b41cf00-97a8-437b-82f4-384b04004a52",
        "colab": {
          "base_uri": "https://localhost:8080/",
          "height": 33
        }
      },
      "cell_type": "code",
      "source": [
        "random_search.best_params_"
      ],
      "execution_count": 0,
      "outputs": [
        {
          "output_type": "execute_result",
          "data": {
            "text/plain": [
              "{'C': 1, 'penalty': 'l1'}"
            ]
          },
          "metadata": {
            "tags": []
          },
          "execution_count": 86
        }
      ]
    },
    {
      "metadata": {
        "id": "g-ZTXObHq-d7",
        "colab_type": "code",
        "outputId": "82eacc3f-a219-4594-e36d-dc1b2c491145",
        "colab": {
          "base_uri": "https://localhost:8080/",
          "height": 217
        }
      },
      "cell_type": "code",
      "source": [
        "from sklearn.metrics import classification_report\n",
        "\n",
        "print(classification_report(y_test, random_search.predict(X_test_matrix)))"
      ],
      "execution_count": 0,
      "outputs": [
        {
          "output_type": "stream",
          "text": [
            "              precision    recall  f1-score   support\n",
            "\n",
            "           1       0.51      0.63      0.57      7335\n",
            "           2       0.23      0.25      0.24      4160\n",
            "           3       0.31      0.33      0.32      5980\n",
            "           4       0.39      0.27      0.32     11089\n",
            "           5       0.84      0.86      0.85     50171\n",
            "\n",
            "   micro avg       0.68      0.68      0.68     78735\n",
            "   macro avg       0.46      0.47      0.46     78735\n",
            "weighted avg       0.67      0.68      0.67     78735\n",
            "\n"
          ],
          "name": "stdout"
        }
      ]
    },
    {
      "metadata": {
        "id": "6L24msvtp3sV",
        "colab_type": "text"
      },
      "cell_type": "markdown",
      "source": [
        "### Random Forest Model"
      ]
    },
    {
      "metadata": {
        "id": "oeAN-O1NpzDl",
        "colab_type": "code",
        "outputId": "2321381a-9d1f-4be3-cf28-87a0d73dcf7c",
        "colab": {
          "base_uri": "https://localhost:8080/",
          "height": 104
        }
      },
      "cell_type": "code",
      "source": [
        "#need to re-run cell for max_depth optimization and n_estimators \n",
        "from scipy.stats import randint as sp_randint\n",
        "start_time = time.time()\n",
        "param_dist = {'n_estimators':[500,700,800],\n",
        "                'criterion':['entropy'],\n",
        "                'max_depth':[6,8,10],\n",
        "                'min_samples_split': [4],\n",
        "               'max_features':sp_randint(1, 11),\n",
        "              'bootstrap': [True]\n",
        "              }\n",
        "\n",
        "rf_random_search = RandomizedSearchCV(RandomForestClassifier(class_weight ='balanced_subsample', random_state=0), param_distributions=param_dist,\n",
        "                                   n_iter=10)\n",
        "#Fit the Data\n",
        "rf_random_search.fit(X_train2_matrix, y_train2)\n",
        "print(rf_random_search.score(X_test_matrix, y_test))\n",
        "print(\"-- Execution time: %s seconds ---\" % (time.time() - start_time))"
      ],
      "execution_count": 0,
      "outputs": [
        {
          "output_type": "stream",
          "text": [
            "/usr/local/lib/python3.6/dist-packages/sklearn/model_selection/_split.py:2053: FutureWarning: You should specify a value for 'cv' instead of relying on the default value. The default value will change from 3 to 5 in version 0.22.\n",
            "  warnings.warn(CV_WARNING, FutureWarning)\n"
          ],
          "name": "stderr"
        },
        {
          "output_type": "stream",
          "text": [
            "0.617971677144853\n",
            "-- Execution time: 877.2284212112427 seconds ---\n"
          ],
          "name": "stdout"
        }
      ]
    },
    {
      "metadata": {
        "id": "-gozGm8Vznoe",
        "colab_type": "code",
        "outputId": "01f194b8-5659-4f3d-9f67-c91a49a04576",
        "colab": {
          "base_uri": "https://localhost:8080/",
          "height": 117
        }
      },
      "cell_type": "code",
      "source": [
        "rf_random_search.best_params_"
      ],
      "execution_count": 0,
      "outputs": [
        {
          "output_type": "execute_result",
          "data": {
            "text/plain": [
              "{'bootstrap': True,\n",
              " 'criterion': 'entropy',\n",
              " 'max_depth': 10,\n",
              " 'max_features': 1,\n",
              " 'min_samples_split': 4,\n",
              " 'n_estimators': 800}"
            ]
          },
          "metadata": {
            "tags": []
          },
          "execution_count": 89
        }
      ]
    },
    {
      "metadata": {
        "id": "fXNBeTDI2TCe",
        "colab_type": "code",
        "outputId": "ffbff2f3-3c54-479f-ee41-6459d47f0c90",
        "colab": {
          "base_uri": "https://localhost:8080/",
          "height": 217
        }
      },
      "cell_type": "code",
      "source": [
        "print(classification_report(y_test, rf_random_search.predict(X_test_matrix)))"
      ],
      "execution_count": 0,
      "outputs": [
        {
          "output_type": "stream",
          "text": [
            "              precision    recall  f1-score   support\n",
            "\n",
            "           1       0.43      0.62      0.51      7335\n",
            "           2       0.23      0.13      0.16      4160\n",
            "           3       0.23      0.27      0.24      5980\n",
            "           4       0.28      0.25      0.27     11089\n",
            "           5       0.80      0.78      0.79     50171\n",
            "\n",
            "   micro avg       0.62      0.62      0.62     78735\n",
            "   macro avg       0.40      0.41      0.40     78735\n",
            "weighted avg       0.62      0.62      0.62     78735\n",
            "\n"
          ],
          "name": "stdout"
        }
      ]
    },
    {
      "metadata": {
        "id": "2hIOAbiVp8ET",
        "colab_type": "text"
      },
      "cell_type": "markdown",
      "source": [
        "### XGBoost Model"
      ]
    },
    {
      "metadata": {
        "id": "Ha6XruI8pzO0",
        "colab_type": "code",
        "outputId": "065adac4-3b0f-46d5-c00a-ffe6268e1186",
        "colab": {
          "base_uri": "https://localhost:8080/",
          "height": 104
        }
      },
      "cell_type": "code",
      "source": [
        "from scipy.stats import randint as sp_randint\n",
        "start_time = time.time()\n",
        "param_dist = {'max_depth':[5,7,9],\n",
        "              'subsample':[0.5,0.7,0.9],\n",
        "              'colsample_bytree': [0.5,0.7,0.9],\n",
        "            'colsample_bylevel':[0.5,0.7,0.9]\n",
        "              }\n",
        "#scale_pos_weight \n",
        "xgb_random_search = RandomizedSearchCV(xgb.XGBClassifier(learning_rate =.01, random_state=0), param_distributions=param_dist,\n",
        "                                   n_iter=10)\n",
        "#Fit the Data\n",
        "xgb_random_search.fit(X_train2_matrix, y_train2)\n",
        "print(xgb_random_search.score(X_test_matrix, y_test))\n",
        "print(\"-- Execution time: %s seconds ---\" % (time.time() - start_time))"
      ],
      "execution_count": 0,
      "outputs": [
        {
          "output_type": "stream",
          "text": [
            "/usr/local/lib/python3.6/dist-packages/sklearn/model_selection/_split.py:2053: FutureWarning: You should specify a value for 'cv' instead of relying on the default value. The default value will change from 3 to 5 in version 0.22.\n",
            "  warnings.warn(CV_WARNING, FutureWarning)\n"
          ],
          "name": "stderr"
        },
        {
          "output_type": "stream",
          "text": [
            "0.6678605448656887\n",
            "-- Execution time: 3249.2764225006104 seconds ---\n"
          ],
          "name": "stdout"
        }
      ]
    },
    {
      "metadata": {
        "id": "lGYg3S4A2bcP",
        "colab_type": "code",
        "outputId": "66a689b1-8aba-4e50-d952-f8c313939bc2",
        "colab": {
          "base_uri": "https://localhost:8080/",
          "height": 84
        }
      },
      "cell_type": "code",
      "source": [
        "xgb_random_search.best_params_"
      ],
      "execution_count": 0,
      "outputs": [
        {
          "output_type": "execute_result",
          "data": {
            "text/plain": [
              "{'colsample_bylevel': 0.7,\n",
              " 'colsample_bytree': 0.9,\n",
              " 'max_depth': 9,\n",
              " 'subsample': 0.7}"
            ]
          },
          "metadata": {
            "tags": []
          },
          "execution_count": 92
        }
      ]
    },
    {
      "metadata": {
        "id": "NM67LTF72blZ",
        "colab_type": "code",
        "outputId": "bc1e402b-caeb-4aa1-fc57-82394972df5a",
        "colab": {
          "base_uri": "https://localhost:8080/",
          "height": 217
        }
      },
      "cell_type": "code",
      "source": [
        "print(classification_report(y_test, xgb_random_search.predict(X_test_matrix)))"
      ],
      "execution_count": 0,
      "outputs": [
        {
          "output_type": "stream",
          "text": [
            "              precision    recall  f1-score   support\n",
            "\n",
            "           1       0.69      0.18      0.29      7335\n",
            "           2       0.30      0.01      0.01      4160\n",
            "           3       0.48      0.09      0.15      5980\n",
            "           4       0.53      0.09      0.15     11089\n",
            "           5       0.67      0.99      0.80     50171\n",
            "\n",
            "   micro avg       0.67      0.67      0.67     78735\n",
            "   macro avg       0.54      0.27      0.28     78735\n",
            "weighted avg       0.62      0.67      0.57     78735\n",
            "\n"
          ],
          "name": "stdout"
        }
      ]
    },
    {
      "metadata": {
        "id": "VIaHE_aAnHGl",
        "colab_type": "text"
      },
      "cell_type": "markdown",
      "source": [
        "## Model #2"
      ]
    },
    {
      "metadata": {
        "id": "f0cxBdSoUkaK",
        "colab_type": "code",
        "outputId": "3fc8799b-228b-4d99-d605-e748dc570013",
        "colab": {
          "base_uri": "https://localhost:8080/",
          "height": 196
        }
      },
      "cell_type": "code",
      "source": [
        "df2 = df.copy()\n",
        "df2.head()"
      ],
      "execution_count": 0,
      "outputs": [
        {
          "output_type": "execute_result",
          "data": {
            "text/html": [
              "<div>\n",
              "<style scoped>\n",
              "    .dataframe tbody tr th:only-of-type {\n",
              "        vertical-align: middle;\n",
              "    }\n",
              "\n",
              "    .dataframe tbody tr th {\n",
              "        vertical-align: top;\n",
              "    }\n",
              "\n",
              "    .dataframe thead th {\n",
              "        text-align: right;\n",
              "    }\n",
              "</style>\n",
              "<table border=\"1\" class=\"dataframe\">\n",
              "  <thead>\n",
              "    <tr style=\"text-align: right;\">\n",
              "      <th></th>\n",
              "      <th>Score</th>\n",
              "      <th>Text</th>\n",
              "      <th>Clean</th>\n",
              "    </tr>\n",
              "  </thead>\n",
              "  <tbody>\n",
              "    <tr>\n",
              "      <th>0</th>\n",
              "      <td>5</td>\n",
              "      <td>I have bought several of the Vitality canned d...</td>\n",
              "      <td>i have bought several of the vitality canned d...</td>\n",
              "    </tr>\n",
              "    <tr>\n",
              "      <th>1</th>\n",
              "      <td>1</td>\n",
              "      <td>Product arrived labeled as Jumbo Salted Peanut...</td>\n",
              "      <td>product arrived labeled as jumbo salted peanut...</td>\n",
              "    </tr>\n",
              "    <tr>\n",
              "      <th>2</th>\n",
              "      <td>4</td>\n",
              "      <td>This is a confection that has been around a fe...</td>\n",
              "      <td>this is a confection that has been around a fe...</td>\n",
              "    </tr>\n",
              "    <tr>\n",
              "      <th>3</th>\n",
              "      <td>2</td>\n",
              "      <td>If you are looking for the secret ingredient i...</td>\n",
              "      <td>if you are looking for the secret ingredient i...</td>\n",
              "    </tr>\n",
              "    <tr>\n",
              "      <th>4</th>\n",
              "      <td>5</td>\n",
              "      <td>Great taffy at a great price.  There was a wid...</td>\n",
              "      <td>great taffy at a great price. there was a wide...</td>\n",
              "    </tr>\n",
              "  </tbody>\n",
              "</table>\n",
              "</div>"
            ],
            "text/plain": [
              "   Score                                               Text  \\\n",
              "0      5  I have bought several of the Vitality canned d...   \n",
              "1      1  Product arrived labeled as Jumbo Salted Peanut...   \n",
              "2      4  This is a confection that has been around a fe...   \n",
              "3      2  If you are looking for the secret ingredient i...   \n",
              "4      5  Great taffy at a great price.  There was a wid...   \n",
              "\n",
              "                                               Clean  \n",
              "0  i have bought several of the vitality canned d...  \n",
              "1  product arrived labeled as jumbo salted peanut...  \n",
              "2  this is a confection that has been around a fe...  \n",
              "3  if you are looking for the secret ingredient i...  \n",
              "4  great taffy at a great price. there was a wide...  "
            ]
          },
          "metadata": {
            "tags": []
          },
          "execution_count": 94
        }
      ]
    },
    {
      "metadata": {
        "id": "gDncxQX2WCwT",
        "colab_type": "code",
        "colab": {}
      },
      "cell_type": "code",
      "source": [
        "#create training/test sets\n",
        "X = df2.Clean\n",
        "y = df2.Score\n",
        "\n",
        "#split out training/test data \n",
        "X_train, X_test, y_train, y_test = train_test_split(X,y, test_size=0.2, random_state=0)\n",
        "\n",
        "#split training set again to test best params with reduce execution times \n",
        "X_train2, X_test2, y_train2, y_test2 = train_test_split(X_train,y_train, test_size=0.8, random_state=0)"
      ],
      "execution_count": 0,
      "outputs": []
    },
    {
      "metadata": {
        "id": "F-CSm4r3AF9Q",
        "colab_type": "code",
        "outputId": "871590de-c78e-4d5c-c43b-b91939db1c55",
        "colab": {
          "base_uri": "https://localhost:8080/",
          "height": 50
        }
      },
      "cell_type": "code",
      "source": [
        "vectorizer = TfidfVectorizer(max_df=0.5, # drop words that occur in more than half the paragraphs\n",
        "                             min_df=2, # only use words that appear at least twice\n",
        "                             lowercase=True, #convert everything to lower case\n",
        "                             use_idf=True,#we definitely want to use inverse document frequencies in our weighting\n",
        "                             norm=u'l2', #Applies a correction factor so that longer paragraphs and shorter paragraphs get treated equally\n",
        "                             smooth_idf=True, #Adds 1 to all document frequencies, as if an extra document existed that used every word once.  Prevents divide-by-zero errors\n",
        "                             tokenizer=lemmatize_sen)\n",
        "\n",
        "\n",
        "#Applying the vectorizer\n",
        "tfidf_X_train2_matrix = vectorizer.fit_transform(X_train2)\n",
        "\n",
        "tfidf_X_train2_matrix"
      ],
      "execution_count": 0,
      "outputs": [
        {
          "output_type": "execute_result",
          "data": {
            "text/plain": [
              "<62988x25634 sparse matrix of type '<class 'numpy.float64'>'\n",
              "\twith 2852791 stored elements in Compressed Sparse Row format>"
            ]
          },
          "metadata": {
            "tags": []
          },
          "execution_count": 98
        }
      ]
    },
    {
      "metadata": {
        "id": "LjV2KXTTA2cU",
        "colab_type": "code",
        "outputId": "6538395d-2943-4105-cf1c-a66c4050d5ac",
        "colab": {
          "base_uri": "https://localhost:8080/",
          "height": 50
        }
      },
      "cell_type": "code",
      "source": [
        "# Apply to X test\n",
        "tfidf_X_test_matrix = vectorizer.transform(X_test)\n",
        "\n",
        "tfidf_X_test_matrix"
      ],
      "execution_count": 0,
      "outputs": [
        {
          "output_type": "execute_result",
          "data": {
            "text/plain": [
              "<78735x25634 sparse matrix of type '<class 'numpy.float64'>'\n",
              "\twith 3530659 stored elements in Compressed Sparse Row format>"
            ]
          },
          "metadata": {
            "tags": []
          },
          "execution_count": 99
        }
      ]
    },
    {
      "metadata": {
        "id": "13C9tWcyGIte",
        "colab_type": "text"
      },
      "cell_type": "markdown",
      "source": [
        "### Logistic Regression 2"
      ]
    },
    {
      "metadata": {
        "id": "dvYjpYeEF6BS",
        "colab_type": "code",
        "outputId": "235486f7-b054-4a04-83e0-9e4ab72a7ce3",
        "colab": {
          "base_uri": "https://localhost:8080/",
          "height": 204
        }
      },
      "cell_type": "code",
      "source": [
        "start_time = time.time()\n",
        "param_dist = {'penalty':['l1','l2'],\n",
        "                'C':[1,100,1000]}\n",
        "\n",
        "lr = LogisticRegression()\n",
        "\n",
        "random_search = RandomizedSearchCV(LogisticRegression(class_weight = 'balanced',random_state=0, n_jobs= -1), param_distributions=param_dist, n_iter=5)\n",
        "#Fit the Data\n",
        "random_search.fit(tfidf_X_train2_matrix, y_train2)\n",
        "print(random_search.score(tfidf_X_test_matrix, y_test))\n",
        "print(\"-- Execution time: %s seconds ---\" % (time.time() - start_time))"
      ],
      "execution_count": 0,
      "outputs": [
        {
          "output_type": "stream",
          "text": [
            "/usr/local/lib/python3.6/dist-packages/sklearn/model_selection/_split.py:2053: FutureWarning: You should specify a value for 'cv' instead of relying on the default value. The default value will change from 3 to 5 in version 0.22.\n",
            "  warnings.warn(CV_WARNING, FutureWarning)\n",
            "/usr/local/lib/python3.6/dist-packages/sklearn/linear_model/logistic.py:433: FutureWarning: Default solver will be changed to 'lbfgs' in 0.22. Specify a solver to silence this warning.\n",
            "  FutureWarning)\n",
            "/usr/local/lib/python3.6/dist-packages/sklearn/linear_model/logistic.py:460: FutureWarning: Default multi_class will be changed to 'auto' in 0.22. Specify the multi_class option to silence this warning.\n",
            "  \"this warning.\", FutureWarning)\n",
            "/usr/local/lib/python3.6/dist-packages/sklearn/linear_model/logistic.py:1300: UserWarning: 'n_jobs' > 1 does not have any effect when 'solver' is set to 'liblinear'. Got 'n_jobs' = 2.\n",
            "  \" = {}.\".format(effective_n_jobs(self.n_jobs)))\n"
          ],
          "name": "stderr"
        },
        {
          "output_type": "stream",
          "text": [
            "0.6901886073537816\n",
            "-- Execution time: 736.85671043396 seconds ---\n"
          ],
          "name": "stdout"
        }
      ]
    },
    {
      "metadata": {
        "id": "SHAdjorPF90X",
        "colab_type": "code",
        "outputId": "b3dc99f7-704d-43ea-a009-5a3c801baa35",
        "colab": {
          "base_uri": "https://localhost:8080/",
          "height": 33
        }
      },
      "cell_type": "code",
      "source": [
        "random_search.best_params_"
      ],
      "execution_count": 0,
      "outputs": [
        {
          "output_type": "execute_result",
          "data": {
            "text/plain": [
              "{'C': 1, 'penalty': 'l2'}"
            ]
          },
          "metadata": {
            "tags": []
          },
          "execution_count": 101
        }
      ]
    },
    {
      "metadata": {
        "id": "GvaJFE8cBIG_",
        "colab_type": "code",
        "outputId": "9f0adf38-9ba2-424c-936f-13912f76b550",
        "colab": {
          "base_uri": "https://localhost:8080/",
          "height": 217
        }
      },
      "cell_type": "code",
      "source": [
        "from sklearn.metrics import classification_report\n",
        "\n",
        "print(classification_report(y_test, random_search.predict(tfidf_X_test_matrix)))"
      ],
      "execution_count": 0,
      "outputs": [
        {
          "output_type": "stream",
          "text": [
            "              precision    recall  f1-score   support\n",
            "\n",
            "           1       0.57      0.65      0.61      7335\n",
            "           2       0.24      0.25      0.25      4160\n",
            "           3       0.32      0.34      0.33      5980\n",
            "           4       0.39      0.30      0.34     11089\n",
            "           5       0.84      0.86      0.85     50171\n",
            "\n",
            "   micro avg       0.69      0.69      0.69     78735\n",
            "   macro avg       0.47      0.48      0.47     78735\n",
            "weighted avg       0.68      0.69      0.69     78735\n",
            "\n"
          ],
          "name": "stdout"
        }
      ]
    },
    {
      "metadata": {
        "id": "5UAmfr16GG7y",
        "colab_type": "text"
      },
      "cell_type": "markdown",
      "source": [
        "### Random Forest 2 "
      ]
    },
    {
      "metadata": {
        "id": "DNcw25W8GGUM",
        "colab_type": "code",
        "outputId": "79c6aacf-39a7-4a61-96a4-eb5532981ff3",
        "colab": {
          "base_uri": "https://localhost:8080/",
          "height": 104
        }
      },
      "cell_type": "code",
      "source": [
        "start_time = time.time()\n",
        "param_dist = {'n_estimators':[500,700,800],\n",
        "                'criterion':['entropy'],\n",
        "                'max_depth':[6,8,10],\n",
        "                'min_samples_split': [4],\n",
        "               'max_features':sp_randint(1, 11),\n",
        "              'bootstrap': [True]\n",
        "              }\n",
        "\n",
        "rf_random_search = RandomizedSearchCV(RandomForestClassifier(class_weight ='balanced_subsample', random_state=0), param_distributions=param_dist,\n",
        "                                   n_iter=10)\n",
        "#Fit the Data\n",
        "rf_random_search.fit(tfidf_X_train2_matrix, y_train2)\n",
        "print(rf_random_search.score(tfidf_X_test_matrix, y_test))\n",
        "print(\"-- Execution time: %s seconds ---\" % (time.time() - start_time))"
      ],
      "execution_count": 0,
      "outputs": [
        {
          "output_type": "stream",
          "text": [
            "/usr/local/lib/python3.6/dist-packages/sklearn/model_selection/_split.py:2053: FutureWarning: You should specify a value for 'cv' instead of relying on the default value. The default value will change from 3 to 5 in version 0.22.\n",
            "  warnings.warn(CV_WARNING, FutureWarning)\n"
          ],
          "name": "stderr"
        },
        {
          "output_type": "stream",
          "text": [
            "0.6103638788340636\n",
            "-- Execution time: 927.0712497234344 seconds ---\n"
          ],
          "name": "stdout"
        }
      ]
    },
    {
      "metadata": {
        "id": "sN3gHWMBGCKv",
        "colab_type": "code",
        "outputId": "c94ce79a-c29f-445f-87f8-21de4f290076",
        "colab": {
          "base_uri": "https://localhost:8080/",
          "height": 117
        }
      },
      "cell_type": "code",
      "source": [
        "rf_random_search.best_params_"
      ],
      "execution_count": 0,
      "outputs": [
        {
          "output_type": "execute_result",
          "data": {
            "text/plain": [
              "{'bootstrap': True,\n",
              " 'criterion': 'entropy',\n",
              " 'max_depth': 10,\n",
              " 'max_features': 9,\n",
              " 'min_samples_split': 4,\n",
              " 'n_estimators': 800}"
            ]
          },
          "metadata": {
            "tags": []
          },
          "execution_count": 104
        }
      ]
    },
    {
      "metadata": {
        "id": "3gblZMv3GPId",
        "colab_type": "code",
        "outputId": "114cbd06-a5bf-4607-e51f-0e06e599730a",
        "colab": {
          "base_uri": "https://localhost:8080/",
          "height": 217
        }
      },
      "cell_type": "code",
      "source": [
        "print(classification_report(y_test, rf_random_search.predict(tfidf_X_test_matrix)))"
      ],
      "execution_count": 0,
      "outputs": [
        {
          "output_type": "stream",
          "text": [
            "              precision    recall  f1-score   support\n",
            "\n",
            "           1       0.46      0.60      0.52      7335\n",
            "           2       0.22      0.16      0.18      4160\n",
            "           3       0.22      0.28      0.25      5980\n",
            "           4       0.28      0.24      0.26     11089\n",
            "           5       0.79      0.77      0.78     50171\n",
            "\n",
            "   micro avg       0.61      0.61      0.61     78735\n",
            "   macro avg       0.39      0.41      0.40     78735\n",
            "weighted avg       0.61      0.61      0.61     78735\n",
            "\n"
          ],
          "name": "stdout"
        }
      ]
    },
    {
      "metadata": {
        "id": "ip-oK3LFGX2V",
        "colab_type": "text"
      },
      "cell_type": "markdown",
      "source": [
        "### XGB 2 "
      ]
    },
    {
      "metadata": {
        "id": "8Fv7pzTMGTPS",
        "colab_type": "code",
        "outputId": "198647fd-da01-49b3-dd78-5883dcaeca84",
        "colab": {
          "base_uri": "https://localhost:8080/",
          "height": 70
        }
      },
      "cell_type": "code",
      "source": [
        "from scipy.stats import randint as sp_randint\n",
        "start_time = time.time()\n",
        "param_dist = {'max_depth':[5,7,9],\n",
        "              'subsample':[0.5,0.7,0.9],\n",
        "              'colsample_bytree': [0.5,0.7,0.9],\n",
        "            'colsample_bylevel':[0.5,0.7,0.9]\n",
        "              }\n",
        "#scale_pos_weight \n",
        "xgb_random_search = RandomizedSearchCV(xgb.XGBClassifier(learning_rate =.01, random_state=0), param_distributions=param_dist,\n",
        "                                   n_iter=10)\n",
        "#Fit the Data\n",
        "xgb_random_search.fit(tfidf_X_train2_matrix, y_train2)\n",
        "print(xgb_random_search.score(tfidf_X_test_matrix, y_test))\n",
        "print(\"-- Execution time: %s seconds ---\" % (time.time() - start_time))"
      ],
      "execution_count": 0,
      "outputs": [
        {
          "output_type": "stream",
          "text": [
            "/usr/local/lib/python3.6/dist-packages/sklearn/model_selection/_split.py:2053: FutureWarning: You should specify a value for 'cv' instead of relying on the default value. The default value will change from 3 to 5 in version 0.22.\n",
            "  warnings.warn(CV_WARNING, FutureWarning)\n"
          ],
          "name": "stderr"
        }
      ]
    },
    {
      "metadata": {
        "id": "2zNJd4-6GZ6j",
        "colab_type": "code",
        "colab": {}
      },
      "cell_type": "code",
      "source": [
        "xgb_random_search.best_params_"
      ],
      "execution_count": 0,
      "outputs": []
    },
    {
      "metadata": {
        "id": "8XlFQAOWGaCX",
        "colab_type": "code",
        "colab": {}
      },
      "cell_type": "code",
      "source": [
        "print(classification_report(y_test, rxgb_random_search.predict(tfidf_X_test_matrix)))"
      ],
      "execution_count": 0,
      "outputs": []
    }
  ]
}