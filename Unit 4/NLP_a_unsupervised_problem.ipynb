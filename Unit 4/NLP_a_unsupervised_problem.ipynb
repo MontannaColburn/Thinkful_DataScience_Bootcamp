{
  "nbformat": 4,
  "nbformat_minor": 0,
  "metadata": {
    "colab": {
      "name": "NLP a unsupervised problem",
      "version": "0.3.2",
      "provenance": []
    },
    "kernelspec": {
      "name": "python3",
      "display_name": "Python 3"
    },
    "accelerator": "GPU"
  },
  "cells": [
    {
      "metadata": {
        "id": "yCU-NZzX04Vi",
        "colab_type": "code",
        "colab": {}
      },
      "cell_type": "code",
      "source": [
        "import numpy as np\n",
        "import pandas as pd\n",
        "import scipy\n",
        "import matplotlib.pyplot as plt\n",
        "import seaborn as sns\n",
        "%matplotlib inline"
      ],
      "execution_count": 0,
      "outputs": []
    },
    {
      "metadata": {
        "id": "gu-Wja7c09s1",
        "colab_type": "code",
        "colab": {
          "base_uri": "https://localhost:8080/",
          "height": 126
        },
        "outputId": "4b3f618b-c682-4973-8036-2484832308d3"
      },
      "cell_type": "code",
      "source": [
        "import nltk\n",
        "from nltk.corpus import gutenberg\n",
        "nltk.download('punkt')\n",
        "nltk.download('gutenberg')\n",
        "import re\n",
        "from sklearn.model_selection import train_test_split\n",
        "\n",
        "#reading in the data, this time in the form of paragraphs\n",
        "emma=gutenberg.paras('austen-emma.txt')\n",
        "#processing\n",
        "emma_paras=[]\n",
        "for paragraph in emma:\n",
        "    para=paragraph[0]\n",
        "    #removing the double-dash from all words\n",
        "    para=[re.sub(r'--','',word) for word in para]\n",
        "    #Forming each paragraph into a string and adding it to the list of strings.\n",
        "    emma_paras.append(' '.join(para))\n",
        "\n",
        "print(emma_paras[0:4])"
      ],
      "execution_count": 8,
      "outputs": [
        {
          "output_type": "stream",
          "text": [
            "[nltk_data] Downloading package punkt to /root/nltk_data...\n",
            "[nltk_data]   Package punkt is already up-to-date!\n",
            "[nltk_data] Downloading package gutenberg to /root/nltk_data...\n",
            "[nltk_data]   Package gutenberg is already up-to-date!\n",
            "['[ Emma by Jane Austen 1816 ]', 'VOLUME I', 'CHAPTER I', 'Emma Woodhouse , handsome , clever , and rich , with a comfortable home and happy disposition , seemed to unite some of the best blessings of existence ; and had lived nearly twenty - one years in the world with very little to distress or vex her .']\n"
          ],
          "name": "stdout"
        }
      ]
    },
    {
      "metadata": {
        "id": "uGvDYf5yAOOg",
        "colab_type": "code",
        "colab": {
          "base_uri": "https://localhost:8080/",
          "height": 70
        },
        "outputId": "8d7d6f88-b2aa-407b-ef98-b67b72e6b95a"
      },
      "cell_type": "code",
      "source": [
        "from sklearn.feature_extraction.text import TfidfVectorizer\n",
        "\n",
        "X_train, X_test = train_test_split(emma_paras, test_size=0.4, random_state=0)\n",
        "\n",
        "vectorizer = TfidfVectorizer(max_df=0.5, # drop words that occur in more than half the paragraphs\n",
        "                             min_df=2, # only use words that appear at least twice\n",
        "                             stop_words='english', \n",
        "                             lowercase=True, #convert everything to lower case (since Alice in Wonderland has the HABIT of CAPITALIZING WORDS for EMPHASIS)\n",
        "                             use_idf=True,#we definitely want to use inverse document frequencies in our weighting\n",
        "                             norm=u'l2', #Applies a correction factor so that longer paragraphs and shorter paragraphs get treated equally\n",
        "                             smooth_idf=True #Adds 1 to all document frequencies, as if an extra document existed that used every word once.  Prevents divide-by-zero errors\n",
        "                            )\n",
        "\n",
        "\n",
        "#Applying the vectorizer\n",
        "emma_paras_tfidf=vectorizer.fit_transform(emma_paras)\n",
        "print(\"Number of features: %d\" % emma_paras_tfidf.get_shape()[1])\n",
        "\n",
        "#splitting into training and test sets\n",
        "X_train_tfidf, X_test_tfidf= train_test_split(emma_paras_tfidf, test_size=0.4, random_state=0)\n",
        "\n",
        "\n",
        "#Reshapes the vectorizer output into something people can read\n",
        "X_train_tfidf_csr = X_train_tfidf.tocsr()\n",
        "\n",
        "#number of paragraphs\n",
        "n = X_train_tfidf_csr.shape[0]\n",
        "#A list of dictionaries, one per paragraph\n",
        "tfidf_bypara = [{} for _ in range(0,n)]\n",
        "#List of features\n",
        "terms = vectorizer.get_feature_names()\n",
        "#for each paragraph, lists the feature words and their tf-idf scores\n",
        "for i, j in zip(*X_train_tfidf_csr.nonzero()):\n",
        "    tfidf_bypara[i][terms[j]] = X_train_tfidf_csr[i, j]\n",
        "\n",
        "#Keep in mind that the log base 2 of 1 is 0, so a tf-idf score of 0 indicates that the word was present once in that sentence.\n",
        "print('Original sentence:', X_train[5])\n",
        "print('Tf_idf vector:', tfidf_bypara[5])"
      ],
      "execution_count": 9,
      "outputs": [
        {
          "output_type": "stream",
          "text": [
            "Number of features: 1948\n",
            "Original sentence: A very few minutes more , however , completed the present trial .\n",
            "Tf_idf vector: {'minutes': 0.7127450310382584, 'present': 0.701423210857947}\n"
          ],
          "name": "stdout"
        }
      ]
    },
    {
      "metadata": {
        "id": "f7k1P_VOAsXn",
        "colab_type": "code",
        "colab": {
          "base_uri": "https://localhost:8080/",
          "height": 1101
        },
        "outputId": "1e380786-f755-430a-f79c-2cfc78470a4a"
      },
      "cell_type": "code",
      "source": [
        "from sklearn.decomposition import TruncatedSVD\n",
        "from sklearn.pipeline import make_pipeline\n",
        "from sklearn.preprocessing import Normalizer\n",
        "\n",
        "#Our SVD data reducer.  We are going to reduce the feature space from 1379 to 130.\n",
        "svd= TruncatedSVD(130)\n",
        "lsa = make_pipeline(svd, Normalizer(copy=False))\n",
        "# Run SVD on the training data, then project the training data.\n",
        "X_train_lsa = lsa.fit_transform(X_train_tfidf)\n",
        "\n",
        "variance_explained=svd.explained_variance_ratio_\n",
        "total_variance = variance_explained.sum()\n",
        "print(\"Percent variance captured by all components:\",total_variance*100)\n",
        "\n",
        "#Looking at what sorts of paragraphs our solution considers similar, for the first five identified topics\n",
        "paras_by_component=pd.DataFrame(X_train_lsa,index=X_train)\n",
        "for i in range(5):\n",
        "    print('Component {}:'.format(i))\n",
        "    print(paras_by_component.loc[:,i].sort_values(ascending=False)[0:10])\n"
      ],
      "execution_count": 10,
      "outputs": [
        {
          "output_type": "stream",
          "text": [
            "Percent variance captured by all components: 45.19781692508141\n",
            "Component 0:\n",
            "\" Oh !     0.999288\n",
            "\" Oh !     0.999288\n",
            "\" Oh !     0.999288\n",
            "\" Oh !     0.999288\n",
            "\" Oh !     0.999288\n",
            "\" Oh !     0.999288\n",
            "\" Oh !     0.999288\n",
            "\" Oh !     0.999288\n",
            "\" Oh !\"    0.999288\n",
            "\" Oh !     0.999288\n",
            "Name: 0, dtype: float64\n",
            "Component 1:\n",
            "That is _court_ .                                                                                                                                                           0.876362\n",
            "\" You have made her too tall , Emma ,\" said Mr . Knightley .                                                                                                                0.635133\n",
            "\" You get upon delicate subjects , Emma ,\" said Mrs . Weston smiling ; \" remember that I am here . Mr .                                                                     0.584308\n",
            "\" You are right , Mrs . Weston ,\" said Mr . Knightley warmly , \" Miss Fairfax is as capable as any of us of forming a just opinion of Mrs . Elton .                         0.564694\n",
            "\" I do not know what your opinion may be , Mrs . Weston ,\" said Mr . Knightley , \" of this great intimacy between Emma and Harriet Smith , but I think it a bad thing .\"    0.562115\n",
            "\" There were misunderstandings between them , Emma ; he said so expressly .                                                                                                 0.528553\n",
            "Mr . Knightley might quarrel with her , but Emma could not quarrel with herself .                                                                                           0.527107\n",
            "\" Now ,\" said Emma , when they were fairly beyond the sweep gates , \" now Mr . Weston , do let me know what has happened .\"                                                 0.507833\n",
            "Emma found that it was not Mr . Weston ' s fault that the number of privy councillors was not yet larger .                                                                  0.507654\n",
            "\" In one respect , perhaps , Mr . Elton ' s manners are superior to Mr . Knightley ' s or Mr . Weston ' s .                                                                 0.507306\n",
            "Name: 1, dtype: float64\n",
            "Component 2:\n",
            "CHAPTER X       0.998514\n",
            "CHAPTER I       0.998514\n",
            "CHAPTER V       0.998514\n",
            "CHAPTER X       0.998514\n",
            "CHAPTER X       0.998514\n",
            "CHAPTER V       0.998514\n",
            "CHAPTER V       0.998514\n",
            "CHAPTER I       0.998514\n",
            "CHAPTER I       0.998514\n",
            "CHAPTER XVII    0.997243\n",
            "Name: 2, dtype: float64\n",
            "Component 3:\n",
            "\" Ah !      0.992901\n",
            "\" Ah !      0.992901\n",
            "\" Ah !      0.992901\n",
            "\" Ah !      0.992901\n",
            "\" Ah !      0.992901\n",
            "\" Ah !      0.992901\n",
            "\" Ah !      0.992901\n",
            "\" Ah !      0.992901\n",
            "\" Ah !      0.992901\n",
            "But ah !    0.992901\n",
            "Name: 3, dtype: float64\n",
            "Component 4:\n",
            "\" There were misunderstandings between them , Emma ; he said so expressly .    0.650838\n",
            "Emma demurred .                                                                0.598922\n",
            "\" Are you well , my Emma ?\"                                                    0.598922\n",
            "Emma was silenced .                                                            0.588022\n",
            "At first it was downright dulness to Emma .                                    0.587374\n",
            "\" Emma , my dear Emma \"                                                        0.577017\n",
            "Emma could not resist .                                                        0.567318\n",
            "\" It is not now worth a regret ,\" said Emma .                                  0.550206\n",
            "\" For shame , Emma !                                                           0.543940\n",
            "\" I am ready ,\" said Emma , \" whenever I am wanted .\"                          0.504422\n",
            "Name: 4, dtype: float64\n"
          ],
          "name": "stdout"
        }
      ]
    },
    {
      "metadata": {
        "id": "N96qthiJE2ha",
        "colab_type": "code",
        "colab": {
          "base_uri": "https://localhost:8080/",
          "height": 480
        },
        "outputId": "b6112c4c-8a64-4632-ff45-ab56f2964f05"
      },
      "cell_type": "code",
      "source": [
        "# Compute document similarity using LSA components\n",
        "similarity = np.asarray(np.asmatrix(X_train_lsa) * np.asmatrix(X_train_lsa).T)\n",
        "#Only taking the first 10 sentences\n",
        "sim_matrix=pd.DataFrame(similarity,index=X_train).iloc[0:10,0:10]\n",
        "#Making a plot\n",
        "ax = sns.heatmap(sim_matrix,yticklabels=range(10))\n",
        "plt.show()\n",
        "\n",
        "#Generating a key for the plot.\n",
        "print('Key:')\n",
        "for i in range(10):\n",
        "    print(i,sim_matrix.index[i])\n"
      ],
      "execution_count": 11,
      "outputs": [
        {
          "output_type": "display_data",
          "data": {
            "image/png": "[encoded data removed]",
            "text/plain": [
              "<Figure size 432x288 with 2 Axes>"
            ]
          },
          "metadata": {
            "tags": []
          }
        },
        {
          "output_type": "stream",
          "text": [
            "Key:\n",
            "0 That is _court_ .\n",
            "1 \" Yes , sir , I did indeed ; and I am very much obliged by your kind solicitude about me .\"\n",
            "2 \" How much his business engrosses him already is very plain from the circumstance of his forgetting to inquire for the book you recommended .\n",
            "3 To restrain him as much as might be , by her own manners , she was immediately preparing to speak with exquisite calmness and gravity of the weather and the night ; but scarcely had she begun , scarcely had they passed the sweep - gate and joined the other carriage , than she found her subject cut up  her hand seized  her attention demanded , and Mr . Elton actually making violent love to her : availing himself of the precious opportunity , declaring sentiments which must be already well known , hoping  fearing  adoring  ready to die if she refused him ; but flattering himself that his ardent attachment and unequalled love and unexampled passion could not fail of having some effect , and in short , very much resolved on being seriously accepted as soon as possible .\n",
            "4 Emma smiled and answered \" My visit was of use to the nervous part of her complaint , I hope ; but not even I can charm away a sore throat ; it is a most severe cold indeed .\n",
            "5 A very few minutes more , however , completed the present trial .\n",
            "6 \" I am delighted to hear you speak so stoutly on the subject ,\" replied Emma , smiling ; \" but you do not mean to deny that there was a time  and not very distant either  when you gave me reason to understand that you did care about him ?\"\n",
            "7 \" Very well ; and if he had intended to give her one , he would have told her so .\"\n",
            "8 Some laughed , and answered good - humouredly .\n",
            "9 \" There appeared such a perfectly good understanding among them all \" he began rather quickly , but checking himself , added , \" however , it is impossible for me to say on what terms they really were  how it might all be behind the scenes .\n"
          ],
          "name": "stdout"
        }
      ]
    },
    {
      "metadata": {
        "id": "IroHQfY-yqAR",
        "colab_type": "text"
      },
      "cell_type": "markdown",
      "source": [
        "## Drill 0: Test Set"
      ]
    },
    {
      "metadata": {
        "id": "FDNDQiAHzDg_",
        "colab_type": "code",
        "colab": {
          "base_uri": "https://localhost:8080/",
          "height": 72
        },
        "outputId": "1cf405ad-6227-4d88-abac-5884099c0014"
      },
      "cell_type": "code",
      "source": [
        "\n",
        "#Reshapes the vectorizer output into something people can read\n",
        "X_test_tfidf_csr = X_test_tfidf.tocsr()\n",
        "\n",
        "#number of paragraphs\n",
        "n = X_test_tfidf_csr.shape[0]\n",
        "#A list of dictionaries, one per paragraph\n",
        "tfidf_bypara = [{} for _ in range(0,n)]\n",
        "#List of features\n",
        "terms = vectorizer.get_feature_names()\n",
        "#for each paragraph, lists the feature words and their tf-idf scores\n",
        "for i, j in zip(*X_test_tfidf_csr.nonzero()):\n",
        "    tfidf_bypara[i][terms[j]] = X_test_tfidf_csr[i, j]\n",
        "\n",
        "#Keep in mind that the log base 2 of 1 is 0, so a tf-idf score of 0 indicates that the word was present once in that sentence.\n",
        "print('Original sentence:', X_test[5])\n",
        "print('Tf_idf vector:', tfidf_bypara[5])"
      ],
      "execution_count": 12,
      "outputs": [
        {
          "output_type": "stream",
          "text": [
            "Original sentence: \" And I am quite serious too , I assure you ,\" replied Mrs . Elton gaily , \" in resolving to be always on the watch , and employing my friends to watch also , that nothing really unexceptionable may pass us .\"\n",
            "Tf_idf vector: {'resolving': 0.3424390305045805, 'unexceptionable': 0.3196409792117937, 'assure': 0.267729777836069, 'friends': 0.2515333740641343, 'quite': 0.1916471918420347, 'replied': 0.20315405638674577, 'watch': 0.62300800500314, 'elton': 0.16874782424809767, 'pass': 0.28445227585106625, 'really': 0.21963852817625326, 'mrs': 0.14780961753993585}\n"
          ],
          "name": "stdout"
        }
      ]
    },
    {
      "metadata": {
        "id": "b65We-kLu0he",
        "colab_type": "code",
        "colab": {
          "base_uri": "https://localhost:8080/",
          "height": 1121
        },
        "outputId": "bd894ea2-6e4b-4158-89b6-7491a7fbfbed"
      },
      "cell_type": "code",
      "source": [
        "# Run SVD on the training data, then project the training data.\n",
        "X_test_lsa = lsa.fit_transform(X_test_tfidf)\n",
        "\n",
        "variance_explained=svd.explained_variance_ratio_\n",
        "total_variance = variance_explained.sum()\n",
        "print(\"Percent variance captured by all components:\",total_variance*100)\n",
        "\n",
        "#Looking at what sorts of paragraphs our solution considers similar, for the first five identified topics\n",
        "paras_by_component=pd.DataFrame(X_test_lsa,index=X_test)\n",
        "for i in range(5):\n",
        "    print('Component {}:'.format(i))\n",
        "    print(paras_by_component.loc[:,i].sort_values(ascending=False)[0:10])\n"
      ],
      "execution_count": 13,
      "outputs": [
        {
          "output_type": "stream",
          "text": [
            "Percent variance captured by all components: 49.37949275779706\n",
            "Component 0:\n",
            "\" Oh !       0.99992\n",
            "\" Oh !       0.99992\n",
            "\" Oh no !    0.99992\n",
            "\" Oh !       0.99992\n",
            "\" Oh !       0.99992\n",
            "\" Oh !       0.99992\n",
            "\" Oh !       0.99992\n",
            "\" Oh !       0.99992\n",
            "\" Oh !       0.99992\n",
            "\" Oh no !    0.99992\n",
            "Name: 0, dtype: float64\n",
            "Component 1:\n",
            "\" Well , Mrs . Weston ,\" said Emma triumphantly when he left them , \" what do you say now to Mr . Knightley ' s marrying Jane Fairfax ?\"                                                                                                                                                                                                                                                                                                             0.613709\n",
            "After tea , Mr . and Mrs . Weston , and Mr . Elton sat down with Mr . Woodhouse to cards .                                                                                                                                                                                                                                                                                                                                                           0.598848\n",
            "Frank turned instantly to Emma , to claim her former promise ; and boasted himself an engaged man , which his father looked his most perfect approbation of  and it then appeared that Mrs . Weston was wanting _him_ to dance with Mrs . Elton himself , and that their business was to help to persuade him into it , which was done pretty soon . Mr . Weston and Mrs . Elton led the way , Mr . Frank Churchill and Miss Woodhouse followed .    0.565007\n",
            "\" Mr .                                                                                                                                                                                                                                                                                                                                                                                                                                               0.518061\n",
            "While she was gone , Mr . Knightley called , and sat some time with Mr . Woodhouse and Emma , till Mr . Woodhouse , who had previously made up his mind to walk out , was persuaded by his daughter not to defer it , and was induced by the entreaties of both , though against the scruples of his own civility , to leave Mr . Knightley for that purpose .                                                                                       0.509307\n",
            "Mr . Weston was musing .                                                                                                                                                                                                                                                                                                                                                                                                                             0.506150\n",
            "\" Mrs . Weston ' s manners ,\" said Emma , \" were always particularly good .                                                                                                                                                                                                                                                                                                                                                                          0.494267\n",
            "\" Why , to be sure ,\" said Mr . Woodhouse \" yes , certainly  I cannot deny that Mrs . Weston , poor Mrs . Weston , does come and see us pretty often  but then  she is always obliged to go away again .\"                                                                                                                                                                                                                                            0.488222\n",
            "\" I think , indeed ,\" said John Knightley pleasantly , \" that Mr . Weston has some little claim .                                                                                                                                                                                                                                                                                                                                                    0.488132\n",
            "\" It is Frank and Miss Fairfax ,\" said Mrs . Weston .                                                                                                                                                                                                                                                                                                                                                                                                0.485528\n",
            "Name: 1, dtype: float64\n",
            "Component 2:\n",
            "\" Ah !     0.996978\n",
            "\" Ah !     0.996978\n",
            "\" Ah !     0.996978\n",
            "\" Ah !\"    0.996978\n",
            "\" Ah !     0.996978\n",
            "\" Ah !     0.996978\n",
            "\" Ah !     0.996978\n",
            "\" Ah !     0.996978\n",
            "\" Ah !\"    0.996978\n",
            "\" Ah !     0.996978\n",
            "Name: 2, dtype: float64\n",
            "Component 3:\n",
            "\" Mr .                                                                                                                                                                                                                                                                 0.632151\n",
            "After tea , Mr . and Mrs . Weston , and Mr . Elton sat down with Mr . Woodhouse to cards .                                                                                                                                                                             0.563073\n",
            "Mr . Knightley was thoughtful again .                                                                                                                                                                                                                                  0.523707\n",
            "\" You are not vain , Mr . Knightley .                                                                                                                                                                                                                                  0.504398\n",
            "Mr . Weston was musing .                                                                                                                                                                                                                                               0.500752\n",
            "Mr . Weston ' s own happiness was indisputable .                                                                                                                                                                                                                       0.457686\n",
            "Harriet , Mr . Elton , and Mr . Knightley , their own especial set , were the only persons invited to meet them ; the hours were to be early , as well as the numbers few ; Mr . Woodhouse ' s habits and inclination being consulted in every thing .                 0.411061\n",
            "She meant to be very happy , in spite of the scene being laid at Mr . Cole ' s ; and without being able to forget that among the failings of Mr . Elton , even in the days of his favour , none had disturbed her more than his propensity to dine with Mr . Cole .    0.408449\n",
            "\" Christmas weather ,\" observed Mr . Elton .                                                                                                                                                                                                                           0.391188\n",
            "Mr . Knightley shook his head at her .                                                                                                                                                                                                                                 0.389166\n",
            "Name: 3, dtype: float64\n",
            "Component 4:\n",
            "\" Yes .                                                                         0.653460\n",
            "\" Yes , sometimes he can .\"                                                     0.653460\n",
            "\" Yes , do .\"                                                                   0.653460\n",
            "\" Yes I should , I am sure I should .                                           0.638896\n",
            "\" Yes , so I imagined .                                                         0.615537\n",
            "\" Yes  a good deal _nearer_ .\"                                                  0.560188\n",
            "\" Yes , our good Mrs . Elton .                                                  0.553784\n",
            "\" Yes ; but we must not rest our claims on that distinction .                   0.538247\n",
            "\" Yes , very soon .                                                             0.534392\n",
            "\" Yes , she would be , but that she thinks there will be another put - off .    0.533751\n",
            "Name: 4, dtype: float64\n"
          ],
          "name": "stdout"
        }
      ]
    },
    {
      "metadata": {
        "id": "SVuLTRmxzY90",
        "colab_type": "code",
        "colab": {
          "base_uri": "https://localhost:8080/",
          "height": 480
        },
        "outputId": "72a316aa-52f4-48c9-8217-853944df6426"
      },
      "cell_type": "code",
      "source": [
        "# Compute document similarity using LSA components\n",
        "similarity = np.asarray(np.asmatrix(X_test_lsa) * np.asmatrix(X_test_lsa).T)\n",
        "#Only taking the first 10 sentences\n",
        "sim_matrix=pd.DataFrame(similarity,index=X_test).iloc[0:10,0:10]\n",
        "#Making a plot\n",
        "ax = sns.heatmap(sim_matrix,yticklabels=range(10))\n",
        "plt.show()\n",
        "\n",
        "#Generating a key for the plot.\n",
        "print('Key:')\n",
        "for i in range(10):\n",
        "    print(i,sim_matrix.index[i])"
      ],
      "execution_count": 14,
      "outputs": [
        {
          "output_type": "display_data",
          "data": {
            "image/png": "[encoded data removed]",
            "text/plain": [
              "<Figure size 432x288 with 2 Axes>"
            ]
          },
          "metadata": {
            "tags": []
          }
        },
        {
          "output_type": "stream",
          "text": [
            "Key:\n",
            "0 Mr . Woodhouse had so completely made up his mind to the visit , that in spite of the increasing coldness , he seemed to have no idea of shrinking from it , and set forward at last most punctually with his eldest daughter in his own carriage , with less apparent consciousness of the weather than either of the others ; too full of the wonder of his own going , and the pleasure it was to afford at Randalls to see that it was cold , and too well wrapt up to feel it .\n",
            "1 \" Oh !\n",
            "2 \" Oh no , no !\n",
            "3 Such was Jane Fairfax ' s history .\n",
            "4 \" That has been a good deal the case , my dear ; but not to the degree you mention .\n",
            "5 \" And I am quite serious too , I assure you ,\" replied Mrs . Elton gaily , \" in resolving to be always on the watch , and employing my friends to watch also , that nothing really unexceptionable may pass us .\"\n",
            "6 \" And here is Mrs . Weston and Mr . Frank Churchill too ! Quite delightful ; so many friends !\"\n",
            "7 \" You may well class the delight , the honour , and the comfort of such a situation together ,\" said Jane , \" they are pretty sure to be equal ; however , I am very serious in not wishing any thing to be attempted at present for me .\n",
            "8 Harriet , Mr . Elton , and Mr . Knightley , their own especial set , were the only persons invited to meet them ; the hours were to be early , as well as the numbers few ; Mr . Woodhouse ' s habits and inclination being consulted in every thing .\n",
            "9 \" Oh !\n"
          ],
          "name": "stdout"
        }
      ]
    },
    {
      "metadata": {
        "id": "2XqrwuM5zrOe",
        "colab_type": "text"
      },
      "cell_type": "markdown",
      "source": [
        ""
      ]
    },
    {
      "metadata": {
        "id": "_I2dDbwv0rVx",
        "colab_type": "text"
      },
      "cell_type": "markdown",
      "source": [
        "## Drill 1: Tweaking tf-idf "
      ]
    },
    {
      "metadata": {
        "id": "TwBFjsUCgqHm",
        "colab_type": "text"
      },
      "cell_type": "markdown",
      "source": [
        "### Version 1 "
      ]
    },
    {
      "metadata": {
        "id": "mI8vjlK6zls9",
        "colab_type": "code",
        "colab": {
          "base_uri": "https://localhost:8080/",
          "height": 70
        },
        "outputId": "2a8bd0b7-d1de-470c-e13a-668e7ebc0509"
      },
      "cell_type": "code",
      "source": [
        "X_train, X_test = train_test_split(emma_paras, test_size=0.4, random_state=0)\n",
        "\n",
        "vectorizer = TfidfVectorizer(max_df=0.5, # drop words that occur in more than half the paragraphs\n",
        "                             min_df=1, # use all words \n",
        "                             stop_words='english', \n",
        "                             lowercase=True, #convert everything to lower case (since Alice in Wonderland has the HABIT of CAPITALIZING WORDS for EMPHASIS)\n",
        "                             use_idf=True,#we definitely want to use inverse document frequencies in our weighting\n",
        "                             norm=u'l2', #Applies a correction factor so that longer paragraphs and shorter paragraphs get treated equally\n",
        "                             smooth_idf=True #Adds 1 to all document frequencies, as if an extra document existed that used every word once.  Prevents divide-by-zero errors\n",
        "                            )\n",
        "\n",
        "\n",
        "#Applying the vectorizer\n",
        "emma_paras_tfidf=vectorizer.fit_transform(emma_paras)\n",
        "print(\"Number of features: %d\" % emma_paras_tfidf.get_shape()[1])\n",
        "\n",
        "#splitting into training and test sets\n",
        "X_train_tfidf, X_test_tfidf= train_test_split(emma_paras_tfidf, test_size=0.4, random_state=0)\n",
        "\n",
        "\n",
        "#Reshapes the vectorizer output into something people can read\n",
        "X_train_tfidf_csr = X_train_tfidf.tocsr()\n",
        "\n",
        "#number of paragraphs\n",
        "n = X_train_tfidf_csr.shape[0]\n",
        "#A list of dictionaries, one per paragraph\n",
        "tfidf_bypara = [{} for _ in range(0,n)]\n",
        "#List of features\n",
        "terms = vectorizer.get_feature_names()\n",
        "#for each paragraph, lists the feature words and their tf-idf scores\n",
        "for i, j in zip(*X_train_tfidf_csr.nonzero()):\n",
        "    tfidf_bypara[i][terms[j]] = X_train_tfidf_csr[i, j]\n",
        "\n",
        "#Keep in mind that the log base 2 of 1 is 0, so a tf-idf score of 0 indicates that the word was present once in that sentence.\n",
        "print('Original sentence:', X_train[5])\n",
        "print('Tf_idf vector:', tfidf_bypara[5])"
      ],
      "execution_count": 15,
      "outputs": [
        {
          "output_type": "stream",
          "text": [
            "Number of features: 3851\n",
            "Original sentence: A very few minutes more , however , completed the present trial .\n",
            "Tf_idf vector: {'trial': 0.5783807823673666, 'completed': 0.5783807823673666, 'minutes': 0.4100306021374355, 'present': 0.4035173434773752}\n"
          ],
          "name": "stdout"
        }
      ]
    },
    {
      "metadata": {
        "id": "f0J9dWZWeMiP",
        "colab_type": "code",
        "colab": {
          "base_uri": "https://localhost:8080/",
          "height": 1101
        },
        "outputId": "4c483a05-cceb-4bc9-ffb4-1383be94c3a1"
      },
      "cell_type": "code",
      "source": [
        "#Our SVD data reducer.  We are going to reduce the feature space from 1379 to 130.\n",
        "svd= TruncatedSVD(130)\n",
        "lsa = make_pipeline(svd, Normalizer(copy=False))\n",
        "# Run SVD on the training data, then project the training data.\n",
        "X_train_lsa = lsa.fit_transform(X_train_tfidf)\n",
        "\n",
        "variance_explained=svd.explained_variance_ratio_\n",
        "total_variance = variance_explained.sum()\n",
        "print(\"Percent variance captured by all components:\",total_variance*100)\n",
        "\n",
        "#Looking at what sorts of paragraphs our solution considers similar, for the first five identified topics\n",
        "paras_by_component=pd.DataFrame(X_train_lsa,index=X_train)\n",
        "for i in range(5):\n",
        "    print('Component {}:'.format(i))\n",
        "    print(paras_by_component.loc[:,i].sort_values(ascending=False)[0:10])\n"
      ],
      "execution_count": 16,
      "outputs": [
        {
          "output_type": "stream",
          "text": [
            "Percent variance captured by all components: 41.22033380567617\n",
            "Component 0:\n",
            "\" Oh !     0.99934\n",
            "\" Oh !     0.99934\n",
            "\" Oh !     0.99934\n",
            "\" Oh !     0.99934\n",
            "\" Oh !     0.99934\n",
            "\" Oh !     0.99934\n",
            "\" Oh !     0.99934\n",
            "\" Oh !     0.99934\n",
            "\" Oh !\"    0.99934\n",
            "\" Oh !\"    0.99934\n",
            "Name: 0, dtype: float64\n",
            "Component 1:\n",
            "\" You have made her too tall , Emma ,\" said Mr . Knightley .                                                                                                                  0.620135\n",
            "\" You are right , Mrs . Weston ,\" said Mr . Knightley warmly , \" Miss Fairfax is as capable as any of us of forming a just opinion of Mrs . Elton .                           0.581117\n",
            "\" I do not know what your opinion may be , Mrs . Weston ,\" said Mr . Knightley , \" of this great intimacy between Emma and Harriet Smith , but I think it a bad thing .\"      0.560404\n",
            "\" You get upon delicate subjects , Emma ,\" said Mrs . Weston smiling ; \" remember that I am here . Mr .                                                                       0.545739\n",
            "\" In one respect , perhaps , Mr . Elton ' s manners are superior to Mr . Knightley ' s or Mr . Weston ' s .                                                                   0.540888\n",
            "Mr . Knightley might quarrel with her , but Emma could not quarrel with herself .                                                                                             0.529119\n",
            "\" I do not admire it ,\" said Mr . Knightley .                                                                                                                                 0.508323\n",
            "\" Mr . Weston will be almost as much relieved as myself ,\" said she .                                                                                                         0.482229\n",
            "\" Pray , Mr . Knightley ,\" said Emma , who had been smiling to herself through a great part of this speech , \" how do you know that Mr . Martin did not speak yesterday ?\"    0.481955\n",
            "\" Now ,\" said Emma , when they were fairly beyond the sweep gates , \" now Mr . Weston , do let me know what has happened .\"                                                   0.481360\n",
            "Name: 1, dtype: float64\n",
            "Component 2:\n",
            "CHAPTER X     0.998322\n",
            "CHAPTER I     0.998322\n",
            "CHAPTER V     0.998322\n",
            "CHAPTER X     0.998322\n",
            "CHAPTER V     0.998322\n",
            "CHAPTER X     0.998322\n",
            "CHAPTER V     0.998322\n",
            "CHAPTER I     0.998322\n",
            "CHAPTER I     0.998322\n",
            "CHAPTER VI    0.996902\n",
            "Name: 2, dtype: float64\n",
            "Component 3:\n",
            "\" Ah !      0.998698\n",
            "\" Ah !      0.998698\n",
            "\" Ah !\"     0.998698\n",
            "But ah !    0.998698\n",
            "\" Ah !      0.998698\n",
            "\" Ah !      0.998698\n",
            "\" Ah !      0.998698\n",
            "\" Ah !      0.998698\n",
            "\" Ah !      0.998698\n",
            "But ah !    0.998698\n",
            "Name: 3, dtype: float64\n",
            "Component 4:\n",
            "\" In one respect , perhaps , Mr . Elton ' s manners are superior to Mr . Knightley ' s or Mr . Weston ' s .                             0.645104\n",
            "\"` Mr .                                                                                                                                 0.575682\n",
            "\" Mr . Knightley was there too , was he ?\"                                                                                              0.566562\n",
            "\" Mr . Elton indeed !\"                                                                                                                  0.527862\n",
            "Mr . Elton made his appearance .                                                                                                        0.504020\n",
            "Mr . Elton must now be left to himself .                                                                                                0.500436\n",
            "Mr . Elton ' s rights , however , gradually revived .                                                                                   0.495725\n",
            "\" I am very much astonished , Mr . Elton .                                                                                              0.482124\n",
            "But Mr . Elton had only drunk wine enough to elevate his spirits , not at all to confuse his intellects .                               0.463508\n",
            "Mr . Knightley seemed to be trying not to smile ; and succeeded without difficulty , upon Mrs . Elton ' s beginning to talk to him .    0.462812\n",
            "Name: 4, dtype: float64\n"
          ],
          "name": "stdout"
        }
      ]
    },
    {
      "metadata": {
        "id": "U_1PiTGYeUi3",
        "colab_type": "code",
        "colab": {
          "base_uri": "https://localhost:8080/",
          "height": 480
        },
        "outputId": "4b2243c4-1a0d-4ffb-ed8c-80c277b1a9a9"
      },
      "cell_type": "code",
      "source": [
        "# Compute document similarity using LSA components\n",
        "similarity = np.asarray(np.asmatrix(X_train_lsa) * np.asmatrix(X_train_lsa).T)\n",
        "#Only taking the first 10 sentences\n",
        "sim_matrix=pd.DataFrame(similarity,index=X_train).iloc[0:10,0:10]\n",
        "#Making a plot\n",
        "ax = sns.heatmap(sim_matrix,yticklabels=range(10))\n",
        "plt.show()\n",
        "\n",
        "#Generating a key for the plot.\n",
        "print('Key:')\n",
        "for i in range(10):\n",
        "    print(i,sim_matrix.index[i])"
      ],
      "execution_count": 17,
      "outputs": [
        {
          "output_type": "display_data",
          "data": {
            "image/png": "[encoded data removed]",
            "text/plain": [
              "<Figure size 432x288 with 2 Axes>"
            ]
          },
          "metadata": {
            "tags": []
          }
        },
        {
          "output_type": "stream",
          "text": [
            "Key:\n",
            "0 That is _court_ .\n",
            "1 \" Yes , sir , I did indeed ; and I am very much obliged by your kind solicitude about me .\"\n",
            "2 \" How much his business engrosses him already is very plain from the circumstance of his forgetting to inquire for the book you recommended .\n",
            "3 To restrain him as much as might be , by her own manners , she was immediately preparing to speak with exquisite calmness and gravity of the weather and the night ; but scarcely had she begun , scarcely had they passed the sweep - gate and joined the other carriage , than she found her subject cut up  her hand seized  her attention demanded , and Mr . Elton actually making violent love to her : availing himself of the precious opportunity , declaring sentiments which must be already well known , hoping  fearing  adoring  ready to die if she refused him ; but flattering himself that his ardent attachment and unequalled love and unexampled passion could not fail of having some effect , and in short , very much resolved on being seriously accepted as soon as possible .\n",
            "4 Emma smiled and answered \" My visit was of use to the nervous part of her complaint , I hope ; but not even I can charm away a sore throat ; it is a most severe cold indeed .\n",
            "5 A very few minutes more , however , completed the present trial .\n",
            "6 \" I am delighted to hear you speak so stoutly on the subject ,\" replied Emma , smiling ; \" but you do not mean to deny that there was a time  and not very distant either  when you gave me reason to understand that you did care about him ?\"\n",
            "7 \" Very well ; and if he had intended to give her one , he would have told her so .\"\n",
            "8 Some laughed , and answered good - humouredly .\n",
            "9 \" There appeared such a perfectly good understanding among them all \" he began rather quickly , but checking himself , added , \" however , it is impossible for me to say on what terms they really were  how it might all be behind the scenes .\n"
          ],
          "name": "stdout"
        }
      ]
    },
    {
      "metadata": {
        "id": "t2G_LZ1Xgj2y",
        "colab_type": "text"
      },
      "cell_type": "markdown",
      "source": [
        "### Findings :\n",
        "Increased feature count, percent variance captured decreased. Why is that?   "
      ]
    },
    {
      "metadata": {
        "id": "zMpmODwlhEos",
        "colab_type": "text"
      },
      "cell_type": "markdown",
      "source": [
        "### Version 2 "
      ]
    },
    {
      "metadata": {
        "id": "Ba1e-6O3fJgh",
        "colab_type": "code",
        "colab": {
          "base_uri": "https://localhost:8080/",
          "height": 70
        },
        "outputId": "619f7582-22b5-49c2-aea5-66f30f0e1576"
      },
      "cell_type": "code",
      "source": [
        "X_train, X_test = train_test_split(emma_paras, test_size=0.4, random_state=0)\n",
        "\n",
        "vectorizer = TfidfVectorizer(max_df=1.0, # do not drop words that occur in more than half the paragraphs\n",
        "                             min_df=2, #set back to words that only appears at least twice \n",
        "                             stop_words='english', \n",
        "                             lowercase=True, #convert everything to lower case (since Alice in Wonderland has the HABIT of CAPITALIZING WORDS for EMPHASIS)\n",
        "                             use_idf=True,#we definitely want to use inverse document frequencies in our weighting\n",
        "                             norm=u'l2', #Applies a correction factor so that longer paragraphs and shorter paragraphs get treated equally\n",
        "                             smooth_idf=True #Adds 1 to all document frequencies, as if an extra document existed that used every word once.  Prevents divide-by-zero errors\n",
        "                            )\n",
        "\n",
        "\n",
        "#Applying the vectorizer\n",
        "emma_paras_tfidf=vectorizer.fit_transform(emma_paras)\n",
        "print(\"Number of features: %d\" % emma_paras_tfidf.get_shape()[1])\n",
        "\n",
        "#splitting into training and test sets\n",
        "X_train_tfidf, X_test_tfidf= train_test_split(emma_paras_tfidf, test_size=0.4, random_state=0)\n",
        "\n",
        "\n",
        "#Reshapes the vectorizer output into something people can read\n",
        "X_train_tfidf_csr = X_train_tfidf.tocsr()\n",
        "\n",
        "#number of paragraphs\n",
        "n = X_train_tfidf_csr.shape[0]\n",
        "#A list of dictionaries, one per paragraph\n",
        "tfidf_bypara = [{} for _ in range(0,n)]\n",
        "#List of features\n",
        "terms = vectorizer.get_feature_names()\n",
        "#for each paragraph, lists the feature words and their tf-idf scores\n",
        "for i, j in zip(*X_train_tfidf_csr.nonzero()):\n",
        "    tfidf_bypara[i][terms[j]] = X_train_tfidf_csr[i, j]\n",
        "\n",
        "#Keep in mind that the log base 2 of 1 is 0, so a tf-idf score of 0 indicates that the word was present once in that sentence.\n",
        "print('Original sentence:', X_train[5])\n",
        "print('Tf_idf vector:', tfidf_bypara[5])"
      ],
      "execution_count": 19,
      "outputs": [
        {
          "output_type": "stream",
          "text": [
            "Number of features: 1948\n",
            "Original sentence: A very few minutes more , however , completed the present trial .\n",
            "Tf_idf vector: {'minutes': 0.7127450310382584, 'present': 0.701423210857947}\n"
          ],
          "name": "stdout"
        }
      ]
    },
    {
      "metadata": {
        "id": "9Lr_0Mrhg5_f",
        "colab_type": "code",
        "colab": {
          "base_uri": "https://localhost:8080/",
          "height": 1121
        },
        "outputId": "c5ae06a1-06ac-4076-ed8b-94042519afad"
      },
      "cell_type": "code",
      "source": [
        "#Our SVD data reducer.  We are going to reduce the feature space from 1379 to 130.\n",
        "svd= TruncatedSVD(130)\n",
        "lsa = make_pipeline(svd, Normalizer(copy=False))\n",
        "# Run SVD on the training data, then project the training data.\n",
        "X_train_lsa = lsa.fit_transform(X_train_tfidf)\n",
        "\n",
        "variance_explained=svd.explained_variance_ratio_\n",
        "total_variance = variance_explained.sum()\n",
        "print(\"Percent variance captured by all components:\",total_variance*100)\n",
        "\n",
        "#Looking at what sorts of paragraphs our solution considers similar, for the first five identified topics\n",
        "paras_by_component=pd.DataFrame(X_train_lsa,index=X_train)\n",
        "for i in range(5):\n",
        "    print('Component {}:'.format(i))\n",
        "    print(paras_by_component.loc[:,i].sort_values(ascending=False)[0:10])\n"
      ],
      "execution_count": 20,
      "outputs": [
        {
          "output_type": "stream",
          "text": [
            "Percent variance captured by all components: 45.19543921051992\n",
            "Component 0:\n",
            "\" Oh !    0.999289\n",
            "\" Oh !    0.999289\n",
            "\" Oh !    0.999289\n",
            "\" Oh !    0.999289\n",
            "\" Oh !    0.999289\n",
            "\" Oh !    0.999289\n",
            "\" Oh !    0.999289\n",
            "\" Oh !    0.999289\n",
            "\" Oh !    0.999289\n",
            "\" Oh !    0.999289\n",
            "Name: 0, dtype: float64\n",
            "Component 1:\n",
            "\" You have made her too tall , Emma ,\" said Mr . Knightley .                                                                                                                                                                                                                                                                                                                                                                                                                                                                                                                                                                                                                                                                                                                                                                                                                                                                                     0.634322\n",
            "\" You get upon delicate subjects , Emma ,\" said Mrs . Weston smiling ; \" remember that I am here . Mr .                                                                                                                                                                                                                                                                                                                                                                                                                                                                                                                                                                                                                                                                                                                                                                                                                                          0.588655\n",
            "\" I do not know what your opinion may be , Mrs . Weston ,\" said Mr . Knightley , \" of this great intimacy between Emma and Harriet Smith , but I think it a bad thing .\"                                                                                                                                                                                                                                                                                                                                                                                                                                                                                                                                                                                                                                                                                                                                                                         0.561578\n",
            "\" You are right , Mrs . Weston ,\" said Mr . Knightley warmly , \" Miss Fairfax is as capable as any of us of forming a just opinion of Mrs . Elton .                                                                                                                                                                                                                                                                                                                                                                                                                                                                                                                                                                                                                                                                                                                                                                                              0.559148\n",
            "\" There were misunderstandings between them , Emma ; he said so expressly .                                                                                                                                                                                                                                                                                                                                                                                                                                                                                                                                                                                                                                                                                                                                                                                                                                                                      0.528259\n",
            "Mr . Knightley might quarrel with her , but Emma could not quarrel with herself .                                                                                                                                                                                                                                                                                                                                                                                                                                                                                                                                                                                                                                                                                                                                                                                                                                                                0.526036\n",
            "\" Now ,\" said Emma , when they were fairly beyond the sweep gates , \" now Mr . Weston , do let me know what has happened .\"                                                                                                                                                                                                                                                                                                                                                                                                                                                                                                                                                                                                                                                                                                                                                                                                                      0.516971\n",
            "\" In one respect , perhaps , Mr . Elton ' s manners are superior to Mr . Knightley ' s or Mr . Weston ' s .                                                                                                                                                                                                                                                                                                                                                                                                                                                                                                                                                                                                                                                                                                                                                                                                                                      0.512818\n",
            "Emma found that it was not Mr . Weston ' s fault that the number of privy councillors was not yet larger .                                                                                                                                                                                                                                                                                                                                                                                                                                                                                                                                                                                                                                                                                                                                                                                                                                       0.511867\n",
            "Mrs . Weston was acting no part , feigning no feelings in all that she said to him in favour of the event . She had been extremely surprized , never more so , than when Emma first opened the affair to her ; but she saw in it only increase of happiness to all , and had no scruple in urging him to the utmost . She had such a regard for Mr . Knightley , as to think he deserved even her dearest Emma ; and it was in every respect so proper , suitable , and unexceptionable a connexion , and in one respect , one point of the highest importance , so peculiarly eligible , so singularly fortunate , that now it seemed as if Emma could not safely have attached herself to any other creature , and that she had herself been the stupidest of beings in not having thought of it , and wished it long ago . How very few of those men in a rank of life to address Emma would have renounced their own home for Hartfield !    0.504874\n",
            "Name: 1, dtype: float64\n",
            "Component 2:\n",
            "CHAPTER V     0.998430\n",
            "CHAPTER I     0.998430\n",
            "CHAPTER I     0.998430\n",
            "CHAPTER V     0.998430\n",
            "CHAPTER V     0.998430\n",
            "CHAPTER X     0.998430\n",
            "CHAPTER X     0.998430\n",
            "CHAPTER X     0.998430\n",
            "CHAPTER I     0.998430\n",
            "CHAPTER VI    0.997101\n",
            "Name: 2, dtype: float64\n",
            "Component 3:\n",
            "\" Ah !     0.992913\n",
            "\" Ah !     0.992913\n",
            "\" Ah !     0.992913\n",
            "\" Ah !     0.992913\n",
            "\" Ah !\"    0.992913\n",
            "\" Ah !     0.992913\n",
            "\" Ah !     0.992913\n",
            "\" Ah !     0.992913\n",
            "\" Ah !     0.992913\n",
            "\" Ah !     0.992913\n",
            "Name: 3, dtype: float64\n",
            "Component 4:\n",
            "\" There were misunderstandings between them , Emma ; he said so expressly .    0.650476\n",
            "\" Are you well , my Emma ?\"                                                    0.598972\n",
            "Emma demurred .                                                                0.598972\n",
            "Emma was silenced .                                                            0.588106\n",
            "At first it was downright dulness to Emma .                                    0.587446\n",
            "\" Emma , my dear Emma \"                                                        0.576895\n",
            "Emma could not resist .                                                        0.573284\n",
            "\" It is not now worth a regret ,\" said Emma .                                  0.551281\n",
            "\" For shame , Emma !                                                           0.547480\n",
            "\" I am ready ,\" said Emma , \" whenever I am wanted .\"                          0.497993\n",
            "Name: 4, dtype: float64\n"
          ],
          "name": "stdout"
        }
      ]
    },
    {
      "metadata": {
        "id": "4Qf99OyQhBdx",
        "colab_type": "code",
        "colab": {
          "base_uri": "https://localhost:8080/",
          "height": 480
        },
        "outputId": "c40f44bd-73f7-499d-9341-e22e2c3aa2a0"
      },
      "cell_type": "code",
      "source": [
        "# Compute document similarity using LSA components\n",
        "similarity = np.asarray(np.asmatrix(X_train_lsa) * np.asmatrix(X_train_lsa).T)\n",
        "#Only taking the first 10 sentences\n",
        "sim_matrix=pd.DataFrame(similarity,index=X_train).iloc[0:10,0:10]\n",
        "#Making a plot\n",
        "ax = sns.heatmap(sim_matrix,yticklabels=range(10))\n",
        "plt.show()\n",
        "\n",
        "#Generating a key for the plot.\n",
        "print('Key:')\n",
        "for i in range(10):\n",
        "    print(i,sim_matrix.index[i])"
      ],
      "execution_count": 21,
      "outputs": [
        {
          "output_type": "display_data",
          "data": {
            "image/png": "[encoded data removed]",
            "text/plain": [
              "<Figure size 432x288 with 2 Axes>"
            ]
          },
          "metadata": {
            "tags": []
          }
        },
        {
          "output_type": "stream",
          "text": [
            "Key:\n",
            "0 That is _court_ .\n",
            "1 \" Yes , sir , I did indeed ; and I am very much obliged by your kind solicitude about me .\"\n",
            "2 \" How much his business engrosses him already is very plain from the circumstance of his forgetting to inquire for the book you recommended .\n",
            "3 To restrain him as much as might be , by her own manners , she was immediately preparing to speak with exquisite calmness and gravity of the weather and the night ; but scarcely had she begun , scarcely had they passed the sweep - gate and joined the other carriage , than she found her subject cut up  her hand seized  her attention demanded , and Mr . Elton actually making violent love to her : availing himself of the precious opportunity , declaring sentiments which must be already well known , hoping  fearing  adoring  ready to die if she refused him ; but flattering himself that his ardent attachment and unequalled love and unexampled passion could not fail of having some effect , and in short , very much resolved on being seriously accepted as soon as possible .\n",
            "4 Emma smiled and answered \" My visit was of use to the nervous part of her complaint , I hope ; but not even I can charm away a sore throat ; it is a most severe cold indeed .\n",
            "5 A very few minutes more , however , completed the present trial .\n",
            "6 \" I am delighted to hear you speak so stoutly on the subject ,\" replied Emma , smiling ; \" but you do not mean to deny that there was a time  and not very distant either  when you gave me reason to understand that you did care about him ?\"\n",
            "7 \" Very well ; and if he had intended to give her one , he would have told her so .\"\n",
            "8 Some laughed , and answered good - humouredly .\n",
            "9 \" There appeared such a perfectly good understanding among them all \" he began rather quickly , but checking himself , added , \" however , it is impossible for me to say on what terms they really were  how it might all be behind the scenes .\n"
          ],
          "name": "stdout"
        }
      ]
    },
    {
      "metadata": {
        "id": "KvfZbqRBhY1M",
        "colab_type": "text"
      },
      "cell_type": "markdown",
      "source": [
        "### Findings: \n",
        "\n",
        "Same number of features and variance captured. Why is that? "
      ]
    },
    {
      "metadata": {
        "id": "mkyiNT-whfOj",
        "colab_type": "text"
      },
      "cell_type": "markdown",
      "source": [
        "### Version 3 "
      ]
    },
    {
      "metadata": {
        "id": "yPmj1ZGAheRi",
        "colab_type": "code",
        "colab": {
          "base_uri": "https://localhost:8080/",
          "height": 70
        },
        "outputId": "75464011-ab55-4769-ba0c-ee4eab2b9f18"
      },
      "cell_type": "code",
      "source": [
        "X_train, X_test = train_test_split(emma_paras, test_size=0.4, random_state=0)\n",
        "\n",
        "#keep vectorizer the same\n",
        "vectorizer = TfidfVectorizer(max_df=.5, #drop words that occur in more than half the paragraphs again\n",
        "                             min_df=2, #set back to words that only appears at least twice \n",
        "                             stop_words='english', \n",
        "                             lowercase=True, #convert everything to lower case (since Alice in Wonderland has the HABIT of CAPITALIZING WORDS for EMPHASIS)\n",
        "                             use_idf=True,#we definitely want to use inverse document frequencies in our weighting\n",
        "                             norm=u'l2', #Applies a correction factor so that longer paragraphs and shorter paragraphs get treated equally\n",
        "                             smooth_idf=True #Adds 1 to all document frequencies, as if an extra document existed that used every word once.  Prevents divide-by-zero errors\n",
        "                            )\n",
        "\n",
        "\n",
        "#Applying the vectorizer\n",
        "emma_paras_tfidf=vectorizer.fit_transform(emma_paras)\n",
        "print(\"Number of features: %d\" % emma_paras_tfidf.get_shape()[1])\n",
        "\n",
        "#splitting into training and test sets\n",
        "X_train_tfidf, X_test_tfidf= train_test_split(emma_paras_tfidf, test_size=0.4, random_state=0)\n",
        "\n",
        "\n",
        "#Reshapes the vectorizer output into something people can read\n",
        "X_train_tfidf_csr = X_train_tfidf.tocsr()\n",
        "\n",
        "#number of paragraphs\n",
        "n = X_train_tfidf_csr.shape[0]\n",
        "#A list of dictionaries, one per paragraph\n",
        "tfidf_bypara = [{} for _ in range(0,n)]\n",
        "#List of features\n",
        "terms = vectorizer.get_feature_names()\n",
        "#for each paragraph, lists the feature words and their tf-idf scores\n",
        "for i, j in zip(*X_train_tfidf_csr.nonzero()):\n",
        "    tfidf_bypara[i][terms[j]] = X_train_tfidf_csr[i, j]\n",
        "\n",
        "#Keep in mind that the log base 2 of 1 is 0, so a tf-idf score of 0 indicates that the word was present once in that sentence.\n",
        "print('Original sentence:', X_train[5])\n",
        "print('Tf_idf vector:', tfidf_bypara[5])"
      ],
      "execution_count": 22,
      "outputs": [
        {
          "output_type": "stream",
          "text": [
            "Number of features: 1948\n",
            "Original sentence: A very few minutes more , however , completed the present trial .\n",
            "Tf_idf vector: {'minutes': 0.7127450310382584, 'present': 0.701423210857947}\n"
          ],
          "name": "stdout"
        }
      ]
    },
    {
      "metadata": {
        "id": "21agKR4EjECC",
        "colab_type": "code",
        "colab": {
          "base_uri": "https://localhost:8080/",
          "height": 1101
        },
        "outputId": "e003e451-fc4d-4ffb-fbfc-8689d452fd3d"
      },
      "cell_type": "code",
      "source": [
        "#Our SVD data reducer.  \n",
        "#We are going to, this time, reduce the feature space from 1379 to 500.\n",
        "\n",
        "svd= TruncatedSVD(500)\n",
        "lsa = make_pipeline(svd, Normalizer(copy=False))\n",
        "# Run SVD on the training data, then project the training data.\n",
        "X_train_lsa = lsa.fit_transform(X_train_tfidf)\n",
        "\n",
        "variance_explained=svd.explained_variance_ratio_\n",
        "total_variance = variance_explained.sum()\n",
        "print(\"Percent variance captured by all components:\",total_variance*100)\n",
        "\n",
        "#Looking at what sorts of paragraphs our solution considers similar, for the first five identified topics\n",
        "paras_by_component=pd.DataFrame(X_train_lsa,index=X_train)\n",
        "for i in range(5):\n",
        "    print('Component {}:'.format(i))\n",
        "    print(paras_by_component.loc[:,i].sort_values(ascending=False)[0:10])\n"
      ],
      "execution_count": 23,
      "outputs": [
        {
          "output_type": "stream",
          "text": [
            "Percent variance captured by all components: 83.06872562432375\n",
            "Component 0:\n",
            "\" Oh !\"    0.999195\n",
            "\" Oh !     0.999195\n",
            "\" Oh !     0.999195\n",
            "\" Oh !     0.999195\n",
            "\" Oh !     0.999195\n",
            "\" Oh !     0.999195\n",
            "\" Oh !     0.999195\n",
            "\" Oh !     0.999195\n",
            "\" Oh !     0.999195\n",
            "\" Oh !     0.999195\n",
            "Name: 0, dtype: float64\n",
            "Component 1:\n",
            "\" You have made her too tall , Emma ,\" said Mr . Knightley .                                                                                                                0.578698\n",
            "\" There were misunderstandings between them , Emma ; he said so expressly .                                                                                                 0.523888\n",
            "\" I do not know what your opinion may be , Mrs . Weston ,\" said Mr . Knightley , \" of this great intimacy between Emma and Harriet Smith , but I think it a bad thing .\"    0.501690\n",
            "\" You are right , Mrs . Weston ,\" said Mr . Knightley warmly , \" Miss Fairfax is as capable as any of us of forming a just opinion of Mrs . Elton .                         0.471660\n",
            "\" So do I ,\" said Mrs . Weston gently , \" very much .\"                                                                                                                      0.467421\n",
            "\" I do not admire it ,\" said Mr . Knightley .                                                                                                                               0.452442\n",
            "Emma demurred .                                                                                                                                                             0.429266\n",
            "\" Are you well , my Emma ?\"                                                                                                                                                 0.429266\n",
            "\" Emma , my dear Emma \"                                                                                                                                                     0.421891\n",
            "\" No great variety of faces for you ,\" said Emma .                                                                                                                          0.413859\n",
            "Name: 1, dtype: float64\n",
            "Component 2:\n",
            "CHAPTER X       0.985424\n",
            "CHAPTER V       0.985424\n",
            "CHAPTER V       0.985424\n",
            "CHAPTER I       0.985424\n",
            "CHAPTER I       0.985424\n",
            "CHAPTER X       0.985424\n",
            "CHAPTER X       0.985424\n",
            "CHAPTER V       0.985424\n",
            "CHAPTER I       0.985424\n",
            "CHAPTER XVII    0.854183\n",
            "Name: 2, dtype: float64\n",
            "Component 3:\n",
            "\" Ah !\"     0.992725\n",
            "But ah !    0.992725\n",
            "\" Ah !      0.992725\n",
            "But ah !    0.992725\n",
            "\" Ah !      0.992725\n",
            "\" Ah !      0.992725\n",
            "\" Ah !      0.992725\n",
            "\" Ah !      0.992725\n",
            "\" Ah !      0.992725\n",
            "\" Ah !      0.992725\n",
            "Name: 3, dtype: float64\n",
            "Component 4:\n",
            "\" There were misunderstandings between them , Emma ; he said so expressly .    0.645093\n",
            "Emma demurred .                                                                0.591470\n",
            "\" Are you well , my Emma ?\"                                                    0.591470\n",
            "\" Emma , my dear Emma \"                                                        0.572161\n",
            "\" No great variety of faces for you ,\" said Emma .                             0.471390\n",
            "\" What is to be done , my dear Emma ? what is to be done ?\"                    0.464217\n",
            "\" But you will come again ,\" said Emma .                                       0.436161\n",
            "\" From something that he said , my dear Emma , I rather imagine \"              0.430845\n",
            "\" Yes ,\" said Emma , \" I hope I do .\"                                          0.389296\n",
            "The speech was more to Emma than to Harriet , which Emma could understand .    0.379888\n",
            "Name: 4, dtype: float64\n"
          ],
          "name": "stdout"
        }
      ]
    },
    {
      "metadata": {
        "id": "KRmF-IftjL5a",
        "colab_type": "code",
        "colab": {
          "base_uri": "https://localhost:8080/",
          "height": 480
        },
        "outputId": "a24dd223-e471-4ae7-d9cf-4c1851cff7ff"
      },
      "cell_type": "code",
      "source": [
        "# Compute document similarity using LSA components\n",
        "similarity = np.asarray(np.asmatrix(X_train_lsa) * np.asmatrix(X_train_lsa).T)\n",
        "#Only taking the first 10 sentences\n",
        "sim_matrix=pd.DataFrame(similarity,index=X_train).iloc[0:10,0:10]\n",
        "#Making a plot\n",
        "ax = sns.heatmap(sim_matrix,yticklabels=range(10))\n",
        "plt.show()\n",
        "\n",
        "#Generating a key for the plot.\n",
        "print('Key:')\n",
        "for i in range(10):\n",
        "    print(i,sim_matrix.index[i])"
      ],
      "execution_count": 24,
      "outputs": [
        {
          "output_type": "display_data",
          "data": {
            "image/png": "[encoded data removed]",
            "text/plain": [
              "<Figure size 432x288 with 2 Axes>"
            ]
          },
          "metadata": {
            "tags": []
          }
        },
        {
          "output_type": "stream",
          "text": [
            "Key:\n",
            "0 That is _court_ .\n",
            "1 \" Yes , sir , I did indeed ; and I am very much obliged by your kind solicitude about me .\"\n",
            "2 \" How much his business engrosses him already is very plain from the circumstance of his forgetting to inquire for the book you recommended .\n",
            "3 To restrain him as much as might be , by her own manners , she was immediately preparing to speak with exquisite calmness and gravity of the weather and the night ; but scarcely had she begun , scarcely had they passed the sweep - gate and joined the other carriage , than she found her subject cut up  her hand seized  her attention demanded , and Mr . Elton actually making violent love to her : availing himself of the precious opportunity , declaring sentiments which must be already well known , hoping  fearing  adoring  ready to die if she refused him ; but flattering himself that his ardent attachment and unequalled love and unexampled passion could not fail of having some effect , and in short , very much resolved on being seriously accepted as soon as possible .\n",
            "4 Emma smiled and answered \" My visit was of use to the nervous part of her complaint , I hope ; but not even I can charm away a sore throat ; it is a most severe cold indeed .\n",
            "5 A very few minutes more , however , completed the present trial .\n",
            "6 \" I am delighted to hear you speak so stoutly on the subject ,\" replied Emma , smiling ; \" but you do not mean to deny that there was a time  and not very distant either  when you gave me reason to understand that you did care about him ?\"\n",
            "7 \" Very well ; and if he had intended to give her one , he would have told her so .\"\n",
            "8 Some laughed , and answered good - humouredly .\n",
            "9 \" There appeared such a perfectly good understanding among them all \" he began rather quickly , but checking himself , added , \" however , it is impossible for me to say on what terms they really were  how it might all be behind the scenes .\n"
          ],
          "name": "stdout"
        }
      ]
    },
    {
      "metadata": {
        "id": "_ubfNG2njRNV",
        "colab_type": "text"
      },
      "cell_type": "markdown",
      "source": [
        "### Findings: \n",
        "\n",
        "To no surprised, we've captured much more variance in the dataset. What does this really do though? "
      ]
    },
    {
      "metadata": {
        "id": "P5pKHxvPjP0T",
        "colab_type": "code",
        "colab": {}
      },
      "cell_type": "code",
      "source": [
        ""
      ],
      "execution_count": 0,
      "outputs": []
    }
  ]
}