{
  "nbformat": 4,
  "nbformat_minor": 0,
  "metadata": {
    "colab": {
      "name": "NLP as a unsupervised neural network: word2vec",
      "version": "0.3.2",
      "provenance": []
    },
    "kernelspec": {
      "name": "python3",
      "display_name": "Python 3"
    }
  },
  "cells": [
    {
      "metadata": {
        "id": "MiwqJ3i2yfT-",
        "colab_type": "code",
        "colab": {
          "base_uri": "https://localhost:8080/",
          "height": 88
        },
        "outputId": "edbb6325-3e45-4c63-d358-c54e402fe232"
      },
      "cell_type": "code",
      "source": [
        "%matplotlib inline\n",
        "import numpy as np\n",
        "import pandas as pd\n",
        "import scipy\n",
        "import sklearn\n",
        "import spacy\n",
        "import matplotlib.pyplot as plt\n",
        "import seaborn as sns\n",
        "import re\n",
        "import nltk \n",
        "nltk.download('gutenberg')\n",
        "nltk.download('stopwords')\n",
        "from nltk.corpus import gutenberg, stopwords"
      ],
      "execution_count": 1,
      "outputs": [
        {
          "output_type": "stream",
          "text": [
            "[nltk_data] Downloading package gutenberg to /root/nltk_data...\n",
            "[nltk_data]   Package gutenberg is already up-to-date!\n",
            "[nltk_data] Downloading package stopwords to /root/nltk_data...\n",
            "[nltk_data]   Package stopwords is already up-to-date!\n"
          ],
          "name": "stdout"
        }
      ]
    },
    {
      "metadata": {
        "id": "-WgnZlVLygcO",
        "colab_type": "code",
        "colab": {}
      },
      "cell_type": "code",
      "source": [
        "# Utility function to clean text.\n",
        "def text_cleaner(text):\n",
        "    \n",
        "    # Visual inspection shows spaCy does not recognize the double dash '--'.\n",
        "    # Better get rid of it now!\n",
        "    text = re.sub(r'--',' ',text)\n",
        "    \n",
        "    # Get rid of headings in square brackets.\n",
        "    text = re.sub(\"[\\[].*?[\\]]\", \"\", text)\n",
        "    \n",
        "    # Get rid of chapter titles.\n",
        "    text = re.sub(r'Chapter \\d+','',text)\n",
        "    \n",
        "    # Get rid of extra whitespace.\n",
        "    text = ' '.join(text.split())\n",
        "    \n",
        "    return text\n",
        "\n",
        "\n",
        "# Import all the Austen in the Project Gutenberg corpus.\n",
        "austen = \"\"\n",
        "for novel in ['persuasion','emma','sense']:\n",
        "    work = gutenberg.raw('austen-' + novel + '.txt')\n",
        "    austen = austen + work[:333333]\n",
        "\n",
        "# Clean the data.\n",
        "austen_clean = text_cleaner(austen)"
      ],
      "execution_count": 0,
      "outputs": []
    },
    {
      "metadata": {
        "id": "hd7OYRJOyiss",
        "colab_type": "code",
        "colab": {}
      },
      "cell_type": "code",
      "source": [
        "# Parse the data. This can take some time.\n",
        "nlp = spacy.load('en')\n",
        "austen_doc = nlp(austen_clean)"
      ],
      "execution_count": 0,
      "outputs": []
    },
    {
      "metadata": {
        "id": "bsLb1be6ypQM",
        "colab_type": "code",
        "colab": {
          "base_uri": "https://localhost:8080/",
          "height": 52
        },
        "outputId": "fe357c62-c4e0-41e4-de5d-9caf4aabd303"
      },
      "cell_type": "code",
      "source": [
        "# Organize the parsed doc into sentences, while filtering out punctuation\n",
        "# and stop words, and converting words to lower case lemmas.\n",
        "sentences = []\n",
        "for sentence in austen_doc.sents:\n",
        "    sentence = [\n",
        "        token.lemma_.lower()\n",
        "        for token in sentence\n",
        "        if not token.is_stop\n",
        "        and not token.is_punct\n",
        "    ]\n",
        "    sentences.append(sentence)\n",
        "\n",
        "\n",
        "print(sentences[20])\n",
        "print('We have {} sentences and {} tokens.'.format(len(sentences), len(austen_clean)))"
      ],
      "execution_count": 4,
      "outputs": [
        {
          "output_type": "stream",
          "text": [
            "['for', 'daughter', 'eld', 'give', 'thing', 'tempt']\n",
            "We have 8222 sentences and 991140 tokens.\n"
          ],
          "name": "stdout"
        }
      ]
    },
    {
      "metadata": {
        "id": "oomRAjpeyyBw",
        "colab_type": "code",
        "colab": {
          "base_uri": "https://localhost:8080/",
          "height": 35
        },
        "outputId": "e50708bf-85e2-4839-83a6-0755598e8eaf"
      },
      "cell_type": "code",
      "source": [
        "import gensim\n",
        "from gensim.models import word2vec\n",
        "\n",
        "model = word2vec.Word2Vec(\n",
        "    sentences,\n",
        "    workers=4,     # Number of threads to run in parallel (if your computer does parallel processing).\n",
        "    min_count=10,  # Minimum word count threshold.\n",
        "    window=6,      # Number of words around target word to consider.\n",
        "    sg=0,          # Use CBOW because our corpus is small.\n",
        "    sample=1e-3 ,  # Penalize frequent words.\n",
        "    size=300,      # Word vector length.\n",
        "    hs=1           # Use hierarchical softmax.\n",
        ")\n",
        "\n",
        "print('done!')"
      ],
      "execution_count": 5,
      "outputs": [
        {
          "output_type": "stream",
          "text": [
            "done!\n"
          ],
          "name": "stdout"
        }
      ]
    },
    {
      "metadata": {
        "id": "lDH3rPrFy2Ir",
        "colab_type": "code",
        "colab": {
          "base_uri": "https://localhost:8080/",
          "height": 179
        },
        "outputId": "9349b6b5-1a8f-424a-a454-dfebbcfcb560"
      },
      "cell_type": "code",
      "source": [
        "# List of words in model.\n",
        "vocab = model.wv.vocab.keys()\n",
        "\n",
        "print(model.wv.most_similar(positive=['lady', 'man'], negative=['woman']))\n",
        "\n",
        "# Similarity is calculated using the cosine, so again 1 is total\n",
        "# similarity and 0 is no similarity.\n",
        "print(model.wv.similarity('water', 'fire'))\n",
        "print(model.wv.similarity('mr', 'mrs'))\n",
        "\n",
        "# One of these things is not like the other...\n",
        "print(model.doesnt_match(\"breakfast marriage dinner lunch\".split()))"
      ],
      "execution_count": 6,
      "outputs": [
        {
          "output_type": "stream",
          "text": [
            "[('walter', 0.9417375326156616), ('john', 0.9269562363624573), ('fairfax', 0.6918439865112305), ('every', 0.6761959791183472), ('randalls', 0.66037917137146), ('shepherd', 0.6602082252502441), ('couple', 0.6579938530921936), ('mrs.', 0.6426239609718323), ('anxiety', 0.6399222612380981), ('vicarage', 0.6196998357772827)]\n",
            "0.9599954\n",
            "0.74664086\n",
            "breakfast\n"
          ],
          "name": "stdout"
        },
        {
          "output_type": "stream",
          "text": [
            "/usr/local/lib/python3.6/dist-packages/gensim/matutils.py:737: FutureWarning: Conversion of the second argument of issubdtype from `int` to `np.signedinteger` is deprecated. In future, it will be treated as `np.int64 == np.dtype(int).type`.\n",
            "  if np.issubdtype(vec.dtype, np.int):\n",
            "/usr/local/lib/python3.6/dist-packages/ipykernel_launcher.py:11: DeprecationWarning: Call to deprecated `doesnt_match` (Method will be removed in 4.0.0, use self.wv.doesnt_match() instead).\n",
            "  # This is added back by InteractiveShellApp.init_path()\n"
          ],
          "name": "stderr"
        }
      ]
    },
    {
      "metadata": {
        "id": "oJw0uSb_zAYb",
        "colab_type": "text"
      },
      "cell_type": "markdown",
      "source": [
        "## Drill 0 "
      ]
    },
    {
      "metadata": {
        "id": "Hq0znAcr02Nk",
        "colab_type": "text"
      },
      "cell_type": "markdown",
      "source": [
        "#### Version 1 "
      ]
    },
    {
      "metadata": {
        "id": "6v64eigOy7Gm",
        "colab_type": "code",
        "colab": {
          "base_uri": "https://localhost:8080/",
          "height": 35
        },
        "outputId": "af564334-c8a2-455f-b0ad-483f47af5e22"
      },
      "cell_type": "code",
      "source": [
        "model = word2vec.Word2Vec(\n",
        "    sentences,\n",
        "    workers=4,     # Number of threads to run in parallel (if your computer does parallel processing).\n",
        "    min_count=10,  # Minimum word count threshold.\n",
        "    window=10,      # increase number of words around target word to consider from 6 to 10 \n",
        "    sg=0,          # Use CBOW because our corpus is small.\n",
        "    sample=1e-3 ,  # Penalize frequent words.\n",
        "    size=300,      # Word vector length.\n",
        "    hs=1           # Use hierarchical softmax.\n",
        ")\n",
        "\n",
        "print('done!')"
      ],
      "execution_count": 7,
      "outputs": [
        {
          "output_type": "stream",
          "text": [
            "done!\n"
          ],
          "name": "stdout"
        }
      ]
    },
    {
      "metadata": {
        "id": "M0E56FxYzDZT",
        "colab_type": "code",
        "colab": {
          "base_uri": "https://localhost:8080/",
          "height": 179
        },
        "outputId": "de0ec6c8-c5a5-4717-d129-cffe9d9c6acb"
      },
      "cell_type": "code",
      "source": [
        "# List of words in model.\n",
        "vocab = model.wv.vocab.keys()\n",
        "\n",
        "print(model.wv.most_similar(positive=['lady', 'man'], negative=['woman']))\n",
        "\n",
        "# Similarity is calculated using the cosine, so again 1 is total\n",
        "# similarity and 0 is no similarity.\n",
        "print(model.wv.similarity('water', 'fire'))\n",
        "print(model.wv.similarity('mr', 'mrs'))\n",
        "\n",
        "# One of these things is not like the other...\n",
        "print(model.doesnt_match(\"breakfast marriage dinner lunch\".split()))"
      ],
      "execution_count": 8,
      "outputs": [
        {
          "output_type": "stream",
          "text": [
            "[('walter', 0.9241783022880554), ('john', 0.9005014896392822), ('fairfax', 0.757648766040802), ('shepherd', 0.7034674882888794), ('steele', 0.6804590225219727), ('foot', 0.676314651966095), ('will', 0.6603134274482727), ('couple', 0.6538176536560059), ('heir', 0.6464061737060547), ('randalls', 0.6453427076339722)]\n",
            "0.9857224\n",
            "0.8504533\n",
            "breakfast\n"
          ],
          "name": "stdout"
        },
        {
          "output_type": "stream",
          "text": [
            "/usr/local/lib/python3.6/dist-packages/gensim/matutils.py:737: FutureWarning: Conversion of the second argument of issubdtype from `int` to `np.signedinteger` is deprecated. In future, it will be treated as `np.int64 == np.dtype(int).type`.\n",
            "  if np.issubdtype(vec.dtype, np.int):\n",
            "/usr/local/lib/python3.6/dist-packages/ipykernel_launcher.py:11: DeprecationWarning: Call to deprecated `doesnt_match` (Method will be removed in 4.0.0, use self.wv.doesnt_match() instead).\n",
            "  # This is added back by InteractiveShellApp.init_path()\n"
          ],
          "name": "stderr"
        }
      ]
    },
    {
      "metadata": {
        "id": "gl3NRLJ004O7",
        "colab_type": "text"
      },
      "cell_type": "markdown",
      "source": [
        "#### Version 2"
      ]
    },
    {
      "metadata": {
        "id": "pSlD3Qoa0fVg",
        "colab_type": "code",
        "colab": {
          "base_uri": "https://localhost:8080/",
          "height": 35
        },
        "outputId": "63ed04b5-55e4-42be-e8e0-b0e74b403146"
      },
      "cell_type": "code",
      "source": [
        "model = word2vec.Word2Vec(\n",
        "    sentences,\n",
        "    workers=4,     # Number of threads to run in parallel (if your computer does parallel processing).\n",
        "    min_count=5,  # Decrease minimum word count threshold from 10 to 5\n",
        "    window=6,      # Number of words around target word to consider\n",
        "    sg=0,          # Use CBOW because our corpus is small.\n",
        "    sample=1e-3 ,  # Penalize frequent words.\n",
        "    size=300,      # Word vector length.\n",
        "    hs=1           # Use hierarchical softmax.\n",
        ")\n",
        "\n",
        "print('done!')"
      ],
      "execution_count": 9,
      "outputs": [
        {
          "output_type": "stream",
          "text": [
            "done!\n"
          ],
          "name": "stdout"
        }
      ]
    },
    {
      "metadata": {
        "id": "5GuOkIVH2GFV",
        "colab_type": "code",
        "colab": {
          "base_uri": "https://localhost:8080/",
          "height": 179
        },
        "outputId": "97a599d0-b2c6-4f55-ae16-c3eca0c85a1c"
      },
      "cell_type": "code",
      "source": [
        "# List of words in model.\n",
        "vocab = model.wv.vocab.keys()\n",
        "\n",
        "print(model.wv.most_similar(positive=['lady', 'man'], negative=['woman']))\n",
        "\n",
        "# Similarity is calculated using the cosine, so again 1 is total\n",
        "# similarity and 0 is no similarity.\n",
        "print(model.wv.similarity('water', 'fire'))\n",
        "print(model.wv.similarity('mr', 'mrs'))\n",
        "\n",
        "# One of these things is not like the other...\n",
        "print(model.doesnt_match(\"breakfast marriage dinner lunch\".split()))"
      ],
      "execution_count": 10,
      "outputs": [
        {
          "output_type": "stream",
          "text": [
            "[('john', 0.9300658702850342), ('walter', 0.9299728870391846), ('coach', 0.8376947641372681), ('cleveland', 0.7374194860458374), ('repent', 0.6973816156387329), ('settled', 0.6890910863876343), ('heir', 0.6649557948112488), ('red', 0.6569865942001343), ('calmly', 0.6563971638679504), ('excessive', 0.655504584312439)]\n",
            "0.9480303\n",
            "0.74193454\n",
            "breakfast\n"
          ],
          "name": "stdout"
        },
        {
          "output_type": "stream",
          "text": [
            "/usr/local/lib/python3.6/dist-packages/gensim/matutils.py:737: FutureWarning: Conversion of the second argument of issubdtype from `int` to `np.signedinteger` is deprecated. In future, it will be treated as `np.int64 == np.dtype(int).type`.\n",
            "  if np.issubdtype(vec.dtype, np.int):\n",
            "/usr/local/lib/python3.6/dist-packages/ipykernel_launcher.py:11: DeprecationWarning: Call to deprecated `doesnt_match` (Method will be removed in 4.0.0, use self.wv.doesnt_match() instead).\n",
            "  # This is added back by InteractiveShellApp.init_path()\n"
          ],
          "name": "stderr"
        }
      ]
    },
    {
      "metadata": {
        "id": "tuKwh30P1Fyw",
        "colab_type": "text"
      },
      "cell_type": "markdown",
      "source": [
        "#### Version 3"
      ]
    },
    {
      "metadata": {
        "id": "yC07moX51Ez_",
        "colab_type": "code",
        "colab": {
          "base_uri": "https://localhost:8080/",
          "height": 35
        },
        "outputId": "b13fe2fa-e741-40fb-a553-168d04ca7dc5"
      },
      "cell_type": "code",
      "source": [
        "model = word2vec.Word2Vec(\n",
        "    sentences,\n",
        "    workers=4,     # Number of threads to run in parallel (if your computer does parallel processing).\n",
        "    min_count=10,  # Minimum word count threshold.\n",
        "    window=6,      # Number of words around target word to consider\n",
        "    sg=0,          # Use CBOW because our corpus is small.\n",
        "    sample=1e-3 ,  # Penalize frequent words.\n",
        "    size=100,      # Decrease word vector length.\n",
        "    hs=1           # Use hierarchical softmax.\n",
        ")\n",
        "\n",
        "print('done!')"
      ],
      "execution_count": 11,
      "outputs": [
        {
          "output_type": "stream",
          "text": [
            "done!\n"
          ],
          "name": "stdout"
        }
      ]
    },
    {
      "metadata": {
        "id": "EHkLXuBa2WLg",
        "colab_type": "code",
        "colab": {
          "base_uri": "https://localhost:8080/",
          "height": 179
        },
        "outputId": "cd484938-520a-4124-8deb-994964b7ca50"
      },
      "cell_type": "code",
      "source": [
        "# List of words in model.\n",
        "vocab = model.wv.vocab.keys()\n",
        "\n",
        "print(model.wv.most_similar(positive=['lady', 'man'], negative=['woman']))\n",
        "\n",
        "# Similarity is calculated using the cosine, so again 1 is total\n",
        "# similarity and 0 is no similarity.\n",
        "print(model.wv.similarity('water', 'fire'))\n",
        "print(model.wv.similarity('mr', 'mrs'))\n",
        "\n",
        "# One of these things is not like the other...\n",
        "print(model.doesnt_match(\"breakfast marriage dinner lunch\".split()))"
      ],
      "execution_count": 12,
      "outputs": [
        {
          "output_type": "stream",
          "text": [
            "[('walter', 0.8522377014160156), ('john', 0.8284045457839966), ('heir', 0.7273476719856262), ('fairfax', 0.7066775560379028), ('will', 0.6658843755722046), ('every', 0.6379197835922241), ('shepherd', 0.6313903331756592), ('vicarage', 0.6311731934547424), ('couple', 0.6219993829727173), ('foot', 0.6202102899551392)]\n",
            "0.9448424\n",
            "0.7276072\n",
            "marriage\n"
          ],
          "name": "stdout"
        },
        {
          "output_type": "stream",
          "text": [
            "/usr/local/lib/python3.6/dist-packages/gensim/matutils.py:737: FutureWarning: Conversion of the second argument of issubdtype from `int` to `np.signedinteger` is deprecated. In future, it will be treated as `np.int64 == np.dtype(int).type`.\n",
            "  if np.issubdtype(vec.dtype, np.int):\n",
            "/usr/local/lib/python3.6/dist-packages/ipykernel_launcher.py:11: DeprecationWarning: Call to deprecated `doesnt_match` (Method will be removed in 4.0.0, use self.wv.doesnt_match() instead).\n",
            "  # This is added back by InteractiveShellApp.init_path()\n"
          ],
          "name": "stderr"
        }
      ]
    },
    {
      "metadata": {
        "id": "bhNEAv5u2XJp",
        "colab_type": "code",
        "colab": {
          "base_uri": "https://localhost:8080/",
          "height": 666
        },
        "outputId": "a1097454-9da3-41cd-f14a-1c2b2adf1d66"
      },
      "cell_type": "code",
      "source": [
        "# Load Google's pre-trained Word2Vec model.\n",
        "model = gensim.models.KeyedVectors.load_word2vec_format('./model/GoogleNews-vectors-negative300.bin', binary=True)"
      ],
      "execution_count": 14,
      "outputs": [
        {
          "output_type": "error",
          "ename": "FileNotFoundError",
          "evalue": "ignored",
          "traceback": [
            "\u001b[0;31m---------------------------------------------------------------------------\u001b[0m",
            "\u001b[0;31mFileNotFoundError\u001b[0m                         Traceback (most recent call last)",
            "\u001b[0;32m<ipython-input-14-e5817809c0e1>\u001b[0m in \u001b[0;36m<module>\u001b[0;34m()\u001b[0m\n\u001b[0;32m----> 1\u001b[0;31m \u001b[0mmodel\u001b[0m \u001b[0;34m=\u001b[0m \u001b[0mgensim\u001b[0m\u001b[0;34m.\u001b[0m\u001b[0mmodels\u001b[0m\u001b[0;34m.\u001b[0m\u001b[0mKeyedVectors\u001b[0m\u001b[0;34m.\u001b[0m\u001b[0mload_word2vec_format\u001b[0m\u001b[0;34m(\u001b[0m\u001b[0;34m'./model/GoogleNews-vectors-negative300.bin'\u001b[0m\u001b[0;34m,\u001b[0m \u001b[0mbinary\u001b[0m\u001b[0;34m=\u001b[0m\u001b[0;32mTrue\u001b[0m\u001b[0;34m)\u001b[0m\u001b[0;34m\u001b[0m\u001b[0;34m\u001b[0m\u001b[0m\n\u001b[0m",
            "\u001b[0;32m/usr/local/lib/python3.6/dist-packages/gensim/models/keyedvectors.py\u001b[0m in \u001b[0;36mload_word2vec_format\u001b[0;34m(cls, fname, fvocab, binary, encoding, unicode_errors, limit, datatype)\u001b[0m\n\u001b[1;32m   1436\u001b[0m         return _load_word2vec_format(\n\u001b[1;32m   1437\u001b[0m             \u001b[0mcls\u001b[0m\u001b[0;34m,\u001b[0m \u001b[0mfname\u001b[0m\u001b[0;34m,\u001b[0m \u001b[0mfvocab\u001b[0m\u001b[0;34m=\u001b[0m\u001b[0mfvocab\u001b[0m\u001b[0;34m,\u001b[0m \u001b[0mbinary\u001b[0m\u001b[0;34m=\u001b[0m\u001b[0mbinary\u001b[0m\u001b[0;34m,\u001b[0m \u001b[0mencoding\u001b[0m\u001b[0;34m=\u001b[0m\u001b[0mencoding\u001b[0m\u001b[0;34m,\u001b[0m \u001b[0municode_errors\u001b[0m\u001b[0;34m=\u001b[0m\u001b[0municode_errors\u001b[0m\u001b[0;34m,\u001b[0m\u001b[0;34m\u001b[0m\u001b[0;34m\u001b[0m\u001b[0m\n\u001b[0;32m-> 1438\u001b[0;31m             limit=limit, datatype=datatype)\n\u001b[0m\u001b[1;32m   1439\u001b[0m \u001b[0;34m\u001b[0m\u001b[0m\n\u001b[1;32m   1440\u001b[0m     \u001b[0;32mdef\u001b[0m \u001b[0mget_keras_embedding\u001b[0m\u001b[0;34m(\u001b[0m\u001b[0mself\u001b[0m\u001b[0;34m,\u001b[0m \u001b[0mtrain_embeddings\u001b[0m\u001b[0;34m=\u001b[0m\u001b[0;32mFalse\u001b[0m\u001b[0;34m)\u001b[0m\u001b[0;34m:\u001b[0m\u001b[0;34m\u001b[0m\u001b[0;34m\u001b[0m\u001b[0m\n",
            "\u001b[0;32m/usr/local/lib/python3.6/dist-packages/gensim/models/utils_any2vec.py\u001b[0m in \u001b[0;36m_load_word2vec_format\u001b[0;34m(cls, fname, fvocab, binary, encoding, unicode_errors, limit, datatype)\u001b[0m\n\u001b[1;32m    169\u001b[0m \u001b[0;34m\u001b[0m\u001b[0m\n\u001b[1;32m    170\u001b[0m     \u001b[0mlogger\u001b[0m\u001b[0;34m.\u001b[0m\u001b[0minfo\u001b[0m\u001b[0;34m(\u001b[0m\u001b[0;34m\"loading projection weights from %s\"\u001b[0m\u001b[0;34m,\u001b[0m \u001b[0mfname\u001b[0m\u001b[0;34m)\u001b[0m\u001b[0;34m\u001b[0m\u001b[0;34m\u001b[0m\u001b[0m\n\u001b[0;32m--> 171\u001b[0;31m     \u001b[0;32mwith\u001b[0m \u001b[0mutils\u001b[0m\u001b[0;34m.\u001b[0m\u001b[0msmart_open\u001b[0m\u001b[0;34m(\u001b[0m\u001b[0mfname\u001b[0m\u001b[0;34m)\u001b[0m \u001b[0;32mas\u001b[0m \u001b[0mfin\u001b[0m\u001b[0;34m:\u001b[0m\u001b[0;34m\u001b[0m\u001b[0;34m\u001b[0m\u001b[0m\n\u001b[0m\u001b[1;32m    172\u001b[0m         \u001b[0mheader\u001b[0m \u001b[0;34m=\u001b[0m \u001b[0mutils\u001b[0m\u001b[0;34m.\u001b[0m\u001b[0mto_unicode\u001b[0m\u001b[0;34m(\u001b[0m\u001b[0mfin\u001b[0m\u001b[0;34m.\u001b[0m\u001b[0mreadline\u001b[0m\u001b[0;34m(\u001b[0m\u001b[0;34m)\u001b[0m\u001b[0;34m,\u001b[0m \u001b[0mencoding\u001b[0m\u001b[0;34m=\u001b[0m\u001b[0mencoding\u001b[0m\u001b[0;34m)\u001b[0m\u001b[0;34m\u001b[0m\u001b[0;34m\u001b[0m\u001b[0m\n\u001b[1;32m    173\u001b[0m         \u001b[0mvocab_size\u001b[0m\u001b[0;34m,\u001b[0m \u001b[0mvector_size\u001b[0m \u001b[0;34m=\u001b[0m \u001b[0;34m(\u001b[0m\u001b[0mint\u001b[0m\u001b[0;34m(\u001b[0m\u001b[0mx\u001b[0m\u001b[0;34m)\u001b[0m \u001b[0;32mfor\u001b[0m \u001b[0mx\u001b[0m \u001b[0;32min\u001b[0m \u001b[0mheader\u001b[0m\u001b[0;34m.\u001b[0m\u001b[0msplit\u001b[0m\u001b[0;34m(\u001b[0m\u001b[0;34m)\u001b[0m\u001b[0;34m)\u001b[0m  \u001b[0;31m# throws for invalid file format\u001b[0m\u001b[0;34m\u001b[0m\u001b[0;34m\u001b[0m\u001b[0m\n",
            "\u001b[0;32m/usr/local/lib/python3.6/dist-packages/smart_open/smart_open_lib.py\u001b[0m in \u001b[0;36msmart_open\u001b[0;34m(uri, mode, **kw)\u001b[0m\n\u001b[1;32m    179\u001b[0m         \u001b[0;32mraise\u001b[0m \u001b[0mTypeError\u001b[0m\u001b[0;34m(\u001b[0m\u001b[0;34m'mode should be a string'\u001b[0m\u001b[0;34m)\u001b[0m\u001b[0;34m\u001b[0m\u001b[0;34m\u001b[0m\u001b[0m\n\u001b[1;32m    180\u001b[0m \u001b[0;34m\u001b[0m\u001b[0m\n\u001b[0;32m--> 181\u001b[0;31m     \u001b[0mfobj\u001b[0m \u001b[0;34m=\u001b[0m \u001b[0m_shortcut_open\u001b[0m\u001b[0;34m(\u001b[0m\u001b[0muri\u001b[0m\u001b[0;34m,\u001b[0m \u001b[0mmode\u001b[0m\u001b[0;34m,\u001b[0m \u001b[0;34m**\u001b[0m\u001b[0mkw\u001b[0m\u001b[0;34m)\u001b[0m\u001b[0;34m\u001b[0m\u001b[0;34m\u001b[0m\u001b[0m\n\u001b[0m\u001b[1;32m    182\u001b[0m     \u001b[0;32mif\u001b[0m \u001b[0mfobj\u001b[0m \u001b[0;32mis\u001b[0m \u001b[0;32mnot\u001b[0m \u001b[0;32mNone\u001b[0m\u001b[0;34m:\u001b[0m\u001b[0;34m\u001b[0m\u001b[0;34m\u001b[0m\u001b[0m\n\u001b[1;32m    183\u001b[0m         \u001b[0;32mreturn\u001b[0m \u001b[0mfobj\u001b[0m\u001b[0;34m\u001b[0m\u001b[0;34m\u001b[0m\u001b[0m\n",
            "\u001b[0;32m/usr/local/lib/python3.6/dist-packages/smart_open/smart_open_lib.py\u001b[0m in \u001b[0;36m_shortcut_open\u001b[0;34m(uri, mode, **kw)\u001b[0m\n\u001b[1;32m    299\u001b[0m     \u001b[0;31m#\u001b[0m\u001b[0;34m\u001b[0m\u001b[0;34m\u001b[0m\u001b[0;34m\u001b[0m\u001b[0m\n\u001b[1;32m    300\u001b[0m     \u001b[0;32mif\u001b[0m \u001b[0msix\u001b[0m\u001b[0;34m.\u001b[0m\u001b[0mPY3\u001b[0m\u001b[0;34m:\u001b[0m\u001b[0;34m\u001b[0m\u001b[0;34m\u001b[0m\u001b[0m\n\u001b[0;32m--> 301\u001b[0;31m         \u001b[0;32mreturn\u001b[0m \u001b[0mopen\u001b[0m\u001b[0;34m(\u001b[0m\u001b[0mparsed_uri\u001b[0m\u001b[0;34m.\u001b[0m\u001b[0muri_path\u001b[0m\u001b[0;34m,\u001b[0m \u001b[0mmode\u001b[0m\u001b[0;34m,\u001b[0m \u001b[0mbuffering\u001b[0m\u001b[0;34m=\u001b[0m\u001b[0mbuffering\u001b[0m\u001b[0;34m,\u001b[0m \u001b[0;34m**\u001b[0m\u001b[0mopen_kwargs\u001b[0m\u001b[0;34m)\u001b[0m\u001b[0;34m\u001b[0m\u001b[0;34m\u001b[0m\u001b[0m\n\u001b[0m\u001b[1;32m    302\u001b[0m     \u001b[0;32melif\u001b[0m \u001b[0;32mnot\u001b[0m \u001b[0mopen_kwargs\u001b[0m\u001b[0;34m:\u001b[0m\u001b[0;34m\u001b[0m\u001b[0;34m\u001b[0m\u001b[0m\n\u001b[1;32m    303\u001b[0m         \u001b[0;32mreturn\u001b[0m \u001b[0mopen\u001b[0m\u001b[0;34m(\u001b[0m\u001b[0mparsed_uri\u001b[0m\u001b[0;34m.\u001b[0m\u001b[0muri_path\u001b[0m\u001b[0;34m,\u001b[0m \u001b[0mmode\u001b[0m\u001b[0;34m,\u001b[0m \u001b[0mbuffering\u001b[0m\u001b[0;34m=\u001b[0m\u001b[0mbuffering\u001b[0m\u001b[0;34m)\u001b[0m\u001b[0;34m\u001b[0m\u001b[0;34m\u001b[0m\u001b[0m\n",
            "\u001b[0;31mFileNotFoundError\u001b[0m: [Errno 2] No such file or directory: './model/GoogleNews-vectors-negative300.bin'"
          ]
        }
      ]
    },
    {
      "metadata": {
        "id": "8Q5TNfyd5lP1",
        "colab_type": "code",
        "colab": {}
      },
      "cell_type": "code",
      "source": [
        ""
      ],
      "execution_count": 0,
      "outputs": []
    }
  ]
}