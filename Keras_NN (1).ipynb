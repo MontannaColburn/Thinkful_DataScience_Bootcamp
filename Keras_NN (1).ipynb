{
  "nbformat": 4,
  "nbformat_minor": 0,
  "metadata": {
    "colab": {
      "name": "Keras NN",
      "version": "0.3.2",
      "provenance": []
    },
    "kernelspec": {
      "name": "python3",
      "display_name": "Python 3"
    }
  },
  "cells": [
    {
      "metadata": {
        "id": "ukvQq2oLgBq8",
        "colab_type": "code",
        "colab": {
          "base_uri": "https://localhost:8080/",
          "height": 34
        },
        "outputId": "f72b37bc-d38c-4f86-a122-d43f32637f59"
      },
      "cell_type": "code",
      "source": [
        "# Basic imports \n",
        "import matplotlib.pyplot as plt\n",
        "import numpy as np\n",
        "import pydot\n",
        "from scipy import stats\n",
        "\n",
        "# NN \n",
        "import tensorflow as tf\n",
        "import keras\n",
        "\n",
        "# Import various componenets for model building\n",
        "from keras.models import Sequential\n",
        "from keras.layers import Dense, Dropout, Flatten, Conv2D, MaxPooling2D\n",
        "from keras.layers import LSTM, Input, TimeDistributed\n",
        "from keras.models import Model\n",
        "from keras.optimizers import RMSprop\n",
        "\n",
        "# Import the backend\n",
        "from keras import backend as K"
      ],
      "execution_count": 1,
      "outputs": [
        {
          "output_type": "stream",
          "text": [
            "Using TensorFlow backend.\n"
          ],
          "name": "stderr"
        }
      ]
    },
    {
      "metadata": {
        "id": "nZQgWunljJBr",
        "colab_type": "code",
        "outputId": "febdb206-5e96-4915-e5f3-8398c4e08a51",
        "colab": {
          "base_uri": "https://localhost:8080/",
          "height": 121
        }
      },
      "cell_type": "code",
      "source": [
        "# Load the Drive helper and mount\n",
        "from google.colab import drive\n",
        "\n",
        "# This will prompt for authorization.\n",
        "drive.mount('/content/drive')"
      ],
      "execution_count": 2,
      "outputs": [
        {
          "output_type": "stream",
          "text": [
            "Go to this URL in a browser: https://accounts.google.com/o/oauth2/auth?client_id=947318989803-6bn6qk8qdgf4n4g3pfee6491hc0brc4i.apps.googleusercontent.com&redirect_uri=urn%3Aietf%3Awg%3Aoauth%3A2.0%3Aoob&scope=email%20https%3A%2F%2Fwww.googleapis.com%2Fauth%2Fdocs.test%20https%3A%2F%2Fwww.googleapis.com%2Fauth%2Fdrive%20https%3A%2F%2Fwww.googleapis.com%2Fauth%2Fdrive.photos.readonly%20https%3A%2F%2Fwww.googleapis.com%2Fauth%2Fpeopleapi.readonly&response_type=code\n",
            "\n",
            "Enter your authorization code:\n",
            "··········\n",
            "Mounted at /content/drive\n"
          ],
          "name": "stdout"
        }
      ]
    },
    {
      "metadata": {
        "id": "qz14BrVGgCEY",
        "colab_type": "code",
        "outputId": "9c3cf774-07a4-45fd-d3ec-d029a4634a69",
        "colab": {
          "base_uri": "https://localhost:8080/",
          "height": 353
        }
      },
      "cell_type": "code",
      "source": [
        "!pip install kaggle\n",
        "import os\n",
        "os.environ['KAGGLE_USERNAME'] = \"montannacolburn\"\n",
        "os.environ['KAGGLE_KEY'] = \"007de37d44c536ab92fd8332caafe4c5\"\n",
        "!kaggle competitions download -c dogs-vs-cats"
      ],
      "execution_count": 3,
      "outputs": [
        {
          "output_type": "stream",
          "text": [
            "Requirement already satisfied: kaggle in /usr/local/lib/python3.6/dist-packages (1.5.3)\n",
            "Requirement already satisfied: urllib3<1.25,>=1.21.1 in /usr/local/lib/python3.6/dist-packages (from kaggle) (1.22)\n",
            "Requirement already satisfied: six>=1.10 in /usr/local/lib/python3.6/dist-packages (from kaggle) (1.11.0)\n",
            "Requirement already satisfied: certifi in /usr/local/lib/python3.6/dist-packages (from kaggle) (2018.11.29)\n",
            "Requirement already satisfied: python-dateutil in /usr/local/lib/python3.6/dist-packages (from kaggle) (2.5.3)\n",
            "Requirement already satisfied: requests in /usr/local/lib/python3.6/dist-packages (from kaggle) (2.18.4)\n",
            "Requirement already satisfied: tqdm in /usr/local/lib/python3.6/dist-packages (from kaggle) (4.28.1)\n",
            "Requirement already satisfied: python-slugify in /usr/local/lib/python3.6/dist-packages (from kaggle) (2.0.1)\n",
            "Requirement already satisfied: chardet<3.1.0,>=3.0.2 in /usr/local/lib/python3.6/dist-packages (from requests->kaggle) (3.0.4)\n",
            "Requirement already satisfied: idna<2.7,>=2.5 in /usr/local/lib/python3.6/dist-packages (from requests->kaggle) (2.6)\n",
            "Requirement already satisfied: Unidecode>=0.04.16 in /usr/local/lib/python3.6/dist-packages (from python-slugify->kaggle) (1.0.23)\n",
            "Downloading sampleSubmission.csv to /content\n",
            "  0% 0.00/86.8k [00:00<?, ?B/s]\n",
            "100% 86.8k/86.8k [00:00<00:00, 84.7MB/s]\n",
            "Downloading test1.zip to /content\n",
            " 96% 261M/271M [00:01<00:00, 117MB/s]\n",
            "100% 271M/271M [00:01<00:00, 157MB/s]\n",
            "Downloading train.zip to /content\n",
            " 99% 538M/543M [00:05<00:00, 121MB/s]\n",
            "100% 543M/543M [00:05<00:00, 111MB/s]\n"
          ],
          "name": "stdout"
        }
      ]
    },
    {
      "metadata": {
        "id": "TAanQFeAuSQC",
        "colab_type": "code",
        "outputId": "64e6e2c5-a650-40d8-8913-3a1fa3651e62",
        "colab": {
          "base_uri": "https://localhost:8080/",
          "height": 34
        }
      },
      "cell_type": "code",
      "source": [
        "cd /content"
      ],
      "execution_count": 4,
      "outputs": [
        {
          "output_type": "stream",
          "text": [
            "/content\n"
          ],
          "name": "stdout"
        }
      ]
    },
    {
      "metadata": {
        "id": "BV6XjPXPIOwp",
        "colab_type": "code",
        "outputId": "6cb6d3fd-2915-4b94-9bc2-67ce52b1b9a8",
        "colab": {
          "base_uri": "https://localhost:8080/",
          "height": 34
        }
      },
      "cell_type": "code",
      "source": [
        "ls"
      ],
      "execution_count": 5,
      "outputs": [
        {
          "output_type": "stream",
          "text": [
            "\u001b[0m\u001b[01;34mdrive\u001b[0m/  \u001b[01;34msample_data\u001b[0m/  sampleSubmission.csv  test1.zip  train.zip\n"
          ],
          "name": "stdout"
        }
      ]
    },
    {
      "metadata": {
        "colab_type": "code",
        "outputId": "9ead6509-5aee-44a3-c21c-70f3544a8b6e",
        "id": "NlJizGgpIFdo",
        "colab": {
          "base_uri": "https://localhost:8080/",
          "height": 50
        }
      },
      "cell_type": "code",
      "source": [
        "#unzip into new directory \n",
        "\n",
        "!unzip \\*.zip > /content/unzip_train1"
      ],
      "execution_count": 6,
      "outputs": [
        {
          "output_type": "stream",
          "text": [
            "\n",
            "2 archives were successfully processed.\n"
          ],
          "name": "stdout"
        }
      ]
    },
    {
      "metadata": {
        "id": "qltsrdj8IWYq",
        "colab_type": "code",
        "outputId": "70152b64-a4ce-4b23-dd55-9e0ccafba977",
        "colab": {
          "base_uri": "https://localhost:8080/",
          "height": 195
        }
      },
      "cell_type": "code",
      "source": [
        "import pandas as pd\n",
        "filenames = os.listdir(\"/content/train/\")\n",
        "categories = []\n",
        "for filename in filenames:\n",
        "    category = filename.split('.')[0]\n",
        "    if category == 'dog':\n",
        "        categories.append('d')\n",
        "    else:\n",
        "        categories.append('c')\n",
        "        \n",
        "        \n",
        "df = pd.DataFrame({'filename':filenames,\n",
        "                  'category':categories})\n",
        "\n",
        "df.head()"
      ],
      "execution_count": 7,
      "outputs": [
        {
          "output_type": "execute_result",
          "data": {
            "text/html": [
              "<div>\n",
              "<style scoped>\n",
              "    .dataframe tbody tr th:only-of-type {\n",
              "        vertical-align: middle;\n",
              "    }\n",
              "\n",
              "    .dataframe tbody tr th {\n",
              "        vertical-align: top;\n",
              "    }\n",
              "\n",
              "    .dataframe thead th {\n",
              "        text-align: right;\n",
              "    }\n",
              "</style>\n",
              "<table border=\"1\" class=\"dataframe\">\n",
              "  <thead>\n",
              "    <tr style=\"text-align: right;\">\n",
              "      <th></th>\n",
              "      <th>category</th>\n",
              "      <th>filename</th>\n",
              "    </tr>\n",
              "  </thead>\n",
              "  <tbody>\n",
              "    <tr>\n",
              "      <th>0</th>\n",
              "      <td>c</td>\n",
              "      <td>cat.11639.jpg</td>\n",
              "    </tr>\n",
              "    <tr>\n",
              "      <th>1</th>\n",
              "      <td>d</td>\n",
              "      <td>dog.7247.jpg</td>\n",
              "    </tr>\n",
              "    <tr>\n",
              "      <th>2</th>\n",
              "      <td>c</td>\n",
              "      <td>cat.7792.jpg</td>\n",
              "    </tr>\n",
              "    <tr>\n",
              "      <th>3</th>\n",
              "      <td>c</td>\n",
              "      <td>cat.10973.jpg</td>\n",
              "    </tr>\n",
              "    <tr>\n",
              "      <th>4</th>\n",
              "      <td>c</td>\n",
              "      <td>cat.11628.jpg</td>\n",
              "    </tr>\n",
              "  </tbody>\n",
              "</table>\n",
              "</div>"
            ],
            "text/plain": [
              "  category       filename\n",
              "0        c  cat.11639.jpg\n",
              "1        d   dog.7247.jpg\n",
              "2        c   cat.7792.jpg\n",
              "3        c  cat.10973.jpg\n",
              "4        c  cat.11628.jpg"
            ]
          },
          "metadata": {
            "tags": []
          },
          "execution_count": 7
        }
      ]
    },
    {
      "metadata": {
        "id": "1dvDY3LVSNLI",
        "colab_type": "code",
        "outputId": "da8089a5-c80b-4101-8843-efe473b8ddcc",
        "colab": {
          "base_uri": "https://localhost:8080/",
          "height": 195
        }
      },
      "cell_type": "code",
      "source": [
        "import pandas as pd\n",
        "filenames = os.listdir(\"/content/test1/\")\n",
        "categories = []\n",
        "for filename in filenames:\n",
        "    category = filename.split('.')[0]\n",
        "    if category == 'dog':\n",
        "        categories.append('d')\n",
        "    else:\n",
        "        categories.append('c')\n",
        "        \n",
        "        \n",
        "df_test = pd.DataFrame({'filename':filenames,\n",
        "                  'category':categories})\n",
        "\n",
        "df_test.head()"
      ],
      "execution_count": 8,
      "outputs": [
        {
          "output_type": "execute_result",
          "data": {
            "text/html": [
              "<div>\n",
              "<style scoped>\n",
              "    .dataframe tbody tr th:only-of-type {\n",
              "        vertical-align: middle;\n",
              "    }\n",
              "\n",
              "    .dataframe tbody tr th {\n",
              "        vertical-align: top;\n",
              "    }\n",
              "\n",
              "    .dataframe thead th {\n",
              "        text-align: right;\n",
              "    }\n",
              "</style>\n",
              "<table border=\"1\" class=\"dataframe\">\n",
              "  <thead>\n",
              "    <tr style=\"text-align: right;\">\n",
              "      <th></th>\n",
              "      <th>category</th>\n",
              "      <th>filename</th>\n",
              "    </tr>\n",
              "  </thead>\n",
              "  <tbody>\n",
              "    <tr>\n",
              "      <th>0</th>\n",
              "      <td>c</td>\n",
              "      <td>10622.jpg</td>\n",
              "    </tr>\n",
              "    <tr>\n",
              "      <th>1</th>\n",
              "      <td>c</td>\n",
              "      <td>7622.jpg</td>\n",
              "    </tr>\n",
              "    <tr>\n",
              "      <th>2</th>\n",
              "      <td>c</td>\n",
              "      <td>3620.jpg</td>\n",
              "    </tr>\n",
              "    <tr>\n",
              "      <th>3</th>\n",
              "      <td>c</td>\n",
              "      <td>2741.jpg</td>\n",
              "    </tr>\n",
              "    <tr>\n",
              "      <th>4</th>\n",
              "      <td>c</td>\n",
              "      <td>9951.jpg</td>\n",
              "    </tr>\n",
              "  </tbody>\n",
              "</table>\n",
              "</div>"
            ],
            "text/plain": [
              "  category   filename\n",
              "0        c  10622.jpg\n",
              "1        c   7622.jpg\n",
              "2        c   3620.jpg\n",
              "3        c   2741.jpg\n",
              "4        c   9951.jpg"
            ]
          },
          "metadata": {
            "tags": []
          },
          "execution_count": 8
        }
      ]
    },
    {
      "metadata": {
        "id": "MqymEV3KOHxj",
        "colab_type": "code",
        "colab": {}
      },
      "cell_type": "code",
      "source": [
        "image_width = 50\n",
        "image_height = 50\n",
        "image_size = (image_width, image_height)\n",
        "image_channel = 3 # RGB color"
      ],
      "execution_count": 0,
      "outputs": []
    },
    {
      "metadata": {
        "id": "trVWXMKUMJiE",
        "colab_type": "code",
        "outputId": "d646e801-e0d6-4556-e39d-e2a58832dbc9",
        "colab": {
          "base_uri": "https://localhost:8080/",
          "height": 339
        }
      },
      "cell_type": "code",
      "source": [
        "#create model\n",
        "model = Sequential()\n",
        "#add model layers\n",
        "model.add(Conv2D(64, kernel_size=3, activation='relu', input_shape=((image_width,image_height,image_channel))))\n",
        "model.add(Conv2D(32, kernel_size=3, activation='relu'))\n",
        "model.add(Flatten())\n",
        "model.add(Dense(units=1,activation='softmax'))\n",
        "model.summary()\n",
        "\n",
        "# Compile the model to put it all together.\n",
        "model.compile(loss='binary_crossentropy',\n",
        "              optimizer=RMSprop(),\n",
        "              metrics=['accuracy'])"
      ],
      "execution_count": 10,
      "outputs": [
        {
          "output_type": "stream",
          "text": [
            "WARNING:tensorflow:From /usr/local/lib/python3.6/dist-packages/tensorflow/python/framework/op_def_library.py:263: colocate_with (from tensorflow.python.framework.ops) is deprecated and will be removed in a future version.\n",
            "Instructions for updating:\n",
            "Colocations handled automatically by placer.\n",
            "_________________________________________________________________\n",
            "Layer (type)                 Output Shape              Param #   \n",
            "=================================================================\n",
            "conv2d_1 (Conv2D)            (None, 48, 48, 64)        1792      \n",
            "_________________________________________________________________\n",
            "conv2d_2 (Conv2D)            (None, 46, 46, 32)        18464     \n",
            "_________________________________________________________________\n",
            "flatten_1 (Flatten)          (None, 67712)             0         \n",
            "_________________________________________________________________\n",
            "dense_1 (Dense)              (None, 1)                 67713     \n",
            "=================================================================\n",
            "Total params: 87,969\n",
            "Trainable params: 87,969\n",
            "Non-trainable params: 0\n",
            "_________________________________________________________________\n"
          ],
          "name": "stdout"
        }
      ]
    },
    {
      "metadata": {
        "id": "_1mr8DO4PUw0",
        "colab_type": "code",
        "colab": {}
      },
      "cell_type": "code",
      "source": [
        "df = df.reset_index(drop=True)\n",
        "df_test=df_test.reset_index(drop=True)"
      ],
      "execution_count": 0,
      "outputs": []
    },
    {
      "metadata": {
        "id": "lu8jjbClMGIz",
        "colab_type": "code",
        "outputId": "80fdc4fd-6cdf-4056-b8a8-1bd7479208e2",
        "colab": {
          "base_uri": "https://localhost:8080/",
          "height": 34
        }
      },
      "cell_type": "code",
      "source": [
        "from keras.preprocessing.image import ImageDataGenerator\n",
        "batch_size=15\n",
        "train_datagen = ImageDataGenerator(\n",
        "    rotation_range=15,\n",
        "    rescale=1./255,\n",
        "    shear_range=0.1,\n",
        "    zoom_range=0.2,\n",
        "    horizontal_flip=True,\n",
        "    width_shift_range=0.1,\n",
        "    height_shift_range=0.1\n",
        ")\n",
        "train_generator = train_datagen.flow_from_dataframe(\n",
        "    df, \"/content/train/\",\n",
        "    x_col='filename',\n",
        "    y_col='category',\n",
        "    target_size=image_size,\n",
        "    class_mode='binary',\n",
        "    batch_size=batch_size\n",
        ")"
      ],
      "execution_count": 14,
      "outputs": [
        {
          "output_type": "stream",
          "text": [
            "Found 25000 images belonging to 2 classes.\n"
          ],
          "name": "stdout"
        }
      ]
    },
    {
      "metadata": {
        "id": "dEK1ecx6qkJ0",
        "colab_type": "code",
        "outputId": "622d45c1-8dcb-4d0a-ad4a-3193433452c2",
        "colab": {
          "base_uri": "https://localhost:8080/",
          "height": 348
        }
      },
      "cell_type": "code",
      "source": [
        "x , y  = train_generator.next()\n",
        "for i in range(0,1):\n",
        "    random_image = x[i]\n",
        "    plt.imshow(random_image)\n",
        "    plt.show()"
      ],
      "execution_count": 15,
      "outputs": [
        {
          "output_type": "display_data",
          "data": {
            "image/png": "[encoded data removed]",
            "text/plain": [
              "<Figure size 576x396 with 1 Axes>"
            ]
          },
          "metadata": {
            "tags": []
          }
        }
      ]
    },
    {
      "metadata": {
        "id": "W6d4mzFwSilP",
        "colab_type": "code",
        "outputId": "4aba7d6d-e0c7-4ac1-adb5-6b1b2fbe1bcb",
        "colab": {
          "base_uri": "https://localhost:8080/",
          "height": 34
        }
      },
      "cell_type": "code",
      "source": [
        "test_gen = ImageDataGenerator(rescale=1./255)\n",
        "test_generator = test_gen.flow_from_dataframe(\n",
        "    df_test, \n",
        "    \"/content/test1/\", \n",
        "    x_col='filename',\n",
        "    y_col=None,\n",
        "    class_mode=None,\n",
        "    target_size=image_size,\n",
        "    batch_size=batch_size,\n",
        "    shuffle=False\n",
        ")"
      ],
      "execution_count": 16,
      "outputs": [
        {
          "output_type": "stream",
          "text": [
            "Found 12500 images.\n"
          ],
          "name": "stdout"
        }
      ]
    },
    {
      "metadata": {
        "id": "YfDEr_R9_GLV",
        "colab_type": "code",
        "outputId": "b9500e03-f11b-4790-d56d-f55553ad7849",
        "colab": {
          "base_uri": "https://localhost:8080/",
          "height": 34
        }
      },
      "cell_type": "code",
      "source": [
        "type(batch_size)"
      ],
      "execution_count": 17,
      "outputs": [
        {
          "output_type": "execute_result",
          "data": {
            "text/plain": [
              "int"
            ]
          },
          "metadata": {
            "tags": []
          },
          "execution_count": 17
        }
      ]
    },
    {
      "metadata": {
        "id": "XpG88MuKAxxd",
        "colab_type": "code",
        "outputId": "8e24de44-2975-4a5c-b40b-54ddaf0d6fc6",
        "colab": {
          "base_uri": "https://localhost:8080/",
          "height": 34
        }
      },
      "cell_type": "code",
      "source": [
        "train_generator.batch_size"
      ],
      "execution_count": 18,
      "outputs": [
        {
          "output_type": "execute_result",
          "data": {
            "text/plain": [
              "15"
            ]
          },
          "metadata": {
            "tags": []
          },
          "execution_count": 18
        }
      ]
    },
    {
      "metadata": {
        "id": "t3Zs2XhwXqky",
        "colab_type": "code",
        "colab": {}
      },
      "cell_type": "code",
      "source": [
        "STEP_SIZE_TRAIN=train_generator.n//train_generator.batch_size\n",
        "STEP_SIZE_VALID=test_generator.n//test_generator.batch_size"
      ],
      "execution_count": 0,
      "outputs": []
    },
    {
      "metadata": {
        "id": "eZZsw5dG_Ynm",
        "colab_type": "code",
        "outputId": "f17e7405-9c01-45ec-8a7b-e6f7d10bd74f",
        "colab": {
          "base_uri": "https://localhost:8080/",
          "height": 34
        }
      },
      "cell_type": "code",
      "source": [
        "STEP_SIZE_TRAIN"
      ],
      "execution_count": 20,
      "outputs": [
        {
          "output_type": "execute_result",
          "data": {
            "text/plain": [
              "1666"
            ]
          },
          "metadata": {
            "tags": []
          },
          "execution_count": 20
        }
      ]
    },
    {
      "metadata": {
        "id": "FDZO2dizAuIR",
        "colab_type": "code",
        "colab": {}
      },
      "cell_type": "code",
      "source": [
        "total_train = df.shape[0]\n",
        "total_validate = df_test.shape[0]\n",
        "batch_size=15"
      ],
      "execution_count": 0,
      "outputs": []
    },
    {
      "metadata": {
        "id": "MX1g3NyZMGep",
        "colab_type": "code",
        "outputId": "62c60a6c-77a6-4e06-da47-4fd77a31c344",
        "colab": {
          "base_uri": "https://localhost:8080/",
          "height": 6162
        }
      },
      "cell_type": "code",
      "source": [
        "epochs = 3\n",
        "history = model.fit_generator(\n",
        "    train_generator,\n",
        "    steps_per_epoch=total_train/batch_size,\n",
        "    epochs=epochs,\n",
        "    validation_data=test_generator,\n",
        "    validation_steps=total_validate/batch_size\n",
        ")"
      ],
      "execution_count": 22,
      "outputs": [
        {
          "output_type": "stream",
          "text": [
            "WARNING:tensorflow:From /usr/local/lib/python3.6/dist-packages/tensorflow/python/ops/math_ops.py:3066: to_int32 (from tensorflow.python.ops.math_ops) is deprecated and will be removed in a future version.\n",
            "Instructions for updating:\n",
            "Use tf.cast instead.\n",
            "Epoch 1/3\n",
            "1666/1666 [============================>.] - ETA: 0s - loss: 7.9690 - acc: 0.5001"
          ],
          "name": "stdout"
        },
        {
          "output_type": "error",
          "ename": "ValueError",
          "evalue": "ignored",
          "traceback": [
            "\u001b[0;31m---------------------------------------------------------------------------\u001b[0m",
            "\u001b[0;31mValueError\u001b[0m                                Traceback (most recent call last)",
            "\u001b[0;32m<ipython-input-22-c21f11fbaf59>\u001b[0m in \u001b[0;36m<module>\u001b[0;34m()\u001b[0m\n\u001b[1;32m      5\u001b[0m     \u001b[0mepochs\u001b[0m\u001b[0;34m=\u001b[0m\u001b[0mepochs\u001b[0m\u001b[0;34m,\u001b[0m\u001b[0;34m\u001b[0m\u001b[0;34m\u001b[0m\u001b[0m\n\u001b[1;32m      6\u001b[0m     \u001b[0mvalidation_data\u001b[0m\u001b[0;34m=\u001b[0m\u001b[0mtest_generator\u001b[0m\u001b[0;34m,\u001b[0m\u001b[0;34m\u001b[0m\u001b[0;34m\u001b[0m\u001b[0m\n\u001b[0;32m----> 7\u001b[0;31m     \u001b[0mvalidation_steps\u001b[0m\u001b[0;34m=\u001b[0m\u001b[0mtotal_validate\u001b[0m\u001b[0;34m/\u001b[0m\u001b[0mbatch_size\u001b[0m\u001b[0;34m\u001b[0m\u001b[0;34m\u001b[0m\u001b[0m\n\u001b[0m\u001b[1;32m      8\u001b[0m )\n",
            "\u001b[0;32m/usr/local/lib/python3.6/dist-packages/keras/legacy/interfaces.py\u001b[0m in \u001b[0;36mwrapper\u001b[0;34m(*args, **kwargs)\u001b[0m\n\u001b[1;32m     89\u001b[0m                 warnings.warn('Update your `' + object_name + '` call to the ' +\n\u001b[1;32m     90\u001b[0m                               'Keras 2 API: ' + signature, stacklevel=2)\n\u001b[0;32m---> 91\u001b[0;31m             \u001b[0;32mreturn\u001b[0m \u001b[0mfunc\u001b[0m\u001b[0;34m(\u001b[0m\u001b[0;34m*\u001b[0m\u001b[0margs\u001b[0m\u001b[0;34m,\u001b[0m \u001b[0;34m**\u001b[0m\u001b[0mkwargs\u001b[0m\u001b[0;34m)\u001b[0m\u001b[0;34m\u001b[0m\u001b[0;34m\u001b[0m\u001b[0m\n\u001b[0m\u001b[1;32m     92\u001b[0m         \u001b[0mwrapper\u001b[0m\u001b[0;34m.\u001b[0m\u001b[0m_original_function\u001b[0m \u001b[0;34m=\u001b[0m \u001b[0mfunc\u001b[0m\u001b[0;34m\u001b[0m\u001b[0;34m\u001b[0m\u001b[0m\n\u001b[1;32m     93\u001b[0m         \u001b[0;32mreturn\u001b[0m \u001b[0mwrapper\u001b[0m\u001b[0;34m\u001b[0m\u001b[0;34m\u001b[0m\u001b[0m\n",
            "\u001b[0;32m/usr/local/lib/python3.6/dist-packages/keras/engine/training.py\u001b[0m in \u001b[0;36mfit_generator\u001b[0;34m(self, generator, steps_per_epoch, epochs, verbose, callbacks, validation_data, validation_steps, class_weight, max_queue_size, workers, use_multiprocessing, shuffle, initial_epoch)\u001b[0m\n\u001b[1;32m   1416\u001b[0m             \u001b[0muse_multiprocessing\u001b[0m\u001b[0;34m=\u001b[0m\u001b[0muse_multiprocessing\u001b[0m\u001b[0;34m,\u001b[0m\u001b[0;34m\u001b[0m\u001b[0;34m\u001b[0m\u001b[0m\n\u001b[1;32m   1417\u001b[0m             \u001b[0mshuffle\u001b[0m\u001b[0;34m=\u001b[0m\u001b[0mshuffle\u001b[0m\u001b[0;34m,\u001b[0m\u001b[0;34m\u001b[0m\u001b[0;34m\u001b[0m\u001b[0m\n\u001b[0;32m-> 1418\u001b[0;31m             initial_epoch=initial_epoch)\n\u001b[0m\u001b[1;32m   1419\u001b[0m \u001b[0;34m\u001b[0m\u001b[0m\n\u001b[1;32m   1420\u001b[0m     \u001b[0;34m@\u001b[0m\u001b[0minterfaces\u001b[0m\u001b[0;34m.\u001b[0m\u001b[0mlegacy_generator_methods_support\u001b[0m\u001b[0;34m\u001b[0m\u001b[0;34m\u001b[0m\u001b[0m\n",
            "\u001b[0;32m/usr/local/lib/python3.6/dist-packages/keras/engine/training_generator.py\u001b[0m in \u001b[0;36mfit_generator\u001b[0;34m(model, generator, steps_per_epoch, epochs, verbose, callbacks, validation_data, validation_steps, class_weight, max_queue_size, workers, use_multiprocessing, shuffle, initial_epoch)\u001b[0m\n\u001b[1;32m    232\u001b[0m                             \u001b[0mval_enqueuer_gen\u001b[0m\u001b[0;34m,\u001b[0m\u001b[0;34m\u001b[0m\u001b[0;34m\u001b[0m\u001b[0m\n\u001b[1;32m    233\u001b[0m                             \u001b[0mvalidation_steps\u001b[0m\u001b[0;34m,\u001b[0m\u001b[0;34m\u001b[0m\u001b[0;34m\u001b[0m\u001b[0m\n\u001b[0;32m--> 234\u001b[0;31m                             workers=0)\n\u001b[0m\u001b[1;32m    235\u001b[0m                     \u001b[0;32melse\u001b[0m\u001b[0;34m:\u001b[0m\u001b[0;34m\u001b[0m\u001b[0;34m\u001b[0m\u001b[0m\n\u001b[1;32m    236\u001b[0m                         \u001b[0;31m# No need for try/except because\u001b[0m\u001b[0;34m\u001b[0m\u001b[0;34m\u001b[0m\u001b[0;34m\u001b[0m\u001b[0m\n",
            "\u001b[0;32m/usr/local/lib/python3.6/dist-packages/keras/legacy/interfaces.py\u001b[0m in \u001b[0;36mwrapper\u001b[0;34m(*args, **kwargs)\u001b[0m\n\u001b[1;32m     89\u001b[0m                 warnings.warn('Update your `' + object_name + '` call to the ' +\n\u001b[1;32m     90\u001b[0m                               'Keras 2 API: ' + signature, stacklevel=2)\n\u001b[0;32m---> 91\u001b[0;31m             \u001b[0;32mreturn\u001b[0m \u001b[0mfunc\u001b[0m\u001b[0;34m(\u001b[0m\u001b[0;34m*\u001b[0m\u001b[0margs\u001b[0m\u001b[0;34m,\u001b[0m \u001b[0;34m**\u001b[0m\u001b[0mkwargs\u001b[0m\u001b[0;34m)\u001b[0m\u001b[0;34m\u001b[0m\u001b[0;34m\u001b[0m\u001b[0m\n\u001b[0m\u001b[1;32m     92\u001b[0m         \u001b[0mwrapper\u001b[0m\u001b[0;34m.\u001b[0m\u001b[0m_original_function\u001b[0m \u001b[0;34m=\u001b[0m \u001b[0mfunc\u001b[0m\u001b[0;34m\u001b[0m\u001b[0;34m\u001b[0m\u001b[0m\n\u001b[1;32m     93\u001b[0m         \u001b[0;32mreturn\u001b[0m \u001b[0mwrapper\u001b[0m\u001b[0;34m\u001b[0m\u001b[0;34m\u001b[0m\u001b[0m\n",
            "\u001b[0;32m/usr/local/lib/python3.6/dist-packages/keras/engine/training.py\u001b[0m in \u001b[0;36mevaluate_generator\u001b[0;34m(self, generator, steps, max_queue_size, workers, use_multiprocessing, verbose)\u001b[0m\n\u001b[1;32m   1470\u001b[0m             \u001b[0mworkers\u001b[0m\u001b[0;34m=\u001b[0m\u001b[0mworkers\u001b[0m\u001b[0;34m,\u001b[0m\u001b[0;34m\u001b[0m\u001b[0;34m\u001b[0m\u001b[0m\n\u001b[1;32m   1471\u001b[0m             \u001b[0muse_multiprocessing\u001b[0m\u001b[0;34m=\u001b[0m\u001b[0muse_multiprocessing\u001b[0m\u001b[0;34m,\u001b[0m\u001b[0;34m\u001b[0m\u001b[0;34m\u001b[0m\u001b[0m\n\u001b[0;32m-> 1472\u001b[0;31m             verbose=verbose)\n\u001b[0m\u001b[1;32m   1473\u001b[0m \u001b[0;34m\u001b[0m\u001b[0m\n\u001b[1;32m   1474\u001b[0m     \u001b[0;34m@\u001b[0m\u001b[0minterfaces\u001b[0m\u001b[0;34m.\u001b[0m\u001b[0mlegacy_generator_methods_support\u001b[0m\u001b[0;34m\u001b[0m\u001b[0;34m\u001b[0m\u001b[0m\n",
            "\u001b[0;32m/usr/local/lib/python3.6/dist-packages/keras/engine/training_generator.py\u001b[0m in \u001b[0;36mevaluate_generator\u001b[0;34m(model, generator, steps, max_queue_size, workers, use_multiprocessing, verbose)\u001b[0m\n\u001b[1;32m    343\u001b[0m                                  \u001b[0;34m'(x, y, sample_weight) '\u001b[0m\u001b[0;34m\u001b[0m\u001b[0;34m\u001b[0m\u001b[0m\n\u001b[1;32m    344\u001b[0m                                  \u001b[0;34m'or (x, y). Found: '\u001b[0m \u001b[0;34m+\u001b[0m\u001b[0;34m\u001b[0m\u001b[0;34m\u001b[0m\u001b[0m\n\u001b[0;32m--> 345\u001b[0;31m                                  str(generator_output))\n\u001b[0m\u001b[1;32m    346\u001b[0m             \u001b[0mouts\u001b[0m \u001b[0;34m=\u001b[0m \u001b[0mmodel\u001b[0m\u001b[0;34m.\u001b[0m\u001b[0mtest_on_batch\u001b[0m\u001b[0;34m(\u001b[0m\u001b[0mx\u001b[0m\u001b[0;34m,\u001b[0m \u001b[0my\u001b[0m\u001b[0;34m,\u001b[0m \u001b[0msample_weight\u001b[0m\u001b[0;34m=\u001b[0m\u001b[0msample_weight\u001b[0m\u001b[0;34m)\u001b[0m\u001b[0;34m\u001b[0m\u001b[0;34m\u001b[0m\u001b[0m\n\u001b[1;32m    347\u001b[0m             \u001b[0mouts\u001b[0m \u001b[0;34m=\u001b[0m \u001b[0mto_list\u001b[0m\u001b[0;34m(\u001b[0m\u001b[0mouts\u001b[0m\u001b[0;34m)\u001b[0m\u001b[0;34m\u001b[0m\u001b[0;34m\u001b[0m\u001b[0m\n",
            "\u001b[0;31mValueError\u001b[0m: Output of generator should be a tuple (x, y, sample_weight) or (x, y). Found: [[[[0.40784317 0.4431373  0.4784314 ]\n   [0.45098042 0.47058827 0.49411768]\n   [0.5647059  0.60784316 0.62352943]\n   ...\n   [0.30588236 0.25490198 0.23137257]\n   [0.27058825 0.227451   0.20392159]\n   [0.3019608  0.28235295 0.27058825]]\n\n  [[0.29411766 0.29411766 0.3019608 ]\n   [0.42352945 0.45882356 0.49411768]\n   [0.49803925 0.5411765  0.5568628 ]\n   ...\n   [0.29803923 0.24705884 0.22352943]\n   [0.27450982 0.23137257 0.20784315]\n   [0.30588236 0.28627452 0.27450982]]\n\n  [[0.654902   0.68235296 0.7058824 ]\n   [0.41960788 0.454902   0.52156866]\n   [0.454902   0.4666667  0.49411768]\n   ...\n   [0.29803923 0.24705884 0.21568629]\n   [0.2901961  0.2392157  0.20784315]\n   [0.32156864 0.2901961  0.2784314 ]]\n\n  ...\n\n  [[0.18823531 0.18823531 0.18039216]\n   [0.427451   0.42352945 0.4431373 ]\n   [0.427451   0.427451   0.427451  ]\n   ...\n   [0.4784314  0.47450984 0.49411768]\n   [0.4784314  0.49411768 0.5058824 ]\n   [0.4666667  0.48235297 0.49411768]]\n\n  [[0.         0.         0.01568628]\n   [0.         0.         0.01568628]\n   [0.         0.         0.01568628]\n   ...\n   [0.01568628 0.01176471 0.03529412]\n   [0.01176471 0.01568628 0.03529412]\n   [0.01960784 0.02352941 0.04313726]]\n\n  [[0.00784314 0.00392157 0.03529412]\n   [0.00784314 0.00392157 0.03529412]\n   [0.00784314 0.00392157 0.03529412]\n   ...\n   [0.00784314 0.00392157 0.02745098]\n   [0.00392157 0.00784314 0.02745098]\n   [0.00392157 0.00784314 0.02745098]]]\n\n\n [[[0.3921569  0.29803923 0.2901961 ]\n   [0.3254902  0.23137257 0.23137257]\n   [0.32156864 0.2509804  0.20392159]\n   ...\n   [0.36862746 0.28627452 0.30588236]\n   [0.7490196  0.6627451  0.60784316]\n   [0.3254902  0.23529413 0.16470589]]\n\n  [[0.21960786 0.18823531 0.10588236]\n   [0.28235295 0.25882354 0.11764707]\n   [0.29411766 0.23529413 0.1137255 ]\n   ...\n   [0.29411766 0.20784315 0.1254902 ]\n   [0.43921572 0.3921569  0.3921569 ]\n   [0.6862745  0.6117647  0.54509807]]\n\n  [[0.29411766 0.20392159 0.13333334]\n   [0.3137255  0.2627451  0.12941177]\n   [0.3254902  0.26666668 0.15294118]\n   ...\n   [0.29411766 0.21176472 0.12941177]\n   [0.3254902  0.23137257 0.13725491]\n   [0.76470596 0.69803923 0.7372549 ]]\n\n  ...\n\n  [[0.17254902 0.12156864 0.09019608]\n   [0.14901961 0.12156864 0.08235294]\n   [0.19607845 0.15686275 0.11764707]\n   ...\n   [0.35686275 0.28235295 0.21568629]\n   [0.31764707 0.2392157  0.19607845]\n   [0.2509804  0.17254902 0.12941177]]\n\n  [[0.19607845 0.16078432 0.1254902 ]\n   [0.18431373 0.1764706  0.12941177]\n   [0.19215688 0.15294118 0.1137255 ]\n   ...\n   [0.3254902  0.23529413 0.18039216]\n   [0.32941177 0.25490198 0.19607845]\n   [0.3019608  0.227451   0.16862746]]\n\n  [[0.13725491 0.10588236 0.0627451 ]\n   [0.11764707 0.10588236 0.07843138]\n   [0.13333334 0.14117648 0.08627451]\n   ...\n   [0.6784314  0.6431373  0.6156863 ]\n   [0.2784314  0.21176472 0.13333334]\n   [0.31764707 0.24313727 0.21568629]]]\n\n\n [[[0.47450984 0.38823533 0.23529413]\n   [0.5019608  0.3921569  0.24705884]\n   [0.50980395 0.39607847 0.2392157 ]\n   ...\n   [0.14901961 0.43529415 0.74509805]\n   [0.24313727 0.3647059  0.54901963]\n   [0.09803922 0.12941177 0.28235295]]\n\n  [[0.50980395 0.41176474 0.2509804 ]\n   [0.49411768 0.3803922  0.22352943]\n   [0.5686275  0.454902   0.29803923]\n   ...\n   [0.07843138 0.28235295 0.5686275 ]\n   [0.14901961 0.24705884 0.4039216 ]\n   [0.0627451  0.1764706  0.34117648]]\n\n  [[0.5686275  0.454902   0.28235295]\n   [0.5568628  0.427451   0.25882354]\n   [0.54901963 0.43529415 0.2784314 ]\n   ...\n   [0.10980393 0.2392157  0.37647063]\n   [0.10980393 0.20392159 0.3137255 ]\n   [0.09411766 0.19607845 0.29411766]]\n\n  ...\n\n  [[0.6509804  0.627451   0.5019608 ]\n   [0.73333335 0.69803923 0.5764706 ]\n   [0.7803922  0.7607844  0.6039216 ]\n   ...\n   [0.6666667  0.58431375 0.47058827]\n   [0.7607844  0.67058825 0.54901963]\n   [0.7254902  0.64705884 0.5411765 ]]\n\n  [[0.57254905 0.54901963 0.42352945]\n   [0.7137255  0.654902   0.5411765 ]\n   [0.72156864 0.6784314  0.5529412 ]\n   ...\n   [0.7843138  0.7019608  0.5882353 ]\n   [0.7294118  0.6392157  0.5176471 ]\n   [0.6627451  0.58431375 0.4784314 ]]\n\n  [[0.6862745  0.6666667  0.54901963]\n   [0.7372549  0.7019608  0.5882353 ]\n   [0.7490196  0.7019608  0.6       ]\n   ...\n   [0.7372549  0.64705884 0.5254902 ]\n   [0.7019608  0.63529414 0.5254902 ]\n   [0.6313726  0.5647059  0.454902  ]]]\n\n\n ...\n\n\n [[[0.77647066 0.74509805 0.5647059 ]\n   [0.7607844  0.7294118  0.54901963]\n   [0.83921576 0.8352942  0.64705884]\n   ...\n   [0.6745098  0.6627451  0.46274513]\n   [0.6431373  0.63529414 0.4039216 ]\n   [0.6117647  0.60784316 0.38431376]]\n\n  [[0.7058824  0.6784314  0.46274513]\n   [0.6862745  0.65882355 0.4431373 ]\n   [0.60784316 0.6156863  0.36862746]\n   ...\n   [0.60784316 0.6        0.36862746]\n   [0.5529412  0.5411765  0.34117648]\n   [0.48235297 0.53333336 0.21176472]]\n\n  [[0.5058824  0.5254902  0.26666668]\n   [0.5803922  0.6        0.34901962]\n   [0.3921569  0.43137258 0.19215688]\n   ...\n   [0.32941177 0.3137255  0.1254902 ]\n   [0.69411767 0.65882355 0.4901961 ]\n   [0.6784314  0.6509804  0.44705886]]\n\n  ...\n\n  [[0.7725491  0.79215693 0.57254905]\n   [0.69411767 0.72156864 0.44705886]\n   [0.43137258 0.49803925 0.19215688]\n   ...\n   [0.5058824  0.4784314  0.30588236]\n   [0.44705886 0.43921572 0.24705884]\n   [0.43921572 0.43921572 0.227451  ]]\n\n  [[0.6039216  0.6431373  0.3647059 ]\n   [0.8117648  0.8196079  0.57254905]\n   [0.6627451  0.6862745  0.4431373 ]\n   ...\n   [0.4431373  0.43921572 0.21960786]\n   [0.58431375 0.5921569  0.40000004]\n   [0.43921572 0.54509807 0.26666668]]\n\n  [[0.5921569  0.59607846 0.36862746]\n   [0.6        0.627451   0.3647059 ]\n   [0.5372549  0.5647059  0.3019608 ]\n   ...\n   [0.48235297 0.5254902  0.26666668]\n   [0.5686275  0.61960787 0.40000004]\n   [0.70980394 0.7058824  0.48235297]]]\n\n\n [[[0.33333334 0.3372549  0.31764707]\n   [0.5882353  0.5882353  0.5803922 ]\n   [0.5882353  0.58431375 0.5764706 ]\n   ...\n   [0.72156864 0.6745098  0.627451  ]\n   [0.5647059  0.5372549  0.49803925]\n   [0.38823533 0.36862746 0.34509805]]\n\n  [[0.34901962 0.34117648 0.34509805]\n   [0.6784314  0.67058825 0.68235296]\n   [0.627451   0.62352943 0.6156863 ]\n   ...\n   [0.7254902  0.6901961  0.5764706 ]\n   [0.57254905 0.54509807 0.52156866]\n   [0.34509805 0.3254902  0.3019608 ]]\n\n  [[0.39607847 0.3803922  0.3372549 ]\n   [0.8431373  0.82745105 0.79215693]\n   [0.61960787 0.6156863  0.60784316]\n   ...\n   [0.78823537 0.7607844  0.5882353 ]\n   [0.62352943 0.5921569  0.58431375]\n   [0.3254902  0.30588236 0.28235295]]\n\n  ...\n\n  [[0.04705883 0.04705883 0.04705883]\n   [0.06666667 0.06666667 0.06666667]\n   [0.09411766 0.09411766 0.09411766]\n   ...\n   [0.47058827 0.48627454 0.4901961 ]\n   [0.43529415 0.43529415 0.427451  ]\n   [0.43137258 0.43137258 0.42352945]]\n\n  [[0.0509804  0.0509804  0.0509804 ]\n   [0.09803922 0.09803922 0.09803922]\n   [0.09019608 0.09019608 0.09019608]\n   ...\n   [0.38431376 0.38431376 0.37647063]\n   [0.3921569  0.3803922  0.36078432]\n   [0.38431376 0.38823533 0.3647059 ]]\n\n  [[0.1764706  0.1764706  0.16862746]\n   [0.15686275 0.15686275 0.14901961]\n   [0.14901961 0.15294118 0.13333334]\n   ...\n   [0.3921569  0.39607847 0.4039216 ]\n   [0.3921569  0.37647063 0.3647059 ]\n   [0.37254903 0.34509805 0.32156864]]]\n\n\n [[[0.3921569  0.48627454 0.24313727]\n   [0.28627452 0.3803922  0.14509805]\n   [0.14901961 0.24313727 0.01568628]\n   ...\n   [0.2392157  0.20000002 0.16078432]\n   [0.24313727 0.227451   0.18039216]\n   [0.20000002 0.21568629 0.15686275]]\n\n  [[0.3647059  0.48627454 0.3254902 ]\n   [0.5686275  0.7137255  0.40784317]\n   [0.58431375 0.7490196  0.31764707]\n   ...\n   [0.2392157  0.20000002 0.16078432]\n   [0.28627452 0.27058825 0.22352943]\n   [0.20784315 0.22352943 0.16470589]]\n\n  [[0.3137255  0.427451   0.30980393]\n   [0.2784314  0.39607847 0.2627451 ]\n   [0.5568628  0.69411767 0.427451  ]\n   ...\n   [0.227451   0.21568629 0.14117648]\n   [0.22352943 0.2392157  0.14901961]\n   [0.14117648 0.14901961 0.09803922]]\n\n  ...\n\n  [[0.56078434 0.5882353  0.42352945]\n   [0.5647059  0.5921569  0.427451  ]\n   [0.5568628  0.58431375 0.41960788]\n   ...\n   [0.7725491  0.75294125 0.5882353 ]\n   [0.7490196  0.69803923 0.52156866]\n   [0.7686275  0.7176471  0.5411765 ]]\n\n  [[0.58431375 0.6117647  0.44705886]\n   [0.58431375 0.6117647  0.44705886]\n   [0.59607846 0.62352943 0.45882356]\n   ...\n   [0.6862745  0.6666667  0.5019608 ]\n   [0.75294125 0.7019608  0.5254902 ]\n   [0.7725491  0.72156864 0.54509807]]\n\n  [[0.67058825 0.7843138  0.57254905]\n   [0.627451   0.7058824  0.5058824 ]\n   [0.58431375 0.6392157  0.44705886]\n   ...\n   [0.69803923 0.64705884 0.50980395]\n   [0.7372549  0.68235296 0.54509807]\n   [0.7607844  0.7058824  0.5686275 ]]]]"
          ]
        }
      ]
    },
    {
      "metadata": {
        "id": "s6dQdgN0KPX5",
        "colab_type": "code",
        "colab": {}
      },
      "cell_type": "code",
      "source": [
        ""
      ],
      "execution_count": 0,
      "outputs": []
    }
  ]
}