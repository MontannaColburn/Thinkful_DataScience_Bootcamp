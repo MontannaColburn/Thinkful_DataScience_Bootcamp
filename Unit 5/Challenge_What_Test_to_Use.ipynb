{
  "nbformat": 4,
  "nbformat_minor": 0,
  "metadata": {
    "colab": {
      "name": "Challenge What Test to Use.ipynb",
      "version": "0.3.2",
      "provenance": []
    },
    "kernelspec": {
      "name": "python3",
      "display_name": "Python 3"
    }
  },
  "cells": [
    {
      "metadata": {
        "id": "1NnhtY_8RbQx",
        "colab_type": "code",
        "colab": {}
      },
      "cell_type": "code",
      "source": [
        "#basic imports\n",
        "import pandas as pd\n",
        "import numpy as np\n",
        "\n",
        "#visuals \n",
        "import matplotlib.pyplot as plt\n",
        "%matplotlib inline\n",
        "import seaborn as sns\n",
        "\n",
        "import scipy"
      ],
      "execution_count": 0,
      "outputs": []
    },
    {
      "metadata": {
        "id": "wK3j-eTuRvUU",
        "colab_type": "code",
        "colab": {
          "base_uri": "https://localhost:8080/",
          "height": 343
        },
        "outputId": "c9401bc1-2187-4d75-b4ce-fe578ed6a8a1"
      },
      "cell_type": "code",
      "source": [
        "#read in data\n",
        "df = pd.read_csv('https://www.dropbox.com/s/qj3icie8zv18558/ESSdata_Thinkful.csv?dl=1') \n",
        "df.head(10)"
      ],
      "execution_count": 2,
      "outputs": [
        {
          "output_type": "execute_result",
          "data": {
            "text/html": [
              "<div>\n",
              "<style scoped>\n",
              "    .dataframe tbody tr th:only-of-type {\n",
              "        vertical-align: middle;\n",
              "    }\n",
              "\n",
              "    .dataframe tbody tr th {\n",
              "        vertical-align: top;\n",
              "    }\n",
              "\n",
              "    .dataframe thead th {\n",
              "        text-align: right;\n",
              "    }\n",
              "</style>\n",
              "<table border=\"1\" class=\"dataframe\">\n",
              "  <thead>\n",
              "    <tr style=\"text-align: right;\">\n",
              "      <th></th>\n",
              "      <th>cntry</th>\n",
              "      <th>idno</th>\n",
              "      <th>year</th>\n",
              "      <th>tvtot</th>\n",
              "      <th>ppltrst</th>\n",
              "      <th>pplfair</th>\n",
              "      <th>pplhlp</th>\n",
              "      <th>happy</th>\n",
              "      <th>sclmeet</th>\n",
              "      <th>sclact</th>\n",
              "      <th>gndr</th>\n",
              "      <th>agea</th>\n",
              "      <th>partner</th>\n",
              "    </tr>\n",
              "  </thead>\n",
              "  <tbody>\n",
              "    <tr>\n",
              "      <th>0</th>\n",
              "      <td>CH</td>\n",
              "      <td>5.0</td>\n",
              "      <td>6</td>\n",
              "      <td>3.0</td>\n",
              "      <td>3.0</td>\n",
              "      <td>10.0</td>\n",
              "      <td>5.0</td>\n",
              "      <td>8.0</td>\n",
              "      <td>5.0</td>\n",
              "      <td>4.0</td>\n",
              "      <td>2.0</td>\n",
              "      <td>60.0</td>\n",
              "      <td>1.0</td>\n",
              "    </tr>\n",
              "    <tr>\n",
              "      <th>1</th>\n",
              "      <td>CH</td>\n",
              "      <td>25.0</td>\n",
              "      <td>6</td>\n",
              "      <td>6.0</td>\n",
              "      <td>5.0</td>\n",
              "      <td>7.0</td>\n",
              "      <td>5.0</td>\n",
              "      <td>9.0</td>\n",
              "      <td>3.0</td>\n",
              "      <td>2.0</td>\n",
              "      <td>2.0</td>\n",
              "      <td>59.0</td>\n",
              "      <td>1.0</td>\n",
              "    </tr>\n",
              "    <tr>\n",
              "      <th>2</th>\n",
              "      <td>CH</td>\n",
              "      <td>26.0</td>\n",
              "      <td>6</td>\n",
              "      <td>1.0</td>\n",
              "      <td>8.0</td>\n",
              "      <td>8.0</td>\n",
              "      <td>8.0</td>\n",
              "      <td>7.0</td>\n",
              "      <td>6.0</td>\n",
              "      <td>3.0</td>\n",
              "      <td>1.0</td>\n",
              "      <td>24.0</td>\n",
              "      <td>2.0</td>\n",
              "    </tr>\n",
              "    <tr>\n",
              "      <th>3</th>\n",
              "      <td>CH</td>\n",
              "      <td>28.0</td>\n",
              "      <td>6</td>\n",
              "      <td>4.0</td>\n",
              "      <td>6.0</td>\n",
              "      <td>6.0</td>\n",
              "      <td>7.0</td>\n",
              "      <td>10.0</td>\n",
              "      <td>6.0</td>\n",
              "      <td>2.0</td>\n",
              "      <td>2.0</td>\n",
              "      <td>64.0</td>\n",
              "      <td>1.0</td>\n",
              "    </tr>\n",
              "    <tr>\n",
              "      <th>4</th>\n",
              "      <td>CH</td>\n",
              "      <td>29.0</td>\n",
              "      <td>6</td>\n",
              "      <td>5.0</td>\n",
              "      <td>6.0</td>\n",
              "      <td>7.0</td>\n",
              "      <td>5.0</td>\n",
              "      <td>8.0</td>\n",
              "      <td>7.0</td>\n",
              "      <td>2.0</td>\n",
              "      <td>2.0</td>\n",
              "      <td>55.0</td>\n",
              "      <td>1.0</td>\n",
              "    </tr>\n",
              "    <tr>\n",
              "      <th>5</th>\n",
              "      <td>CH</td>\n",
              "      <td>36.0</td>\n",
              "      <td>6</td>\n",
              "      <td>4.0</td>\n",
              "      <td>6.0</td>\n",
              "      <td>7.0</td>\n",
              "      <td>3.0</td>\n",
              "      <td>8.0</td>\n",
              "      <td>7.0</td>\n",
              "      <td>4.0</td>\n",
              "      <td>2.0</td>\n",
              "      <td>NaN</td>\n",
              "      <td>2.0</td>\n",
              "    </tr>\n",
              "    <tr>\n",
              "      <th>6</th>\n",
              "      <td>CH</td>\n",
              "      <td>40.0</td>\n",
              "      <td>6</td>\n",
              "      <td>3.0</td>\n",
              "      <td>0.0</td>\n",
              "      <td>5.0</td>\n",
              "      <td>2.0</td>\n",
              "      <td>0.0</td>\n",
              "      <td>2.0</td>\n",
              "      <td>2.0</td>\n",
              "      <td>1.0</td>\n",
              "      <td>76.0</td>\n",
              "      <td>1.0</td>\n",
              "    </tr>\n",
              "    <tr>\n",
              "      <th>7</th>\n",
              "      <td>CH</td>\n",
              "      <td>41.0</td>\n",
              "      <td>6</td>\n",
              "      <td>2.0</td>\n",
              "      <td>4.0</td>\n",
              "      <td>5.0</td>\n",
              "      <td>3.0</td>\n",
              "      <td>10.0</td>\n",
              "      <td>5.0</td>\n",
              "      <td>2.0</td>\n",
              "      <td>2.0</td>\n",
              "      <td>30.0</td>\n",
              "      <td>1.0</td>\n",
              "    </tr>\n",
              "    <tr>\n",
              "      <th>8</th>\n",
              "      <td>CH</td>\n",
              "      <td>51.0</td>\n",
              "      <td>6</td>\n",
              "      <td>2.0</td>\n",
              "      <td>8.0</td>\n",
              "      <td>8.0</td>\n",
              "      <td>8.0</td>\n",
              "      <td>9.0</td>\n",
              "      <td>6.0</td>\n",
              "      <td>4.0</td>\n",
              "      <td>2.0</td>\n",
              "      <td>84.0</td>\n",
              "      <td>2.0</td>\n",
              "    </tr>\n",
              "    <tr>\n",
              "      <th>9</th>\n",
              "      <td>CH</td>\n",
              "      <td>53.0</td>\n",
              "      <td>6</td>\n",
              "      <td>4.0</td>\n",
              "      <td>4.0</td>\n",
              "      <td>4.0</td>\n",
              "      <td>8.0</td>\n",
              "      <td>7.0</td>\n",
              "      <td>4.0</td>\n",
              "      <td>2.0</td>\n",
              "      <td>2.0</td>\n",
              "      <td>62.0</td>\n",
              "      <td>1.0</td>\n",
              "    </tr>\n",
              "  </tbody>\n",
              "</table>\n",
              "</div>"
            ],
            "text/plain": [
              "  cntry  idno  year  tvtot  ppltrst  pplfair  pplhlp  happy  sclmeet  sclact  \\\n",
              "0    CH   5.0     6    3.0      3.0     10.0     5.0    8.0      5.0     4.0   \n",
              "1    CH  25.0     6    6.0      5.0      7.0     5.0    9.0      3.0     2.0   \n",
              "2    CH  26.0     6    1.0      8.0      8.0     8.0    7.0      6.0     3.0   \n",
              "3    CH  28.0     6    4.0      6.0      6.0     7.0   10.0      6.0     2.0   \n",
              "4    CH  29.0     6    5.0      6.0      7.0     5.0    8.0      7.0     2.0   \n",
              "5    CH  36.0     6    4.0      6.0      7.0     3.0    8.0      7.0     4.0   \n",
              "6    CH  40.0     6    3.0      0.0      5.0     2.0    0.0      2.0     2.0   \n",
              "7    CH  41.0     6    2.0      4.0      5.0     3.0   10.0      5.0     2.0   \n",
              "8    CH  51.0     6    2.0      8.0      8.0     8.0    9.0      6.0     4.0   \n",
              "9    CH  53.0     6    4.0      4.0      4.0     8.0    7.0      4.0     2.0   \n",
              "\n",
              "   gndr  agea  partner  \n",
              "0   2.0  60.0      1.0  \n",
              "1   2.0  59.0      1.0  \n",
              "2   1.0  24.0      2.0  \n",
              "3   2.0  64.0      1.0  \n",
              "4   2.0  55.0      1.0  \n",
              "5   2.0   NaN      2.0  \n",
              "6   1.0  76.0      1.0  \n",
              "7   2.0  30.0      1.0  \n",
              "8   2.0  84.0      2.0  \n",
              "9   2.0  62.0      1.0  "
            ]
          },
          "metadata": {
            "tags": []
          },
          "execution_count": 2
        }
      ]
    },
    {
      "metadata": {
        "id": "qEStLLo9R-74",
        "colab_type": "code",
        "colab": {
          "base_uri": "https://localhost:8080/",
          "height": 319
        },
        "outputId": "17561703-ac81-4e25-ffff-f6921e476530"
      },
      "cell_type": "code",
      "source": [
        "df.info()"
      ],
      "execution_count": 3,
      "outputs": [
        {
          "output_type": "stream",
          "text": [
            "<class 'pandas.core.frame.DataFrame'>\n",
            "RangeIndex: 8594 entries, 0 to 8593\n",
            "Data columns (total 13 columns):\n",
            "cntry      8594 non-null object\n",
            "idno       8594 non-null float64\n",
            "year       8594 non-null int64\n",
            "tvtot      8586 non-null float64\n",
            "ppltrst    8580 non-null float64\n",
            "pplfair    8555 non-null float64\n",
            "pplhlp     8569 non-null float64\n",
            "happy      8563 non-null float64\n",
            "sclmeet    8579 non-null float64\n",
            "sclact     8500 non-null float64\n",
            "gndr       8584 non-null float64\n",
            "agea       8355 non-null float64\n",
            "partner    8577 non-null float64\n",
            "dtypes: float64(11), int64(1), object(1)\n",
            "memory usage: 872.9+ KB\n"
          ],
          "name": "stdout"
        }
      ]
    },
    {
      "metadata": {
        "id": "lhqOrXR7SCtY",
        "colab_type": "code",
        "colab": {}
      },
      "cell_type": "code",
      "source": [
        "df.dropna(inplace=True)\n",
        "df.drop(['idno'], axis=1, inplace=True)"
      ],
      "execution_count": 0,
      "outputs": []
    },
    {
      "metadata": {
        "id": "RJ-j0xQMPUkX",
        "colab_type": "code",
        "colab": {}
      },
      "cell_type": "code",
      "source": [
        "df_y12 = df[df.year == 6]\n",
        "df_y14 = df[df.year == 7]"
      ],
      "execution_count": 0,
      "outputs": []
    },
    {
      "metadata": {
        "id": "bU89DyhpohRt",
        "colab_type": "text"
      },
      "cell_type": "markdown",
      "source": [
        "### Did people become less trusting from 2012 to 2014? Compute results for each country in the sample."
      ]
    },
    {
      "metadata": {
        "id": "5Y_7ehy2aqb5",
        "colab_type": "code",
        "colab": {
          "base_uri": "https://localhost:8080/",
          "height": 441
        },
        "outputId": "a1ea9907-b4f1-4013-e404-f260cb23eaf4"
      },
      "cell_type": "code",
      "source": [
        "g = sns.FacetGrid(df, col=\"cntry\",  row=\"year\")\n",
        "g = g.map(plt.hist, \"ppltrst\")"
      ],
      "execution_count": 6,
      "outputs": [
        {
          "output_type": "display_data",
          "data": {
            "image/png": "[encoded data removed]",
            "text/plain": [
              "<Figure size 1296x432 with 12 Axes>"
            ]
          },
          "metadata": {
            "tags": []
          }
        }
      ]
    },
    {
      "metadata": {
        "id": "lLDifj8KSxKz",
        "colab_type": "code",
        "colab": {
          "base_uri": "https://localhost:8080/",
          "height": 706
        },
        "outputId": "e74a87ff-fcb6-4c1e-fca7-d5a409afa62a"
      },
      "cell_type": "code",
      "source": [
        "print('Shapiro Test for 2012\\n')\n",
        "for i in df_y12.cntry.unique(): \n",
        "       shapiro_results = scipy.stats.shapiro(df_y12[df_y12.cntry == i]['ppltrst'])\n",
        "       t_statistic = shapiro_results[0]\n",
        "       p_value = shapiro_results[1]\n",
        "       print('{} Shapiro Results'.format(i), '\\ntest statistic {}'.format(t_statistic),'\\np value {}'.format(p_value)) \n",
        "      \n",
        "print('\\nShapiro Test for 2014\\n')\n",
        "for i in df_y14.cntry.unique(): \n",
        "       shapiro_results = scipy.stats.shapiro(df_y14[df_y14.cntry == i]['ppltrst'])\n",
        "       t_statistic = shapiro_results[0]\n",
        "       p_value = shapiro_results[1]\n",
        "       print('{} Shapiro Results'.format(i), '\\ntest statistic {}'.format(t_statistic),'\\np value {}'.format(p_value))       "
      ],
      "execution_count": 7,
      "outputs": [
        {
          "output_type": "stream",
          "text": [
            "Shapiro Test for 2012\n",
            "\n",
            "CH Shapiro Results \n",
            "test statistic 0.9517108201980591 \n",
            "p value 9.511383786695374e-15\n",
            "CZ Shapiro Results \n",
            "test statistic 0.9680074453353882 \n",
            "p value 3.6126571179018185e-10\n",
            "DE Shapiro Results \n",
            "test statistic 0.8929166197776794 \n",
            "p value 0.10693283379077911\n",
            "ES Shapiro Results \n",
            "test statistic 0.949491024017334 \n",
            "p value 1.6942651933374377e-19\n",
            "NO Shapiro Results \n",
            "test statistic 0.9211018085479736 \n",
            "p value 8.881221102071063e-19\n",
            "SE Shapiro Results \n",
            "test statistic 0.9367397427558899 \n",
            "p value 1.2586250953636158e-18\n",
            "\n",
            "Shapiro Test for 2014\n",
            "\n",
            "CH Shapiro Results \n",
            "test statistic 0.9547930955886841 \n",
            "p value 2.4654701498145852e-14\n",
            "CZ Shapiro Results \n",
            "test statistic 0.9715775847434998 \n",
            "p value 1.8777941424019673e-09\n",
            "DE Shapiro Results \n",
            "test statistic 0.9425466060638428 \n",
            "p value 0.4519253373146057\n",
            "ES Shapiro Results \n",
            "test statistic 0.9663601517677307 \n",
            "p value 1.5275811452092943e-15\n",
            "NO Shapiro Results \n",
            "test statistic 0.9292040467262268 \n",
            "p value 7.928973676032161e-18\n",
            "SE Shapiro Results \n",
            "test statistic 0.9376322627067566 \n",
            "p value 1.3852298444033788e-18\n"
          ],
          "name": "stdout"
        }
      ]
    },
    {
      "metadata": {
        "id": "48C0jHiVW1QC",
        "colab_type": "text"
      },
      "cell_type": "markdown",
      "source": [
        " Considering our results from the Shapiro Wilkins test above, the null hypothesis that the data are normally distributed is rejected considering our p value is less than .05 for all countries and years other than DE. However, considering our observations size is very low here and this test is sensitive to sample size, it's likely detecting small and unimportant deviations from non-normality. Thus, we will conduct both parametric and non parametric tests. "
      ]
    },
    {
      "metadata": {
        "id": "69F8meMaTV2n",
        "colab_type": "code",
        "colab": {
          "base_uri": "https://localhost:8080/",
          "height": 504
        },
        "outputId": "3690bb36-555f-44b2-841d-85d6941360cb"
      },
      "cell_type": "code",
      "source": [
        "print('T Test\\n')\n",
        "for i in df_y12.cntry.unique():    \n",
        "    trst12 = df_y12[df_y12.cntry == i]['ppltrst']\n",
        "    trst14 = df_y14[df_y14.cntry == i]['ppltrst'] \n",
        "    ttest=scipy.stats.ttest_ind(trst12,trst14)\n",
        "    print('{} T Test Results\\n'.format(i), '{}'.format(ttest)) \n",
        "    \n",
        "print('\\nKruskal Test\\n')\n",
        "for i in df_y12.cntry.unique():    \n",
        "    trst12 = df_y12[df_y12.cntry == i]['ppltrst']\n",
        "    trst14 = df_y14[df_y14.cntry == i]['ppltrst'] \n",
        "    ktest=scipy.stats.kruskal(trst12,trst14)\n",
        "    print('{} Kruskal Test Results\\n'.format(i), '{}'.format(ktest))     "
      ],
      "execution_count": 8,
      "outputs": [
        {
          "output_type": "stream",
          "text": [
            "T Test\n",
            "\n",
            "CH T Test Results\n",
            " Ttest_indResult(statistic=-0.7156974792217816, pvalue=0.4742916002909491)\n",
            "CZ T Test Results\n",
            " Ttest_indResult(statistic=0.34075433231518504, pvalue=0.7333479315909976)\n",
            "DE T Test Results\n",
            " Ttest_indResult(statistic=-0.3466213170125284, pvalue=0.7317764273785732)\n",
            "ES T Test Results\n",
            " Ttest_indResult(statistic=2.1000674443244907, pvalue=0.03583204193521363)\n",
            "NO T Test Results\n",
            " Ttest_indResult(statistic=0.5119224181145228, pvalue=0.6087850218131978)\n",
            "SE T Test Results\n",
            " Ttest_indResult(statistic=-2.0268698056063146, pvalue=0.0428293634522298)\n",
            "\n",
            "Kruskal Test\n",
            "\n",
            "CH Kruskal Test Results\n",
            " KruskalResult(statistic=0.3211329972268854, pvalue=0.5709275494134165)\n",
            "CZ Kruskal Test Results\n",
            " KruskalResult(statistic=3.397334444818437e-05, pvalue=0.9953494239190417)\n",
            "DE Kruskal Test Results\n",
            " KruskalResult(statistic=0.11943127962085082, pvalue=0.7296521329635768)\n",
            "ES Kruskal Test Results\n",
            " KruskalResult(statistic=6.254399514712144, pvalue=0.012388523566141176)\n",
            "NO Kruskal Test Results\n",
            " KruskalResult(statistic=0.20681671394808315, pvalue=0.649273954856751)\n",
            "SE Kruskal Test Results\n",
            " KruskalResult(statistic=4.486790845114948, pvalue=0.03415774143761488)\n"
          ],
          "name": "stdout"
        }
      ]
    },
    {
      "metadata": {
        "id": "tCUT9zxoh4ut",
        "colab_type": "text"
      },
      "cell_type": "markdown",
      "source": [
        "Results from both the t test and kruskal test showcase significant changes in trust between the years of 2012 and 2014 for ES and SE. "
      ]
    },
    {
      "metadata": {
        "id": "Vai4Pb2uonOE",
        "colab_type": "text"
      },
      "cell_type": "markdown",
      "source": [
        "### Did people become happier from 2012 to 2014? Compute results for each country in the sample."
      ]
    },
    {
      "metadata": {
        "id": "VhNz3_ZubPWT",
        "colab_type": "code",
        "colab": {
          "base_uri": "https://localhost:8080/",
          "height": 441
        },
        "outputId": "846e5334-b0c0-4595-8dac-b6249109242e"
      },
      "cell_type": "code",
      "source": [
        "g = sns.FacetGrid(df, col=\"cntry\",  row=\"year\")\n",
        "g = g.map(plt.hist, \"happy\")"
      ],
      "execution_count": 9,
      "outputs": [
        {
          "output_type": "display_data",
          "data": {
            "image/png": "[encoded data removed]",
            "text/plain": [
              "<Figure size 1296x432 with 12 Axes>"
            ]
          },
          "metadata": {
            "tags": []
          }
        }
      ]
    },
    {
      "metadata": {
        "id": "uuE6H43OozFC",
        "colab_type": "code",
        "colab": {
          "base_uri": "https://localhost:8080/",
          "height": 706
        },
        "outputId": "635c6115-a94d-4eda-bd64-adc8e027eb67"
      },
      "cell_type": "code",
      "source": [
        "print('Shapiro Test for 2012\\n')\n",
        "for i in df_y12.cntry.unique(): \n",
        "       shapiro_results = scipy.stats.shapiro(df_y12[df_y12.cntry == i]['happy'])\n",
        "       t_statistic = shapiro_results[0]\n",
        "       p_value = shapiro_results[1]\n",
        "       print('{} Shapiro Results'.format(i), '\\ntest statistic {}'.format(t_statistic),'\\np value {}'.format(p_value)) \n",
        "      \n",
        "print('\\nShapiro Test for 2014\\n')\n",
        "for i in df_y14.cntry.unique(): \n",
        "       shapiro_results = scipy.stats.shapiro(df_y14[df_y14.cntry == i]['happy'])\n",
        "       t_statistic = shapiro_results[0]\n",
        "       p_value = shapiro_results[1]\n",
        "       print('{} Shapiro Results'.format(i), '\\ntest statistic {}'.format(t_statistic),'\\np value {}'.format(p_value))       "
      ],
      "execution_count": 10,
      "outputs": [
        {
          "output_type": "stream",
          "text": [
            "Shapiro Test for 2012\n",
            "\n",
            "CH Shapiro Results \n",
            "test statistic 0.8773602843284607 \n",
            "p value 1.4611401593361174e-23\n",
            "CZ Shapiro Results \n",
            "test statistic 0.9462587833404541 \n",
            "p value 5.939277796787254e-14\n",
            "DE Shapiro Results \n",
            "test statistic 0.9160983562469482 \n",
            "p value 0.22210942208766937\n",
            "ES Shapiro Results \n",
            "test statistic 0.9052610397338867 \n",
            "p value 3.4151276945678624e-26\n",
            "NO Shapiro Results \n",
            "test statistic 0.8498518466949463 \n",
            "p value 2.291937245544563e-25\n",
            "SE Shapiro Results \n",
            "test statistic 0.9025380611419678 \n",
            "p value 5.918160728712866e-23\n",
            "\n",
            "Shapiro Test for 2014\n",
            "\n",
            "CH Shapiro Results \n",
            "test statistic 0.8950787782669067 \n",
            "p value 4.273768685964887e-22\n",
            "CZ Shapiro Results \n",
            "test statistic 0.9448645710945129 \n",
            "p value 3.1643033327052525e-14\n",
            "DE Shapiro Results \n",
            "test statistic 0.9213663339614868 \n",
            "p value 0.23006466031074524\n",
            "ES Shapiro Results \n",
            "test statistic 0.9136462211608887 \n",
            "p value 6.898763644671094e-25\n",
            "NO Shapiro Results \n",
            "test statistic 0.8795287609100342 \n",
            "p value 4.6808705797415216e-23\n",
            "SE Shapiro Results \n",
            "test statistic 0.912103533744812 \n",
            "p value 5.600742285549146e-22\n"
          ],
          "name": "stdout"
        }
      ]
    },
    {
      "metadata": {
        "id": "qAOg8d0nqFj9",
        "colab_type": "text"
      },
      "cell_type": "markdown",
      "source": [
        "Once again, our results from the Shapiro Wilkins test showcases that our null hypothesis of the data are normally distributed can be rejected considering our p value is less than .05 for all countries and years other than DE.\n",
        "\n",
        "Again, we will conduct both parametric and non parametric tests. "
      ]
    },
    {
      "metadata": {
        "id": "KMVrenXPo77v",
        "colab_type": "code",
        "colab": {
          "base_uri": "https://localhost:8080/",
          "height": 504
        },
        "outputId": "7017e30c-d96e-4cf4-d758-3e53e1adadfa"
      },
      "cell_type": "code",
      "source": [
        "print('T Test\\n')\n",
        "for i in df_y12.cntry.unique():    \n",
        "    trst12 = df_y12[df_y12.cntry == i]['happy']\n",
        "    trst14 = df_y14[df_y14.cntry == i]['happy'] \n",
        "    ttest=scipy.stats.ttest_ind(trst12,trst14)\n",
        "    print('{} T Test Results\\n'.format(i), '{}'.format(ttest)) \n",
        "    \n",
        "print('\\nKruskal Test\\n')\n",
        "for i in df_y12.cntry.unique():    \n",
        "    trst12 = df_y12[df_y12.cntry == i]['happy']\n",
        "    trst14 = df_y14[df_y14.cntry == i]['happy'] \n",
        "    ktest=scipy.stats.kruskal(trst12,trst14)\n",
        "    print('{} Kruskal Test Results\\n'.format(i), '{}'.format(ktest))     "
      ],
      "execution_count": 11,
      "outputs": [
        {
          "output_type": "stream",
          "text": [
            "T Test\n",
            "\n",
            "CH T Test Results\n",
            " Ttest_indResult(statistic=-0.812142488327401, pvalue=0.4168411011770018)\n",
            "CZ T Test Results\n",
            " Ttest_indResult(statistic=-1.1592536826704618, pvalue=0.24658245820500238)\n",
            "DE T Test Results\n",
            " Ttest_indResult(statistic=-0.966317541228559, pvalue=0.3431409128727073)\n",
            "ES T Test Results\n",
            " Ttest_indResult(statistic=1.3750588408504656, pvalue=0.16924771370417369)\n",
            "NO T Test Results\n",
            " Ttest_indResult(statistic=4.152957205997266, pvalue=3.4778681704487346e-05)\n",
            "SE T Test Results\n",
            " Ttest_indResult(statistic=-0.5372790210326394, pvalue=0.5911442306272388)\n",
            "\n",
            "Kruskal Test\n",
            "\n",
            "CH Kruskal Test Results\n",
            " KruskalResult(statistic=0.7393607796289999, pvalue=0.3898657201494511)\n",
            "CZ Kruskal Test Results\n",
            " KruskalResult(statistic=0.7888702806828175, pvalue=0.37444194652901)\n",
            "DE Kruskal Test Results\n",
            " KruskalResult(statistic=0.7954545454545382, pvalue=0.3724558699813717)\n",
            "ES Kruskal Test Results\n",
            " KruskalResult(statistic=2.9615793608595036, pvalue=0.08526461865591295)\n",
            "NO Kruskal Test Results\n",
            " KruskalResult(statistic=17.78863118177249, pvalue=2.4685385809958533e-05)\n",
            "SE Kruskal Test Results\n",
            " KruskalResult(statistic=0.10011450993142058, pvalue=0.7516922609168144)\n"
          ],
          "name": "stdout"
        }
      ]
    },
    {
      "metadata": {
        "id": "juQPLXoCqqU6",
        "colab_type": "text"
      },
      "cell_type": "markdown",
      "source": [
        "Our t test indicates that there are not significant changes within happiness for any country between 2012 and 2014. However, because the visuals and Shapiro test indicate non normality, we'll use the Kruskal test as a reference and from this we can see a significant difference in happiness over the years for ES and NO. "
      ]
    },
    {
      "metadata": {
        "id": "9Dg1qMzwrDEP",
        "colab_type": "text"
      },
      "cell_type": "markdown",
      "source": [
        "### Who reported watching more TV in 2012, men or women?"
      ]
    },
    {
      "metadata": {
        "id": "NsSLnwWnqfE9",
        "colab_type": "code",
        "colab": {
          "base_uri": "https://localhost:8080/",
          "height": 225
        },
        "outputId": "0d0986a0-901f-428b-bd45-34bd65991da4"
      },
      "cell_type": "code",
      "source": [
        "g = sns.FacetGrid(df_y12, col=\"gndr\")\n",
        "g = g.map(plt.hist, \"tvtot\")"
      ],
      "execution_count": 12,
      "outputs": [
        {
          "output_type": "display_data",
          "data": {
            "image/png": "[encoded data removed]",
            "text/plain": [
              "<Figure size 432x216 with 2 Axes>"
            ]
          },
          "metadata": {
            "tags": []
          }
        }
      ]
    },
    {
      "metadata": {
        "id": "nQgeEFfby10-",
        "colab_type": "code",
        "colab": {
          "base_uri": "https://localhost:8080/",
          "height": 185
        },
        "outputId": "2a5371d1-f849-4b77-8fb2-297cfb3be2f2"
      },
      "cell_type": "code",
      "source": [
        "print('Shapiro Test for 2012 Gender TV Time\\n')\n",
        "for i in df_y12.gndr.unique(): \n",
        "       shapiro_results = scipy.stats.shapiro(df_y12[df_y12.gndr == i]['tvtot'])\n",
        "       t_statistic = shapiro_results[0]\n",
        "       p_value = shapiro_results[1]\n",
        "       print('{} Shapiro Results'.format(i), '\\ntest statistic {}'.format(t_statistic),'\\np value {}\\n'.format(p_value))"
      ],
      "execution_count": 13,
      "outputs": [
        {
          "output_type": "stream",
          "text": [
            "Shapiro Test for 2012 Gender TV Time\n",
            "\n",
            "2.0 Shapiro Results \n",
            "test statistic 0.9407297372817993 \n",
            "p value 1.0867231118970029e-27\n",
            "\n",
            "1.0 Shapiro Results \n",
            "test statistic 0.9443334937095642 \n",
            "p value 3.718612884828085e-27\n",
            "\n"
          ],
          "name": "stdout"
        }
      ]
    },
    {
      "metadata": {
        "id": "nfrAg1RJ3fTh",
        "colab_type": "text"
      },
      "cell_type": "markdown",
      "source": [
        "Considering the distribution is non normal for both gender types in 2012, we will again use the kruskal test to determine whether or not there is a signficant different between the two genders. "
      ]
    },
    {
      "metadata": {
        "id": "iv3rYEp13r-A",
        "colab_type": "code",
        "colab": {
          "base_uri": "https://localhost:8080/",
          "height": 67
        },
        "outputId": "7f3fdacc-a860-47b0-fc34-73d5b7ee8ef5"
      },
      "cell_type": "code",
      "source": [
        "print('Kruskal Test for 2012 Gender TV Time\\n')\n",
        "tvtot1 = df_y12[df_y12.gndr == 1]['tvtot']\n",
        "tvtot2 = df_y12[df_y12.gndr == 2]['tvtot']\n",
        "ktest=scipy.stats.kruskal(tvtot1,tvtot2)\n",
        "print('{}'.format(ktest))     "
      ],
      "execution_count": 14,
      "outputs": [
        {
          "output_type": "stream",
          "text": [
            "Kruskal Test for 2012 Gender TV Time\n",
            "\n",
            "KruskalResult(statistic=0.6145695087428265, pvalue=0.4330724786171142)\n"
          ],
          "name": "stdout"
        }
      ]
    },
    {
      "metadata": {
        "id": "VkaasGFK5RIP",
        "colab_type": "text"
      },
      "cell_type": "markdown",
      "source": [
        "Seeing as our pvalue is greater than .05 we will fail to reject the null hypothesis that there is a significant change between the groups in tv times. "
      ]
    },
    {
      "metadata": {
        "id": "-PcwBrD6rG1x",
        "colab_type": "text"
      },
      "cell_type": "markdown",
      "source": [
        "### Who was more likely to believe people were fair in 2012, people living with a partner or people living alone?"
      ]
    },
    {
      "metadata": {
        "id": "55lVMojMrJtr",
        "colab_type": "code",
        "colab": {
          "base_uri": "https://localhost:8080/",
          "height": 225
        },
        "outputId": "76a2d7f4-f212-4816-9fea-b58cc3c8023b"
      },
      "cell_type": "code",
      "source": [
        "g = sns.FacetGrid(df_y12, col=\"partner\")\n",
        "g = g.map(plt.hist, \"pplfair\")"
      ],
      "execution_count": 15,
      "outputs": [
        {
          "output_type": "display_data",
          "data": {
            "image/png": "[encoded data removed]",
            "text/plain": [
              "<Figure size 432x216 with 2 Axes>"
            ]
          },
          "metadata": {
            "tags": []
          }
        }
      ]
    },
    {
      "metadata": {
        "id": "bQ4WKfPD7DQt",
        "colab_type": "code",
        "colab": {
          "base_uri": "https://localhost:8080/",
          "height": 185
        },
        "outputId": "b4012f4d-0b5b-466e-8aca-321a50f86db2"
      },
      "cell_type": "code",
      "source": [
        "print('Shapiro Test for 2012 for people with and without a partner\\'s belief in people\\'s fairness\\n')\n",
        "for i in df_y12.partner.unique(): \n",
        "       shapiro_results = scipy.stats.shapiro(df_y12[df_y12.partner == i]['pplfair'])\n",
        "       t_statistic = shapiro_results[0]\n",
        "       p_value = shapiro_results[1]\n",
        "       print('{} Shapiro Results'.format(i), '\\ntest statistic {}'.format(t_statistic),'\\np value {}\\n'.format(p_value))"
      ],
      "execution_count": 16,
      "outputs": [
        {
          "output_type": "stream",
          "text": [
            "Shapiro Test for 2012 for people with and without a partner's belief in people's fairness\n",
            "\n",
            "1.0 Shapiro Results \n",
            "test statistic 0.9396088123321533 \n",
            "p value 5.344745707680362e-31\n",
            "\n",
            "2.0 Shapiro Results \n",
            "test statistic 0.9547916650772095 \n",
            "p value 2.436869843664993e-21\n",
            "\n"
          ],
          "name": "stdout"
        }
      ]
    },
    {
      "metadata": {
        "id": "HcU1Vq0o7QwH",
        "colab_type": "code",
        "colab": {
          "base_uri": "https://localhost:8080/",
          "height": 67
        },
        "outputId": "1810637a-1cc6-4b05-cd6a-238b6adbd752"
      },
      "cell_type": "code",
      "source": [
        "print('Kruskaal Test for 2012 for people with and without a partner\\'s belief in people\\'s fairness\\n')\n",
        "fair1 = df_y12[df_y12.partner == 1]['pplfair']\n",
        "fair2 = df_y12[df_y12.partner == 2]['pplfair']\n",
        "ktest=scipy.stats.kruskal(fair1,fair2)\n",
        "print('{}'.format(ktest))  "
      ],
      "execution_count": 17,
      "outputs": [
        {
          "output_type": "stream",
          "text": [
            "Kruskaal Test for 2012 for people with and without a partner's belief in people's fairness\n",
            "\n",
            "KruskalResult(statistic=11.887452362061, pvalue=0.0005651336752494688)\n"
          ],
          "name": "stdout"
        }
      ]
    },
    {
      "metadata": {
        "id": "gW-w6INC70KS",
        "colab_type": "text"
      },
      "cell_type": "markdown",
      "source": [
        "Considering there is a significant difference between the two group's belief in fairness. Taking a closer look at the histogram it appears that people with a partner are more likely to believe in people's fairness, but lets just get some further insight. "
      ]
    },
    {
      "metadata": {
        "id": "_ajP0NOq7zlI",
        "colab_type": "code",
        "colab": {
          "base_uri": "https://localhost:8080/",
          "height": 319
        },
        "outputId": "bfd4f732-b375-4ff2-d3cb-fdd6597f5a59"
      },
      "cell_type": "code",
      "source": [
        "print(fair1.describe())\n",
        "print(fair2.describe())"
      ],
      "execution_count": 18,
      "outputs": [
        {
          "output_type": "stream",
          "text": [
            "count    2542.000000\n",
            "mean        6.074351\n",
            "std         2.102916\n",
            "min         0.000000\n",
            "25%         5.000000\n",
            "50%         7.000000\n",
            "75%         8.000000\n",
            "max        10.000000\n",
            "Name: pplfair, dtype: float64\n",
            "count    1529.000000\n",
            "mean        5.865925\n",
            "std         2.138453\n",
            "min         0.000000\n",
            "25%         5.000000\n",
            "50%         6.000000\n",
            "75%         7.000000\n",
            "max        10.000000\n",
            "Name: pplfair, dtype: float64\n"
          ],
          "name": "stdout"
        }
      ]
    },
    {
      "metadata": {
        "id": "0VmcpCwfrKR7",
        "colab_type": "text"
      },
      "cell_type": "markdown",
      "source": [
        "### Pick three or four of the countries in the sample and compare how often people met socially in 2014. Are there differences, and if so, which countries stand out?"
      ]
    },
    {
      "metadata": {
        "id": "ff3wx_lnrMQi",
        "colab_type": "code",
        "colab": {
          "base_uri": "https://localhost:8080/",
          "height": 225
        },
        "outputId": "23fffecb-7feb-4b93-ad7d-c959bd7fbbbd"
      },
      "cell_type": "code",
      "source": [
        "g = sns.FacetGrid(df_y14, col=\"cntry\")\n",
        "g = g.map(plt.hist, \"sclmeet\")"
      ],
      "execution_count": 20,
      "outputs": [
        {
          "output_type": "display_data",
          "data": {
            "image/png": "[encoded data removed]",
            "text/plain": [
              "<Figure size 1296x216 with 6 Axes>"
            ]
          },
          "metadata": {
            "tags": []
          }
        }
      ]
    },
    {
      "metadata": {
        "id": "Wb0T-7e0NuGv",
        "colab_type": "code",
        "colab": {
          "base_uri": "https://localhost:8080/",
          "height": 454
        },
        "outputId": "8de4c0a2-357d-4454-91d3-aec1787426b1"
      },
      "cell_type": "code",
      "source": [
        "print('Shapiro Test for 2014 for people\\'s social meetings by country\\n')\n",
        "for i in df_y14.cntry.unique(): \n",
        "       shapiro_results = scipy.stats.shapiro(df_y14[df_y14.cntry == i]['sclmeet'])\n",
        "       t_statistic = shapiro_results[0]\n",
        "       p_value = shapiro_results[1]\n",
        "       print('{} Shapiro Results'.format(i), '\\ntest statistic {}'.format(t_statistic),'\\np value {}\\n'.format(p_value))"
      ],
      "execution_count": 23,
      "outputs": [
        {
          "output_type": "stream",
          "text": [
            "Shapiro Test for 2014 for people's social meetings by country\n",
            "\n",
            "CH Shapiro Results \n",
            "test statistic 0.8976361155509949 \n",
            "p value 7.658747353767709e-22\n",
            "\n",
            "CZ Shapiro Results \n",
            "test statistic 0.9442528486251831 \n",
            "p value 2.5791458676876697e-14\n",
            "\n",
            "DE Shapiro Results \n",
            "test statistic 0.8616600036621094 \n",
            "p value 0.032099850475788116\n",
            "\n",
            "ES Shapiro Results \n",
            "test statistic 0.8927679657936096 \n",
            "p value 2.280180298346974e-27\n",
            "\n",
            "NO Shapiro Results \n",
            "test statistic 0.887718915939331 \n",
            "p value 2.537563078833279e-22\n",
            "\n",
            "SE Shapiro Results \n",
            "test statistic 0.8782685399055481 \n",
            "p value 1.7535298169699071e-25\n",
            "\n"
          ],
          "name": "stdout"
        }
      ]
    },
    {
      "metadata": {
        "id": "1gbItbDHPsRF",
        "colab_type": "text"
      },
      "cell_type": "markdown",
      "source": [
        "Looks like these distributions are non normal, thus we will use Kruskal test for determining significant differences between groups. "
      ]
    },
    {
      "metadata": {
        "id": "mlVOVlZcOK_e",
        "colab_type": "code",
        "colab": {
          "base_uri": "https://localhost:8080/",
          "height": 67
        },
        "outputId": "fb28fcb6-bbe3-4da8-f097-ef7dab3c68b8"
      },
      "cell_type": "code",
      "source": [
        "print('Anova Test for 2014 for people\\'s social meetings by country\\n')\n",
        "meet1 = df_y14[df_y14.cntry == 'CH']['sclmeet']\n",
        "meet2 = df_y14[df_y14.cntry == 'CZ']['sclmeet']\n",
        "meet3 = df_y14[df_y14.cntry == 'ES']['sclmeet']\n",
        "anova_test=scipy.stats.f_oneway(meet1,meet2,meet3)\n",
        "print('{}'.format(anova_test))  "
      ],
      "execution_count": 24,
      "outputs": [
        {
          "output_type": "stream",
          "text": [
            "Anova Test for 2014 for people's social meetings by country\n",
            "\n",
            "F_onewayResult(statistic=63.151657307073876, pvalue=1.774754769196842e-27)\n"
          ],
          "name": "stdout"
        }
      ]
    },
    {
      "metadata": {
        "id": "n3aMfFRWOIB7",
        "colab_type": "code",
        "colab": {
          "base_uri": "https://localhost:8080/",
          "height": 67
        },
        "outputId": "d8c71a45-68a8-460e-e287-9e53d3353512"
      },
      "cell_type": "code",
      "source": [
        "print('Kruskal Test for 2014 for people\\'s social meetings by country\\n')\n",
        "ktest=scipy.stats.kruskal(meet1,meet2,meet3)\n",
        "print('{}'.format(ktest))  "
      ],
      "execution_count": 25,
      "outputs": [
        {
          "output_type": "stream",
          "text": [
            "Kruskaal Test for 2014 for people's social meetings by country\n",
            "\n",
            "KruskalResult(statistic=126.52408817790707, pvalue=3.354620049166388e-28)\n"
          ],
          "name": "stdout"
        }
      ]
    },
    {
      "metadata": {
        "id": "PTTHorLNP9XQ",
        "colab_type": "text"
      },
      "cell_type": "markdown",
      "source": [
        "According to both the Anova and Kruskal test, there is a significant difference between how people meet socially within these countries. To determine specifics, we'll have to take a deeper dive. "
      ]
    },
    {
      "metadata": {
        "id": "H_lazySuRwSz",
        "colab_type": "code",
        "colab": {}
      },
      "cell_type": "code",
      "source": [
        "df_meet = np.asarray(meet1.tolist()+meet2.tolist()+meet3.tolist())\n",
        "meet_co = np.array(['CH']*len(meet1) + ['CZ']*len(meet2) +['ES']*len(meet3))"
      ],
      "execution_count": 0,
      "outputs": []
    },
    {
      "metadata": {
        "id": "z01jCdbFRKdO",
        "colab_type": "code",
        "colab": {
          "base_uri": "https://localhost:8080/",
          "height": 151
        },
        "outputId": "ee5d7e43-06da-499e-f8f1-743874b0d593"
      },
      "cell_type": "code",
      "source": [
        "from statsmodels.stats.multicomp import pairwise_tukeyhsd\n",
        "tukey = pairwise_tukeyhsd(endog=df_meet,      # Data\n",
        "                          groups=meet_co,   # Groups\n",
        "                          alpha=0.05)  \n",
        "print(tukey)"
      ],
      "execution_count": 46,
      "outputs": [
        {
          "output_type": "stream",
          "text": [
            "Multiple Comparison of Means - Tukey HSD,FWER=0.05\n",
            "=============================================\n",
            "group1 group2 meandiff  lower   upper  reject\n",
            "---------------------------------------------\n",
            "  CH     CZ   -0.6799  -0.8605 -0.4993  True \n",
            "  CH     ES    0.0887   -0.067  0.2444 False \n",
            "  CZ     ES    0.7686   0.6026  0.9346  True \n",
            "---------------------------------------------\n"
          ],
          "name": "stdout"
        }
      ]
    },
    {
      "metadata": {
        "id": "Op5xl5ESV8tK",
        "colab_type": "text"
      },
      "cell_type": "markdown",
      "source": [
        "According to the tukey test, Czech Republic is significantly different from Spain and Sweden. "
      ]
    },
    {
      "metadata": {
        "id": "XaYJMOprrN_d",
        "colab_type": "text"
      },
      "cell_type": "markdown",
      "source": [
        "### Pick three or four of the countries in the sample and compare how often people took part in social activities, relative to others their age, in 2014. Are there differences, and if so, which countries stand out?"
      ]
    },
    {
      "metadata": {
        "id": "oWWNfeMgrOqo",
        "colab_type": "code",
        "colab": {
          "base_uri": "https://localhost:8080/",
          "height": 225
        },
        "outputId": "ee988c07-f650-498a-df53-5eed1e73ddeb"
      },
      "cell_type": "code",
      "source": [
        "g = sns.FacetGrid(df_y14, col=\"cntry\")\n",
        "g = g.map(plt.hist, \"sclact\")"
      ],
      "execution_count": 47,
      "outputs": [
        {
          "output_type": "display_data",
          "data": {
            "image/png": "[encoded data removed]",
            "text/plain": [
              "<Figure size 1296x216 with 6 Axes>"
            ]
          },
          "metadata": {
            "tags": []
          }
        }
      ]
    },
    {
      "metadata": {
        "id": "1M-E-6AqWSYq",
        "colab_type": "code",
        "colab": {
          "base_uri": "https://localhost:8080/",
          "height": 454
        },
        "outputId": "88b00d06-f5df-4147-9225-af64d92cfd14"
      },
      "cell_type": "code",
      "source": [
        "print('Shapiro Test for 2014 for people\\'s social meetings by country\\n')\n",
        "for i in df_y14.cntry.unique(): \n",
        "       shapiro_results = scipy.stats.shapiro(df_y14[df_y14.cntry == i]['sclact'])\n",
        "       t_statistic = shapiro_results[0]\n",
        "       p_value = shapiro_results[1]\n",
        "       print('{} Shapiro Results'.format(i), '\\ntest statistic {}'.format(t_statistic),'\\np value {}\\n'.format(p_value))"
      ],
      "execution_count": 48,
      "outputs": [
        {
          "output_type": "stream",
          "text": [
            "Shapiro Test for 2014 for people's social meetings by country\n",
            "\n",
            "CH Shapiro Results \n",
            "test statistic 0.8914050459861755 \n",
            "p value 1.883037234053481e-22\n",
            "\n",
            "CZ Shapiro Results \n",
            "test statistic 0.8507497310638428 \n",
            "p value 1.783073348123726e-23\n",
            "\n",
            "DE Shapiro Results \n",
            "test statistic 0.7937105894088745 \n",
            "p value 0.004176934715360403\n",
            "\n",
            "ES Shapiro Results \n",
            "test statistic 0.8937478065490723 \n",
            "p value 2.9219467633214553e-27\n",
            "\n",
            "NO Shapiro Results \n",
            "test statistic 0.8651995658874512 \n",
            "p value 2.9663917244412476e-24\n",
            "\n",
            "SE Shapiro Results \n",
            "test statistic 0.8822527527809143 \n",
            "p value 4.1179254157732173e-25\n",
            "\n"
          ],
          "name": "stdout"
        }
      ]
    },
    {
      "metadata": {
        "id": "bPMKc49XWXv2",
        "colab_type": "code",
        "colab": {
          "base_uri": "https://localhost:8080/",
          "height": 67
        },
        "outputId": "f8b0eef1-5033-4ddf-8a8a-aad9ba0100e9"
      },
      "cell_type": "code",
      "source": [
        "print('Anova Test for 2014 for people\\'s social meetings by country\\n')\n",
        "act1 = df_y14[df_y14.cntry == 'CH']['sclact']\n",
        "act2 = df_y14[df_y14.cntry == 'CZ']['sclact']\n",
        "act3 = df_y14[df_y14.cntry == 'ES']['sclact']\n",
        "anova_test=scipy.stats.f_oneway(meet1,meet2,meet3)\n",
        "print('{}'.format(anova_test)) "
      ],
      "execution_count": 52,
      "outputs": [
        {
          "output_type": "stream",
          "text": [
            "Anova Test for 2014 for people's social meetings by country\n",
            "\n",
            "F_onewayResult(statistic=6.714318871996204, pvalue=0.001235590889619468)\n"
          ],
          "name": "stdout"
        }
      ]
    },
    {
      "metadata": {
        "id": "xuBYOJPnWZwO",
        "colab_type": "code",
        "colab": {
          "base_uri": "https://localhost:8080/",
          "height": 67
        },
        "outputId": "e9a22ea1-437e-4f11-e9fa-70e1096a7949"
      },
      "cell_type": "code",
      "source": [
        "print('Kruskaal Test for 2014 for people\\'s social meetings by country\\n')\n",
        "ktest=scipy.stats.kruskal(act1,act2,act3)\n",
        "print('{}'.format(ktest))  "
      ],
      "execution_count": 53,
      "outputs": [
        {
          "output_type": "stream",
          "text": [
            "Kruskaal Test for 2014 for people's social meetings by country\n",
            "\n",
            "KruskalResult(statistic=13.27984643390856, pvalue=0.0013071276052219855)\n"
          ],
          "name": "stdout"
        }
      ]
    },
    {
      "metadata": {
        "id": "45Sg_V42Wu2K",
        "colab_type": "code",
        "colab": {}
      },
      "cell_type": "code",
      "source": [
        "df_act = np.asarray(act1.tolist()+act2.tolist()+act3.tolist())\n",
        "act_co = np.array(['CH']*len(act1) + ['CZ']*len(act2) +['ES']*len(act3))"
      ],
      "execution_count": 0,
      "outputs": []
    },
    {
      "metadata": {
        "id": "BkeHvB2iYU0O",
        "colab_type": "code",
        "colab": {
          "base_uri": "https://localhost:8080/",
          "height": 151
        },
        "outputId": "10afc719-e68b-4c53-9a0d-22b44a9c673c"
      },
      "cell_type": "code",
      "source": [
        "from statsmodels.stats.multicomp import pairwise_tukeyhsd\n",
        "tukey = pairwise_tukeyhsd(endog=df_act,      # Data\n",
        "                          groups=act_co,   # Groups\n",
        "                          alpha=0.05)  \n",
        "print(tukey)"
      ],
      "execution_count": 56,
      "outputs": [
        {
          "output_type": "stream",
          "text": [
            "Multiple Comparison of Means - Tukey HSD,FWER=0.05\n",
            "=============================================\n",
            "group1 group2 meandiff  lower   upper  reject\n",
            "---------------------------------------------\n",
            "  CH     CZ   -0.0553  -0.1724  0.0619 False \n",
            "  CH     ES   -0.1533  -0.2543 -0.0523  True \n",
            "  CZ     ES    -0.098  -0.2057  0.0097 False \n",
            "---------------------------------------------\n"
          ],
          "name": "stdout"
        }
      ]
    },
    {
      "metadata": {
        "id": "Sw45gTuPYgyR",
        "colab_type": "text"
      },
      "cell_type": "markdown",
      "source": [
        "In this case, it seems that only Czech Republic and Spain have significant differences in how people take part in social activities compared to others of same age. "
      ]
    },
    {
      "metadata": {
        "id": "x-EpD-OOY2rl",
        "colab_type": "code",
        "colab": {}
      },
      "cell_type": "code",
      "source": [
        ""
      ],
      "execution_count": 0,
      "outputs": []
    }
  ]
}