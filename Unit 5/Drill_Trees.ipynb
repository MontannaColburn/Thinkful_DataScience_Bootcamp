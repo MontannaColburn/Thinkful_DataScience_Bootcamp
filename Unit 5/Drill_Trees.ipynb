{
  "nbformat": 4,
  "nbformat_minor": 0,
  "metadata": {
    "colab": {
      "name": "Drill: Trees",
      "version": "0.3.2",
      "provenance": []
    },
    "kernelspec": {
      "name": "python3",
      "display_name": "Python 3"
    }
  },
  "cells": [
    {
      "metadata": {
        "id": "B3HUZlTv9P6P",
        "colab_type": "text"
      },
      "cell_type": "markdown",
      "source": [
        "## Establish Tree"
      ]
    },
    {
      "metadata": {
        "id": "5oOcYBog5NLT",
        "colab_type": "code",
        "colab": {}
      },
      "cell_type": "code",
      "source": [
        "# A class that represents an individual node in a \n",
        "# Binary Tree \n",
        "class Node: \n",
        "    def __init__(self,key): \n",
        "        self.left = None\n",
        "        self.right = None\n",
        "        self.val = key \n",
        "        \n",
        "# Establish the initial root node and children\n",
        "root = Node(1)\n",
        "root.left = Node(2)\n",
        "root.right = Node(3)\n",
        "\n",
        "# Add the appropriate children for ‘2’ and ‘3’\n",
        "root.left.left = Node(4)\n",
        "root.left.right = Node(5)\n",
        "root.right.left = Node(6)\n",
        "root.right.right = Node(7)\n",
        "# Add the appropriate children for ‘4’ ‘5’ ‘6’ and ‘7’                  \n",
        "root.left.left.left = Node(8)\n",
        "root.left.left.right = Node(9)\n",
        "root.left.right.left = Node(10)\n",
        "root.left.right.right = Node(11)  \n",
        "root.right.left.left = Node(12)\n",
        "root.right.left.right = Node(13)\n",
        "root.right.right.left = Node(14)\n",
        "root.right.right.right = Node(15)                     "
      ],
      "execution_count": 0,
      "outputs": []
    },
    {
      "metadata": {
        "id": "4P3fgoQI9p2t",
        "colab_type": "code",
        "colab": {}
      },
      "cell_type": "code",
      "source": [
        "# Function to  print level order traversal of tree \n",
        "def printLevelOrder(root): \n",
        "    h = height(root) \n",
        "    for i in range(1, h+1): \n",
        "        printGivenLevel(root, i) \n",
        "  \n",
        "  \n",
        "# Print nodes at a given level \n",
        "def printGivenLevel(root , level): \n",
        "    if root is None: \n",
        "        return\n",
        "    if level == 1: \n",
        "        print(root.val), \n",
        "    elif level > 1 : \n",
        "        printGivenLevel(root.left , level-1) \n",
        "        printGivenLevel(root.right , level-1) \n",
        "  \n",
        "  \n",
        "\"\"\" Compute the height of a tree--the number of nodes \n",
        "    along the longest path from the root node down to \n",
        "    the farthest leaf node \n",
        "\"\"\"\n",
        "def height(node): \n",
        "    if node is None: \n",
        "        return 0 \n",
        "    else : \n",
        "        # Compute the height of each subtree  \n",
        "        lheight = height(node.left) \n",
        "        rheight = height(node.right) \n",
        "  \n",
        "        #Use the larger one \n",
        "        if lheight > rheight : \n",
        "            return lheight+1\n",
        "        else: \n",
        "            return rheight+1"
      ],
      "execution_count": 0,
      "outputs": []
    },
    {
      "metadata": {
        "id": "2sQ0twYS9reA",
        "colab_type": "code",
        "colab": {
          "base_uri": "https://localhost:8080/",
          "height": 269
        },
        "outputId": "d47e57c6-7229-4e19-c317-35486d3ba5b4"
      },
      "cell_type": "code",
      "source": [
        "printLevelOrder(root)"
      ],
      "execution_count": 22,
      "outputs": [
        {
          "output_type": "stream",
          "text": [
            "1\n",
            "2\n",
            "3\n",
            "4\n",
            "5\n",
            "6\n",
            "7\n",
            "8\n",
            "9\n",
            "10\n",
            "11\n",
            "12\n",
            "13\n",
            "14\n",
            "15\n"
          ],
          "name": "stdout"
        }
      ]
    },
    {
      "metadata": {
        "id": "yUkiDIt4_CVS",
        "colab_type": "code",
        "colab": {}
      },
      "cell_type": "code",
      "source": [
        ""
      ],
      "execution_count": 0,
      "outputs": []
    }
  ]
}