{
  "nbformat": 4,
  "nbformat_minor": 0,
  "metadata": {
    "colab": {
      "name": "Drill: Sorting Algorithm",
      "version": "0.3.2",
      "provenance": []
    },
    "kernelspec": {
      "name": "python3",
      "display_name": "Python 3"
    }
  },
  "cells": [
    {
      "metadata": {
        "id": "mHpo21uKONC1",
        "colab_type": "code",
        "colab": {}
      },
      "cell_type": "code",
      "source": [
        "import time\n",
        "import random\n",
        "\n",
        "# Set seed.\n",
        "random.seed(a=100)\n",
        "\n",
        "# Create our default list.\n",
        "short_list = list(random.sample(range(1000000), 10))\n",
        "long_list = list(random.sample(range(1000000), 10000))"
      ],
      "execution_count": 0,
      "outputs": []
    },
    {
      "metadata": {
        "id": "YHAoI8ggOZwf",
        "colab_type": "code",
        "colab": {
          "base_uri": "https://localhost:8080/",
          "height": 134
        },
        "outputId": "5d8d57a1-b534-46b1-cad9-96aab8a47144"
      },
      "cell_type": "code",
      "source": [
        "# Python program for implementation of heap Sort \n",
        "  \n",
        "# To heapify subtree rooted at index i. \n",
        "# n is size of heap \n",
        "def heapify(arr, n, i): \n",
        "    largest = i # Initialize largest as root \n",
        "    l = 2 * i + 1     # left = 2*i + 1 \n",
        "    r = 2 * i + 2     # right = 2*i + 2 \n",
        "  \n",
        "    # See if left child of root exists and is \n",
        "    # greater than root \n",
        "    if l < n and arr[i] < arr[l]: \n",
        "        largest = l \n",
        "  \n",
        "    # See if right child of root exists and is \n",
        "    # greater than root \n",
        "    if r < n and arr[largest] < arr[r]: \n",
        "        largest = r \n",
        "  \n",
        "    # Change root, if needed \n",
        "    if largest != i: \n",
        "        arr[i],arr[largest] = arr[largest],arr[i] # swap \n",
        "  \n",
        "        # Heapify the root. \n",
        "        heapify(arr, n, largest) \n",
        "  \n",
        "# The main function to sort an array of given size \n",
        "def heapSort(arr): \n",
        "    n = len(arr) \n",
        "  \n",
        "    # Build a maxheap. \n",
        "    for i in range(n, -1, -1): \n",
        "        heapify(arr, n, i) \n",
        "  \n",
        "    # One by one extract elements \n",
        "    for i in range(n-1, 0, -1): \n",
        "        arr[i], arr[0] = arr[0], arr[i] # swap \n",
        "        heapify(arr, i, 0) \n",
        "  \n",
        "# Driver code to test above \n",
        "arr = [ 12, 11, 13, 5, 6, 7] \n",
        "heapSort(arr) \n",
        "n = len(arr) \n",
        "print (\"Sorted array is\") \n",
        "for i in range(n): \n",
        "    print (\"%d\" %arr[i])"
      ],
      "execution_count": 6,
      "outputs": [
        {
          "output_type": "stream",
          "text": [
            "Sorted array is\n",
            "5\n",
            "6\n",
            "7\n",
            "11\n",
            "12\n",
            "13\n"
          ],
          "name": "stdout"
        }
      ]
    },
    {
      "metadata": {
        "id": "H-jujiYwSJ0s",
        "colab_type": "code",
        "colab": {
          "base_uri": "https://localhost:8080/",
          "height": 218
        },
        "outputId": "0e8e793b-6c8b-4860-cee8-b8f6b636e41b"
      },
      "cell_type": "code",
      "source": [
        "arr = short_list \n",
        "\n",
        "# Test on short list.\n",
        "# Start timer.\n",
        "start_time = time.time()\n",
        "\n",
        "# Run our insertion sort.\n",
        "heapSort(arr)\n",
        "\n",
        "# Print time to show runtime.\n",
        "print(\"--- %s seconds ---\" % (time.time() - start_time))\n",
        "n=len(arr)\n",
        "print(n)\n",
        "for i in range(n): \n",
        "    print (\"%d\" %arr[i])"
      ],
      "execution_count": 17,
      "outputs": [
        {
          "output_type": "stream",
          "text": [
            "--- 9.107589721679688e-05 seconds ---\n",
            "10\n",
            "152745\n",
            "183236\n",
            "366725\n",
            "412125\n",
            "477025\n",
            "481850\n",
            "739784\n",
            "767514\n",
            "808225\n",
            "997948\n"
          ],
          "name": "stdout"
        }
      ]
    },
    {
      "metadata": {
        "id": "XyQLbhcqSBwf",
        "colab_type": "code",
        "colab": {
          "base_uri": "https://localhost:8080/",
          "height": 50
        },
        "outputId": "c48dfd79-c36e-4eac-8b6d-c98348801be2"
      },
      "cell_type": "code",
      "source": [
        "arr = long_list\n",
        "\n",
        "# Start Timer\n",
        "start_time = time.time()\n",
        "\n",
        "# Sort the default list. Note that .sort() will sort in place, which would alter default_list.\n",
        "heapSort(long_list)\n",
        "\n",
        "# Print time to show runtime\n",
        "print(\"--- %s seconds ---\" % (time.time() - start_time))\n",
        "n=len(arr)\n",
        "print(n)"
      ],
      "execution_count": 19,
      "outputs": [
        {
          "output_type": "stream",
          "text": [
            "--- 0.10166072845458984 seconds ---\n",
            "10000\n"
          ],
          "name": "stdout"
        }
      ]
    },
    {
      "metadata": {
        "id": "D5vFa7OGSjoK",
        "colab_type": "code",
        "colab": {}
      },
      "cell_type": "code",
      "source": [
        ""
      ],
      "execution_count": 0,
      "outputs": []
    }
  ]
}
