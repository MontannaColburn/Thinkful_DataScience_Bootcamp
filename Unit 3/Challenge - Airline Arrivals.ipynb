{
 "cells": [
  {
   "cell_type": "markdown",
   "metadata": {},
   "source": [
    "# Airline Arrivals "
   ]
  },
  {
   "cell_type": "markdown",
   "metadata": {},
   "source": [
    "In this challenge, we're going to predict how late flights will be. We'll constitute a flight as late only if it is more than 30 minutes late. \n",
    "\n",
    "The data is from the bureau of transportation statistics (link provided below) using the most recent available data, October 2017 - 2018. \n",
    "\n",
    "https://www.transtats.bts.gov/OT_Delay/OT_DelayCause1.asp?pn=1 "
   ]
  },
  {
   "cell_type": "code",
   "execution_count": 1,
   "metadata": {},
   "outputs": [],
   "source": [
    "#imports\n",
    "import pandas as pd\n",
    "import numpy as np\n",
    "\n",
    "#visuals \n",
    "import matplotlib.pyplot as plt\n",
    "%matplotlib inline\n",
    "import seaborn as sns\n",
    "\n",
    "#import models\n",
    "from sklearn import ensemble\n",
    "from sklearn.ensemble import RandomForestClassifier\n",
    "\n",
    "\n",
    "from sklearn.model_selection import train_test_split\n",
    "from sklearn.model_selection import cross_val_score\n",
    "from sklearn.metrics import confusion_matrix\n",
    "from sklearn.metrics import roc_auc_score\n",
    "\n",
    "#ignore warnings \n",
    "import warnings\n",
    "warnings.filterwarnings(\"ignore\")\n",
    "\n",
    "#time\n",
    "import time"
   ]
  },
  {
   "cell_type": "code",
   "execution_count": 2,
   "metadata": {},
   "outputs": [
    {
     "data": {
      "text/plain": [
       "Index([u'year', u' month', u'carrier', u'carrier_name', u'airport',\n",
       "       u'airport_name', u'arr_flights', u'arr_del15', u'carrier_ct',\n",
       "       u' weather_ct', u'nas_ct', u'security_ct', u'late_aircraft_ct',\n",
       "       u'arr_cancelled', u'arr_diverted', u' arr_delay', u' carrier_delay',\n",
       "       u'weather_delay', u'nas_delay', u'security_delay',\n",
       "       u'late_aircraft_delay', u'Unnamed: 21'],\n",
       "      dtype='object')"
      ]
     },
     "execution_count": 2,
     "metadata": {},
     "output_type": "execute_result"
    }
   ],
   "source": [
    "df = pd.read_csv('https://www.dropbox.com/s/1e05pifam1ozfci/254169325_102018_2722_airline_delay_causes.csv?dl=1') \n",
    "df.columns"
   ]
  },
  {
   "cell_type": "code",
   "execution_count": 3,
   "metadata": {},
   "outputs": [
    {
     "data": {
      "text/html": [
       "<div>\n",
       "<style scoped>\n",
       "    .dataframe tbody tr th:only-of-type {\n",
       "        vertical-align: middle;\n",
       "    }\n",
       "\n",
       "    .dataframe tbody tr th {\n",
       "        vertical-align: top;\n",
       "    }\n",
       "\n",
       "    .dataframe thead th {\n",
       "        text-align: right;\n",
       "    }\n",
       "</style>\n",
       "<table border=\"1\" class=\"dataframe\">\n",
       "  <thead>\n",
       "    <tr style=\"text-align: right;\">\n",
       "      <th></th>\n",
       "      <th>year</th>\n",
       "      <th>month</th>\n",
       "      <th>carrier</th>\n",
       "      <th>airport</th>\n",
       "      <th>arr_flights</th>\n",
       "      <th>arr_del15</th>\n",
       "      <th>carrier_ct</th>\n",
       "      <th>weather_ct</th>\n",
       "      <th>nas_ct</th>\n",
       "      <th>security_ct</th>\n",
       "      <th>late_aircraft_ct</th>\n",
       "      <th>arr_cancelled</th>\n",
       "      <th>arr_diverted</th>\n",
       "      <th>arr_delay</th>\n",
       "      <th>carrier_delay</th>\n",
       "      <th>weather_delay</th>\n",
       "      <th>nas_delay</th>\n",
       "      <th>security_delay</th>\n",
       "      <th>late_aircraft_delay</th>\n",
       "    </tr>\n",
       "  </thead>\n",
       "  <tbody>\n",
       "    <tr>\n",
       "      <th>0</th>\n",
       "      <td>2017</td>\n",
       "      <td>10</td>\n",
       "      <td>AA</td>\n",
       "      <td>ABQ</td>\n",
       "      <td>198.0</td>\n",
       "      <td>32.0</td>\n",
       "      <td>15.37</td>\n",
       "      <td>0.78</td>\n",
       "      <td>10.10</td>\n",
       "      <td>0.88</td>\n",
       "      <td>4.86</td>\n",
       "      <td>0.0</td>\n",
       "      <td>1.0</td>\n",
       "      <td>1195.0</td>\n",
       "      <td>513.0</td>\n",
       "      <td>88.0</td>\n",
       "      <td>302.0</td>\n",
       "      <td>28.0</td>\n",
       "      <td>264.0</td>\n",
       "    </tr>\n",
       "    <tr>\n",
       "      <th>1</th>\n",
       "      <td>2017</td>\n",
       "      <td>10</td>\n",
       "      <td>AA</td>\n",
       "      <td>ALB</td>\n",
       "      <td>86.0</td>\n",
       "      <td>12.0</td>\n",
       "      <td>4.93</td>\n",
       "      <td>0.00</td>\n",
       "      <td>2.38</td>\n",
       "      <td>0.00</td>\n",
       "      <td>4.69</td>\n",
       "      <td>0.0</td>\n",
       "      <td>0.0</td>\n",
       "      <td>473.0</td>\n",
       "      <td>236.0</td>\n",
       "      <td>0.0</td>\n",
       "      <td>98.0</td>\n",
       "      <td>0.0</td>\n",
       "      <td>139.0</td>\n",
       "    </tr>\n",
       "    <tr>\n",
       "      <th>2</th>\n",
       "      <td>2017</td>\n",
       "      <td>10</td>\n",
       "      <td>AA</td>\n",
       "      <td>AMA</td>\n",
       "      <td>31.0</td>\n",
       "      <td>5.0</td>\n",
       "      <td>1.55</td>\n",
       "      <td>0.00</td>\n",
       "      <td>0.90</td>\n",
       "      <td>0.00</td>\n",
       "      <td>2.55</td>\n",
       "      <td>0.0</td>\n",
       "      <td>0.0</td>\n",
       "      <td>210.0</td>\n",
       "      <td>69.0</td>\n",
       "      <td>0.0</td>\n",
       "      <td>48.0</td>\n",
       "      <td>0.0</td>\n",
       "      <td>93.0</td>\n",
       "    </tr>\n",
       "    <tr>\n",
       "      <th>3</th>\n",
       "      <td>2017</td>\n",
       "      <td>10</td>\n",
       "      <td>AA</td>\n",
       "      <td>ANC</td>\n",
       "      <td>4.0</td>\n",
       "      <td>0.0</td>\n",
       "      <td>0.00</td>\n",
       "      <td>0.00</td>\n",
       "      <td>0.00</td>\n",
       "      <td>0.00</td>\n",
       "      <td>0.00</td>\n",
       "      <td>0.0</td>\n",
       "      <td>0.0</td>\n",
       "      <td>0.0</td>\n",
       "      <td>0.0</td>\n",
       "      <td>0.0</td>\n",
       "      <td>0.0</td>\n",
       "      <td>0.0</td>\n",
       "      <td>0.0</td>\n",
       "    </tr>\n",
       "    <tr>\n",
       "      <th>4</th>\n",
       "      <td>2017</td>\n",
       "      <td>10</td>\n",
       "      <td>AA</td>\n",
       "      <td>ATL</td>\n",
       "      <td>950.0</td>\n",
       "      <td>137.0</td>\n",
       "      <td>50.67</td>\n",
       "      <td>0.79</td>\n",
       "      <td>48.50</td>\n",
       "      <td>1.17</td>\n",
       "      <td>35.87</td>\n",
       "      <td>3.0</td>\n",
       "      <td>0.0</td>\n",
       "      <td>6557.0</td>\n",
       "      <td>2701.0</td>\n",
       "      <td>50.0</td>\n",
       "      <td>1404.0</td>\n",
       "      <td>48.0</td>\n",
       "      <td>2354.0</td>\n",
       "    </tr>\n",
       "  </tbody>\n",
       "</table>\n",
       "</div>"
      ],
      "text/plain": [
       "   year  month carrier airport  arr_flights  arr_del15  carrier_ct  \\\n",
       "0  2017     10      AA     ABQ        198.0       32.0       15.37   \n",
       "1  2017     10      AA     ALB         86.0       12.0        4.93   \n",
       "2  2017     10      AA     AMA         31.0        5.0        1.55   \n",
       "3  2017     10      AA     ANC          4.0        0.0        0.00   \n",
       "4  2017     10      AA     ATL        950.0      137.0       50.67   \n",
       "\n",
       "   weather_ct  nas_ct  security_ct  late_aircraft_ct  arr_cancelled  \\\n",
       "0        0.78   10.10         0.88              4.86            0.0   \n",
       "1        0.00    2.38         0.00              4.69            0.0   \n",
       "2        0.00    0.90         0.00              2.55            0.0   \n",
       "3        0.00    0.00         0.00              0.00            0.0   \n",
       "4        0.79   48.50         1.17             35.87            3.0   \n",
       "\n",
       "   arr_diverted  arr_delay  carrier_delay  weather_delay  nas_delay  \\\n",
       "0           1.0     1195.0          513.0           88.0      302.0   \n",
       "1           0.0      473.0          236.0            0.0       98.0   \n",
       "2           0.0      210.0           69.0            0.0       48.0   \n",
       "3           0.0        0.0            0.0            0.0        0.0   \n",
       "4           0.0     6557.0         2701.0           50.0     1404.0   \n",
       "\n",
       "   security_delay  late_aircraft_delay  \n",
       "0            28.0                264.0  \n",
       "1             0.0                139.0  \n",
       "2             0.0                 93.0  \n",
       "3             0.0                  0.0  \n",
       "4            48.0               2354.0  "
      ]
     },
     "execution_count": 3,
     "metadata": {},
     "output_type": "execute_result"
    }
   ],
   "source": [
    "df.rename(columns={u'year':'year', u' month':'month', u'carrier':'carrier', u'carrier_name':'carrier_name', u'airport':'airport',\n",
    "       u'airport_name':'airport_name', u'arr_flights':'arr_flights', u'arr_del15':'arr_del15', u'carrier_ct':'carrier_ct',\n",
    "       u' weather_ct':'weather_ct', u'nas_ct':'nas_ct', u'security_ct':'security_ct', u'late_aircraft_ct':'late_aircraft_ct',\n",
    "       u'arr_cancelled':'arr_cancelled', u'arr_diverted':'arr_diverted', u' arr_delay':'arr_delay', u' carrier_delay':'carrier_delay',\n",
    "       u'weather_delay':'weather_delay', u'nas_delay':'nas_delay', u'security_delay':'security_delay',\n",
    "       u'late_aircraft_delay':'late_aircraft_delay', u'Unnamed: 21':'Unnamed: 21'}, inplace=True) \n",
    "df = df.drop(['carrier_name', 'airport_name', 'Unnamed: 21'], axis=1)\n",
    "df.head()"
   ]
  },
  {
   "cell_type": "code",
   "execution_count": 4,
   "metadata": {},
   "outputs": [
    {
     "name": "stdout",
     "output_type": "stream",
     "text": [
      "<class 'pandas.core.frame.DataFrame'>\n",
      "RangeIndex: 19915 entries, 0 to 19914\n",
      "Data columns (total 19 columns):\n",
      "year                   19915 non-null int64\n",
      "month                  19915 non-null int64\n",
      "carrier                19915 non-null object\n",
      "airport                19915 non-null object\n",
      "arr_flights            19896 non-null float64\n",
      "arr_del15              19892 non-null float64\n",
      "carrier_ct             19896 non-null float64\n",
      "weather_ct             19896 non-null float64\n",
      "nas_ct                 19896 non-null float64\n",
      "security_ct            19896 non-null float64\n",
      "late_aircraft_ct       19896 non-null float64\n",
      "arr_cancelled          19896 non-null float64\n",
      "arr_diverted           19896 non-null float64\n",
      "arr_delay              19896 non-null float64\n",
      "carrier_delay          19896 non-null float64\n",
      "weather_delay          19896 non-null float64\n",
      "nas_delay              19896 non-null float64\n",
      "security_delay         19896 non-null float64\n",
      "late_aircraft_delay    19896 non-null float64\n",
      "dtypes: float64(15), int64(2), object(2)\n",
      "memory usage: 2.9+ MB\n"
     ]
    }
   ],
   "source": [
    "df.info()"
   ]
  },
  {
   "cell_type": "code",
   "execution_count": 5,
   "metadata": {},
   "outputs": [
    {
     "data": {
      "image/png": "[encoded data removed]",
      "text/plain": [
       "<matplotlib.figure.Figure at 0x7fe412cb33d0>"
      ]
     },
     "metadata": {},
     "output_type": "display_data"
    }
   ],
   "source": [
    "#set plot parameters\n",
    "plt.rcParams['figure.figsize'] = (15.0, 8.0)\n",
    "plt.rcParams.update({'font.size': 15})\n",
    "#check variable correlation \n",
    "sns.heatmap(df.corr())\n",
    "plt.show()"
   ]
  },
  {
   "cell_type": "markdown",
   "metadata": {},
   "source": [
    "We're very obviously going to need to use PCA to reduce this highly correlated feature set down. "
   ]
  },
  {
   "cell_type": "code",
   "execution_count": 6,
   "metadata": {},
   "outputs": [],
   "source": [
    "#Set our outcome to 0 and 1.\n",
    "df['arr_late'] = np.where(df['arr_delay']>30, 1, 0)\n",
    "df = df.drop(['arr_delay'], axis=1)"
   ]
  },
  {
   "cell_type": "code",
   "execution_count": 7,
   "metadata": {},
   "outputs": [
    {
     "data": {
      "text/html": [
       "<div>\n",
       "<style scoped>\n",
       "    .dataframe tbody tr th:only-of-type {\n",
       "        vertical-align: middle;\n",
       "    }\n",
       "\n",
       "    .dataframe tbody tr th {\n",
       "        vertical-align: top;\n",
       "    }\n",
       "\n",
       "    .dataframe thead th {\n",
       "        text-align: right;\n",
       "    }\n",
       "</style>\n",
       "<table border=\"1\" class=\"dataframe\">\n",
       "  <thead>\n",
       "    <tr style=\"text-align: right;\">\n",
       "      <th></th>\n",
       "      <th>year</th>\n",
       "      <th>month</th>\n",
       "      <th>carrier</th>\n",
       "      <th>arr_flights</th>\n",
       "      <th>arr_del15</th>\n",
       "      <th>carrier_ct</th>\n",
       "      <th>weather_ct</th>\n",
       "      <th>nas_ct</th>\n",
       "      <th>security_ct</th>\n",
       "      <th>late_aircraft_ct</th>\n",
       "      <th>...</th>\n",
       "      <th>airport_USA</th>\n",
       "      <th>airport_VEL</th>\n",
       "      <th>airport_VLD</th>\n",
       "      <th>airport_VPS</th>\n",
       "      <th>airport_WRG</th>\n",
       "      <th>airport_WYS</th>\n",
       "      <th>airport_XNA</th>\n",
       "      <th>airport_YAK</th>\n",
       "      <th>airport_YNG</th>\n",
       "      <th>airport_YUM</th>\n",
       "    </tr>\n",
       "  </thead>\n",
       "  <tbody>\n",
       "    <tr>\n",
       "      <th>0</th>\n",
       "      <td>2017</td>\n",
       "      <td>10</td>\n",
       "      <td>AA</td>\n",
       "      <td>198.0</td>\n",
       "      <td>32.0</td>\n",
       "      <td>15.37</td>\n",
       "      <td>0.78</td>\n",
       "      <td>10.10</td>\n",
       "      <td>0.88</td>\n",
       "      <td>4.86</td>\n",
       "      <td>...</td>\n",
       "      <td>0</td>\n",
       "      <td>0</td>\n",
       "      <td>0</td>\n",
       "      <td>0</td>\n",
       "      <td>0</td>\n",
       "      <td>0</td>\n",
       "      <td>0</td>\n",
       "      <td>0</td>\n",
       "      <td>0</td>\n",
       "      <td>0</td>\n",
       "    </tr>\n",
       "    <tr>\n",
       "      <th>1</th>\n",
       "      <td>2017</td>\n",
       "      <td>10</td>\n",
       "      <td>AA</td>\n",
       "      <td>86.0</td>\n",
       "      <td>12.0</td>\n",
       "      <td>4.93</td>\n",
       "      <td>0.00</td>\n",
       "      <td>2.38</td>\n",
       "      <td>0.00</td>\n",
       "      <td>4.69</td>\n",
       "      <td>...</td>\n",
       "      <td>0</td>\n",
       "      <td>0</td>\n",
       "      <td>0</td>\n",
       "      <td>0</td>\n",
       "      <td>0</td>\n",
       "      <td>0</td>\n",
       "      <td>0</td>\n",
       "      <td>0</td>\n",
       "      <td>0</td>\n",
       "      <td>0</td>\n",
       "    </tr>\n",
       "    <tr>\n",
       "      <th>2</th>\n",
       "      <td>2017</td>\n",
       "      <td>10</td>\n",
       "      <td>AA</td>\n",
       "      <td>31.0</td>\n",
       "      <td>5.0</td>\n",
       "      <td>1.55</td>\n",
       "      <td>0.00</td>\n",
       "      <td>0.90</td>\n",
       "      <td>0.00</td>\n",
       "      <td>2.55</td>\n",
       "      <td>...</td>\n",
       "      <td>0</td>\n",
       "      <td>0</td>\n",
       "      <td>0</td>\n",
       "      <td>0</td>\n",
       "      <td>0</td>\n",
       "      <td>0</td>\n",
       "      <td>0</td>\n",
       "      <td>0</td>\n",
       "      <td>0</td>\n",
       "      <td>0</td>\n",
       "    </tr>\n",
       "    <tr>\n",
       "      <th>3</th>\n",
       "      <td>2017</td>\n",
       "      <td>10</td>\n",
       "      <td>AA</td>\n",
       "      <td>4.0</td>\n",
       "      <td>0.0</td>\n",
       "      <td>0.00</td>\n",
       "      <td>0.00</td>\n",
       "      <td>0.00</td>\n",
       "      <td>0.00</td>\n",
       "      <td>0.00</td>\n",
       "      <td>...</td>\n",
       "      <td>0</td>\n",
       "      <td>0</td>\n",
       "      <td>0</td>\n",
       "      <td>0</td>\n",
       "      <td>0</td>\n",
       "      <td>0</td>\n",
       "      <td>0</td>\n",
       "      <td>0</td>\n",
       "      <td>0</td>\n",
       "      <td>0</td>\n",
       "    </tr>\n",
       "    <tr>\n",
       "      <th>4</th>\n",
       "      <td>2017</td>\n",
       "      <td>10</td>\n",
       "      <td>AA</td>\n",
       "      <td>950.0</td>\n",
       "      <td>137.0</td>\n",
       "      <td>50.67</td>\n",
       "      <td>0.79</td>\n",
       "      <td>48.50</td>\n",
       "      <td>1.17</td>\n",
       "      <td>35.87</td>\n",
       "      <td>...</td>\n",
       "      <td>0</td>\n",
       "      <td>0</td>\n",
       "      <td>0</td>\n",
       "      <td>0</td>\n",
       "      <td>0</td>\n",
       "      <td>0</td>\n",
       "      <td>0</td>\n",
       "      <td>0</td>\n",
       "      <td>0</td>\n",
       "      <td>0</td>\n",
       "    </tr>\n",
       "  </tbody>\n",
       "</table>\n",
       "<p>5 rows × 373 columns</p>\n",
       "</div>"
      ],
      "text/plain": [
       "   year  month carrier  arr_flights  arr_del15  carrier_ct  weather_ct  \\\n",
       "0  2017     10      AA        198.0       32.0       15.37        0.78   \n",
       "1  2017     10      AA         86.0       12.0        4.93        0.00   \n",
       "2  2017     10      AA         31.0        5.0        1.55        0.00   \n",
       "3  2017     10      AA          4.0        0.0        0.00        0.00   \n",
       "4  2017     10      AA        950.0      137.0       50.67        0.79   \n",
       "\n",
       "   nas_ct  security_ct  late_aircraft_ct     ...       airport_USA  \\\n",
       "0   10.10         0.88              4.86     ...                 0   \n",
       "1    2.38         0.00              4.69     ...                 0   \n",
       "2    0.90         0.00              2.55     ...                 0   \n",
       "3    0.00         0.00              0.00     ...                 0   \n",
       "4   48.50         1.17             35.87     ...                 0   \n",
       "\n",
       "   airport_VEL  airport_VLD  airport_VPS  airport_WRG  airport_WYS  \\\n",
       "0            0            0            0            0            0   \n",
       "1            0            0            0            0            0   \n",
       "2            0            0            0            0            0   \n",
       "3            0            0            0            0            0   \n",
       "4            0            0            0            0            0   \n",
       "\n",
       "   airport_XNA  airport_YAK  airport_YNG  airport_YUM  \n",
       "0            0            0            0            0  \n",
       "1            0            0            0            0  \n",
       "2            0            0            0            0  \n",
       "3            0            0            0            0  \n",
       "4            0            0            0            0  \n",
       "\n",
       "[5 rows x 373 columns]"
      ]
     },
     "execution_count": 7,
     "metadata": {},
     "output_type": "execute_result"
    }
   ],
   "source": [
    "# Make the categorical variable 'airport' and 'carrier' into dummies.\n",
    "#Create Dummy variables fort he sales column\n",
    "cat_feats = ['airport']\n",
    "data = pd.get_dummies(df, columns=cat_feats, drop_first=True)\n",
    "data.head()"
   ]
  },
  {
   "cell_type": "code",
   "execution_count": 8,
   "metadata": {},
   "outputs": [
    {
     "data": {
      "text/html": [
       "<div>\n",
       "<style scoped>\n",
       "    .dataframe tbody tr th:only-of-type {\n",
       "        vertical-align: middle;\n",
       "    }\n",
       "\n",
       "    .dataframe tbody tr th {\n",
       "        vertical-align: top;\n",
       "    }\n",
       "\n",
       "    .dataframe thead th {\n",
       "        text-align: right;\n",
       "    }\n",
       "</style>\n",
       "<table border=\"1\" class=\"dataframe\">\n",
       "  <thead>\n",
       "    <tr style=\"text-align: right;\">\n",
       "      <th></th>\n",
       "      <th>year</th>\n",
       "      <th>month</th>\n",
       "      <th>arr_flights</th>\n",
       "      <th>arr_del15</th>\n",
       "      <th>carrier_ct</th>\n",
       "      <th>weather_ct</th>\n",
       "      <th>nas_ct</th>\n",
       "      <th>security_ct</th>\n",
       "      <th>late_aircraft_ct</th>\n",
       "      <th>arr_cancelled</th>\n",
       "      <th>...</th>\n",
       "      <th>carrier_HA</th>\n",
       "      <th>carrier_MQ</th>\n",
       "      <th>carrier_NK</th>\n",
       "      <th>carrier_OH</th>\n",
       "      <th>carrier_OO</th>\n",
       "      <th>carrier_UA</th>\n",
       "      <th>carrier_VX</th>\n",
       "      <th>carrier_WN</th>\n",
       "      <th>carrier_YV</th>\n",
       "      <th>carrier_YX</th>\n",
       "    </tr>\n",
       "  </thead>\n",
       "  <tbody>\n",
       "    <tr>\n",
       "      <th>0</th>\n",
       "      <td>2017</td>\n",
       "      <td>10</td>\n",
       "      <td>198.0</td>\n",
       "      <td>32.0</td>\n",
       "      <td>15.37</td>\n",
       "      <td>0.78</td>\n",
       "      <td>10.10</td>\n",
       "      <td>0.88</td>\n",
       "      <td>4.86</td>\n",
       "      <td>0.0</td>\n",
       "      <td>...</td>\n",
       "      <td>0</td>\n",
       "      <td>0</td>\n",
       "      <td>0</td>\n",
       "      <td>0</td>\n",
       "      <td>0</td>\n",
       "      <td>0</td>\n",
       "      <td>0</td>\n",
       "      <td>0</td>\n",
       "      <td>0</td>\n",
       "      <td>0</td>\n",
       "    </tr>\n",
       "    <tr>\n",
       "      <th>1</th>\n",
       "      <td>2017</td>\n",
       "      <td>10</td>\n",
       "      <td>86.0</td>\n",
       "      <td>12.0</td>\n",
       "      <td>4.93</td>\n",
       "      <td>0.00</td>\n",
       "      <td>2.38</td>\n",
       "      <td>0.00</td>\n",
       "      <td>4.69</td>\n",
       "      <td>0.0</td>\n",
       "      <td>...</td>\n",
       "      <td>0</td>\n",
       "      <td>0</td>\n",
       "      <td>0</td>\n",
       "      <td>0</td>\n",
       "      <td>0</td>\n",
       "      <td>0</td>\n",
       "      <td>0</td>\n",
       "      <td>0</td>\n",
       "      <td>0</td>\n",
       "      <td>0</td>\n",
       "    </tr>\n",
       "    <tr>\n",
       "      <th>2</th>\n",
       "      <td>2017</td>\n",
       "      <td>10</td>\n",
       "      <td>31.0</td>\n",
       "      <td>5.0</td>\n",
       "      <td>1.55</td>\n",
       "      <td>0.00</td>\n",
       "      <td>0.90</td>\n",
       "      <td>0.00</td>\n",
       "      <td>2.55</td>\n",
       "      <td>0.0</td>\n",
       "      <td>...</td>\n",
       "      <td>0</td>\n",
       "      <td>0</td>\n",
       "      <td>0</td>\n",
       "      <td>0</td>\n",
       "      <td>0</td>\n",
       "      <td>0</td>\n",
       "      <td>0</td>\n",
       "      <td>0</td>\n",
       "      <td>0</td>\n",
       "      <td>0</td>\n",
       "    </tr>\n",
       "    <tr>\n",
       "      <th>3</th>\n",
       "      <td>2017</td>\n",
       "      <td>10</td>\n",
       "      <td>4.0</td>\n",
       "      <td>0.0</td>\n",
       "      <td>0.00</td>\n",
       "      <td>0.00</td>\n",
       "      <td>0.00</td>\n",
       "      <td>0.00</td>\n",
       "      <td>0.00</td>\n",
       "      <td>0.0</td>\n",
       "      <td>...</td>\n",
       "      <td>0</td>\n",
       "      <td>0</td>\n",
       "      <td>0</td>\n",
       "      <td>0</td>\n",
       "      <td>0</td>\n",
       "      <td>0</td>\n",
       "      <td>0</td>\n",
       "      <td>0</td>\n",
       "      <td>0</td>\n",
       "      <td>0</td>\n",
       "    </tr>\n",
       "    <tr>\n",
       "      <th>4</th>\n",
       "      <td>2017</td>\n",
       "      <td>10</td>\n",
       "      <td>950.0</td>\n",
       "      <td>137.0</td>\n",
       "      <td>50.67</td>\n",
       "      <td>0.79</td>\n",
       "      <td>48.50</td>\n",
       "      <td>1.17</td>\n",
       "      <td>35.87</td>\n",
       "      <td>3.0</td>\n",
       "      <td>...</td>\n",
       "      <td>0</td>\n",
       "      <td>0</td>\n",
       "      <td>0</td>\n",
       "      <td>0</td>\n",
       "      <td>0</td>\n",
       "      <td>0</td>\n",
       "      <td>0</td>\n",
       "      <td>0</td>\n",
       "      <td>0</td>\n",
       "      <td>0</td>\n",
       "    </tr>\n",
       "  </tbody>\n",
       "</table>\n",
       "<p>5 rows × 389 columns</p>\n",
       "</div>"
      ],
      "text/plain": [
       "   year  month  arr_flights  arr_del15  carrier_ct  weather_ct  nas_ct  \\\n",
       "0  2017     10        198.0       32.0       15.37        0.78   10.10   \n",
       "1  2017     10         86.0       12.0        4.93        0.00    2.38   \n",
       "2  2017     10         31.0        5.0        1.55        0.00    0.90   \n",
       "3  2017     10          4.0        0.0        0.00        0.00    0.00   \n",
       "4  2017     10        950.0      137.0       50.67        0.79   48.50   \n",
       "\n",
       "   security_ct  late_aircraft_ct  arr_cancelled     ...      carrier_HA  \\\n",
       "0         0.88              4.86            0.0     ...               0   \n",
       "1         0.00              4.69            0.0     ...               0   \n",
       "2         0.00              2.55            0.0     ...               0   \n",
       "3         0.00              0.00            0.0     ...               0   \n",
       "4         1.17             35.87            3.0     ...               0   \n",
       "\n",
       "   carrier_MQ  carrier_NK  carrier_OH  carrier_OO  carrier_UA  carrier_VX  \\\n",
       "0           0           0           0           0           0           0   \n",
       "1           0           0           0           0           0           0   \n",
       "2           0           0           0           0           0           0   \n",
       "3           0           0           0           0           0           0   \n",
       "4           0           0           0           0           0           0   \n",
       "\n",
       "   carrier_WN  carrier_YV  carrier_YX  \n",
       "0           0           0           0  \n",
       "1           0           0           0  \n",
       "2           0           0           0  \n",
       "3           0           0           0  \n",
       "4           0           0           0  \n",
       "\n",
       "[5 rows x 389 columns]"
      ]
     },
     "execution_count": 8,
     "metadata": {},
     "output_type": "execute_result"
    }
   ],
   "source": [
    "cat_feats2 = ['carrier']\n",
    "data_2 = pd.get_dummies(data, columns=cat_feats2, drop_first=True)\n",
    "data_2.head()"
   ]
  },
  {
   "cell_type": "code",
   "execution_count": 9,
   "metadata": {},
   "outputs": [],
   "source": [
    "#clean data to fit model\n",
    "data_2.fillna(0, inplace=True)\n",
    "for col in data_2.iloc[:, 1:]:\n",
    "    data_2[col] = data_2[col].replace('[^0-9]+', '', regex=True)\n",
    "    data_2[col] = data_2[col].astype('int64') "
   ]
  },
  {
   "cell_type": "code",
   "execution_count": 10,
   "metadata": {},
   "outputs": [],
   "source": [
    "Y = data_2['arr_late']\n",
    "X = data_2.loc[:, ~data_2.columns.isin(['arr_late'])]"
   ]
  },
  {
   "cell_type": "code",
   "execution_count": 11,
   "metadata": {},
   "outputs": [],
   "source": [
    "from sklearn.decomposition import PCA\n",
    "pca = PCA(n_components=20)\n",
    "X_pca = pca.fit_transform(X)"
   ]
  },
  {
   "cell_type": "code",
   "execution_count": 12,
   "metadata": {},
   "outputs": [
    {
     "name": "stdout",
     "output_type": "stream",
     "text": [
      "(13940, 20)\n",
      "(13940,)\n"
     ]
    }
   ],
   "source": [
    "#Will use test train split \n",
    "X_train, X_test, Y_train, Y_test = train_test_split(X_pca,Y, test_size=0.3)\n",
    "print(X_train.shape)\n",
    "print(Y_train.shape)"
   ]
  },
  {
   "cell_type": "markdown",
   "metadata": {},
   "source": [
    "### Random Forest Classifier"
   ]
  },
  {
   "cell_type": "code",
   "execution_count": 13,
   "metadata": {},
   "outputs": [
    {
     "data": {
      "text/plain": [
       "array([0.99569738, 0.99713056, 0.99677188, 0.9982066 , 0.99892357])"
      ]
     },
     "execution_count": 13,
     "metadata": {},
     "output_type": "execute_result"
    }
   ],
   "source": [
    "rfc = ensemble.RandomForestClassifier()\n",
    "rfc_model = rfc.fit(X_train, Y_train)\n",
    "\n",
    "cross_val_score(rfc, X_train, Y_train, cv=5) "
   ]
  },
  {
   "cell_type": "code",
   "execution_count": 14,
   "metadata": {},
   "outputs": [
    {
     "name": "stdout",
     "output_type": "stream",
     "text": [
      "0.9969874476987448\n",
      "--- 0.00976204872131 seconds ---\n"
     ]
    }
   ],
   "source": [
    "start_time = time.time()\n",
    "print(rfc.score(X_test, Y_test))\n",
    "print(\"--- %s seconds ---\" % (time.time() - start_time))"
   ]
  },
  {
   "cell_type": "code",
   "execution_count": 15,
   "metadata": {},
   "outputs": [
    {
     "data": {
      "text/plain": [
       "array([[ 267,   10],\n",
       "       [   8, 5690]])"
      ]
     },
     "execution_count": 15,
     "metadata": {},
     "output_type": "execute_result"
    }
   ],
   "source": [
    "#test accuracy of Random Forest using Confusion matrix \n",
    "rfc_Y_pred = rfc.predict(X_test)\n",
    "confusion_matrix(Y_test,rfc_Y_pred)"
   ]
  },
  {
   "cell_type": "markdown",
   "metadata": {},
   "source": [
    "Only 10 False Positives and 8 False Negative, thus we mislabled 10 flights as late when they in fact weren't and missed 8 flight to classify as late. "
   ]
  },
  {
   "cell_type": "markdown",
   "metadata": {},
   "source": [
    "### Support Vector Machine"
   ]
  },
  {
   "cell_type": "code",
   "execution_count": 16,
   "metadata": {},
   "outputs": [
    {
     "data": {
      "text/plain": [
       "array([0.98411371, 0.98411371, 0.98828452, 0.98827471, 0.98994975])"
      ]
     },
     "execution_count": 16,
     "metadata": {},
     "output_type": "execute_result"
    }
   ],
   "source": [
    "from sklearn.svm import SVC\n",
    "svc = SVC()\n",
    "svc.fit(X_train, Y_train)\n",
    "cross_val_score(svc, X_test, Y_test, cv=5)"
   ]
  },
  {
   "cell_type": "code",
   "execution_count": 17,
   "metadata": {},
   "outputs": [
    {
     "name": "stdout",
     "output_type": "stream",
     "text": [
      "0.9923012552301256\n",
      "--- 3.19789195061 seconds ---\n"
     ]
    }
   ],
   "source": [
    "start_time = time.time()\n",
    "print(svc.score(X_test, Y_test))\n",
    "print(\"--- %s seconds ---\" % (time.time() - start_time))"
   ]
  },
  {
   "cell_type": "code",
   "execution_count": 18,
   "metadata": {},
   "outputs": [
    {
     "data": {
      "text/plain": [
       "array([[ 232,   45],\n",
       "       [   1, 5697]])"
      ]
     },
     "execution_count": 18,
     "metadata": {},
     "output_type": "execute_result"
    }
   ],
   "source": [
    "#test accuracy of SVM using Confusion matrix \n",
    "svc_Y_pred = svc.predict(X_test)\n",
    "confusion_matrix(Y_test,svc_Y_pred)"
   ]
  },
  {
   "cell_type": "markdown",
   "metadata": {},
   "source": [
    "45 False Positives and 1 False Negative, thus we mislabled 45 flights as late when they in fact weren't but only missed one flight to classify as late! "
   ]
  },
  {
   "cell_type": "code",
   "execution_count": null,
   "metadata": {},
   "outputs": [],
   "source": []
  }
 ],
 "metadata": {
  "kernelspec": {
   "display_name": "Python 2",
   "language": "python",
   "name": "python2"
  },
  "language_info": {
   "codemirror_mode": {
    "name": "ipython",
    "version": 2
   },
   "file_extension": ".py",
   "mimetype": "text/x-python",
   "name": "python",
   "nbconvert_exporter": "python",
   "pygments_lexer": "ipython2",
   "version": "2.7.15"
  }
 },
 "nbformat": 4,
 "nbformat_minor": 2
}
