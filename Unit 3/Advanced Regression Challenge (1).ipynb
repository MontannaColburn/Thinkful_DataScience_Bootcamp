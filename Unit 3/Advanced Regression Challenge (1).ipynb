{
 "cells": [
  {
   "cell_type": "markdown",
   "metadata": {},
   "source": [
    "# Challenge: Advanced Regression"
   ]
  },
  {
   "cell_type": "markdown",
   "metadata": {},
   "source": [
    "\n",
    "#### Source: \n",
    "I choose a dataset from kaggle on Austin Texas's Animal Shelter, the largest no-kill animal shelter in the US, to predict whether an animal at intake will likely be adopted or have to be transfered elsewhere. \n",
    "\n",
    "https://www.kaggle.com/aaronschlegel/austin-animal-center-shelter-intakes-and-outcomes#aac_intakes_outcomes.csv"
   ]
  },
  {
   "cell_type": "code",
   "execution_count": 1,
   "metadata": {},
   "outputs": [
    {
     "name": "stderr",
     "output_type": "stream",
     "text": [
      "/usr/local/envs/py2env/lib/python2.7/site-packages/statsmodels/compat/pandas.py:56: FutureWarning: The pandas.core.datetools module is deprecated and will be removed in a future version. Please use the pandas.tseries module instead.\n",
      "  from pandas.core import datetools\n"
     ]
    }
   ],
   "source": [
    "#imports\n",
    "import pandas as pd\n",
    "import numpy as np\n",
    "import math\n",
    "\n",
    "#plotting\n",
    "from matplotlib import pyplot as plt\n",
    "import seaborn as sns\n",
    "%matplotlib inline\n",
    "sns.set_style('white')\n",
    "\n",
    "#models\n",
    "from sklearn import linear_model\n",
    "from sklearn.linear_model import LogisticRegression\n",
    "import statsmodels.api as sm\n",
    "from sklearn.model_selection import train_test_split\n",
    "from sklearn.model_selection import cross_val_score"
   ]
  },
  {
   "cell_type": "code",
   "execution_count": 51,
   "metadata": {},
   "outputs": [
    {
     "data": {
      "text/html": [
       "<div>\n",
       "<style scoped>\n",
       "    .dataframe tbody tr th:only-of-type {\n",
       "        vertical-align: middle;\n",
       "    }\n",
       "\n",
       "    .dataframe tbody tr th {\n",
       "        vertical-align: top;\n",
       "    }\n",
       "\n",
       "    .dataframe thead th {\n",
       "        text-align: right;\n",
       "    }\n",
       "</style>\n",
       "<table border=\"1\" class=\"dataframe\">\n",
       "  <thead>\n",
       "    <tr style=\"text-align: right;\">\n",
       "      <th></th>\n",
       "      <th>age_upon_outcome</th>\n",
       "      <th>outcome_type</th>\n",
       "      <th>sex_upon_outcome</th>\n",
       "      <th>age_upon_outcome_(days)</th>\n",
       "      <th>age_upon_outcome_(years)</th>\n",
       "      <th>outcome_datetime</th>\n",
       "      <th>outcome_month</th>\n",
       "      <th>outcome_year</th>\n",
       "      <th>outcome_weekday</th>\n",
       "      <th>outcome_hour</th>\n",
       "      <th>...</th>\n",
       "      <th>sex_upon_intake</th>\n",
       "      <th>age_upon_intake_(days)</th>\n",
       "      <th>age_upon_intake_(years)</th>\n",
       "      <th>intake_datetime</th>\n",
       "      <th>intake_month</th>\n",
       "      <th>intake_year</th>\n",
       "      <th>intake_weekday</th>\n",
       "      <th>intake_hour</th>\n",
       "      <th>intake_number</th>\n",
       "      <th>time_in_shelter_days</th>\n",
       "    </tr>\n",
       "  </thead>\n",
       "  <tbody>\n",
       "    <tr>\n",
       "      <th>0</th>\n",
       "      <td>10 years</td>\n",
       "      <td>Return to Owner</td>\n",
       "      <td>Neutered Male</td>\n",
       "      <td>3650</td>\n",
       "      <td>10.0</td>\n",
       "      <td>2017-12-07 14:07:00</td>\n",
       "      <td>12</td>\n",
       "      <td>2017</td>\n",
       "      <td>Thursday</td>\n",
       "      <td>0</td>\n",
       "      <td>...</td>\n",
       "      <td>Neutered Male</td>\n",
       "      <td>3650</td>\n",
       "      <td>10.0</td>\n",
       "      <td>2017-12-07 00:00:00</td>\n",
       "      <td>12</td>\n",
       "      <td>2017</td>\n",
       "      <td>Thursday</td>\n",
       "      <td>14</td>\n",
       "      <td>1.0</td>\n",
       "      <td>0.588194</td>\n",
       "    </tr>\n",
       "    <tr>\n",
       "      <th>1</th>\n",
       "      <td>7 years</td>\n",
       "      <td>Return to Owner</td>\n",
       "      <td>Neutered Male</td>\n",
       "      <td>2555</td>\n",
       "      <td>7.0</td>\n",
       "      <td>2014-12-20 16:35:00</td>\n",
       "      <td>12</td>\n",
       "      <td>2014</td>\n",
       "      <td>Saturday</td>\n",
       "      <td>16</td>\n",
       "      <td>...</td>\n",
       "      <td>Neutered Male</td>\n",
       "      <td>2555</td>\n",
       "      <td>7.0</td>\n",
       "      <td>2014-12-19 10:21:00</td>\n",
       "      <td>12</td>\n",
       "      <td>2014</td>\n",
       "      <td>Friday</td>\n",
       "      <td>10</td>\n",
       "      <td>2.0</td>\n",
       "      <td>1.259722</td>\n",
       "    </tr>\n",
       "    <tr>\n",
       "      <th>2</th>\n",
       "      <td>6 years</td>\n",
       "      <td>Return to Owner</td>\n",
       "      <td>Neutered Male</td>\n",
       "      <td>2190</td>\n",
       "      <td>6.0</td>\n",
       "      <td>2014-03-08 17:10:00</td>\n",
       "      <td>3</td>\n",
       "      <td>2014</td>\n",
       "      <td>Saturday</td>\n",
       "      <td>17</td>\n",
       "      <td>...</td>\n",
       "      <td>Neutered Male</td>\n",
       "      <td>2190</td>\n",
       "      <td>6.0</td>\n",
       "      <td>2014-03-07 14:26:00</td>\n",
       "      <td>3</td>\n",
       "      <td>2014</td>\n",
       "      <td>Friday</td>\n",
       "      <td>14</td>\n",
       "      <td>3.0</td>\n",
       "      <td>1.113889</td>\n",
       "    </tr>\n",
       "    <tr>\n",
       "      <th>3</th>\n",
       "      <td>10 years</td>\n",
       "      <td>Transfer</td>\n",
       "      <td>Neutered Male</td>\n",
       "      <td>3650</td>\n",
       "      <td>10.0</td>\n",
       "      <td>2014-04-07 15:12:00</td>\n",
       "      <td>4</td>\n",
       "      <td>2014</td>\n",
       "      <td>Monday</td>\n",
       "      <td>15</td>\n",
       "      <td>...</td>\n",
       "      <td>Neutered Male</td>\n",
       "      <td>3650</td>\n",
       "      <td>10.0</td>\n",
       "      <td>2014-04-02 15:55:00</td>\n",
       "      <td>4</td>\n",
       "      <td>2014</td>\n",
       "      <td>Wednesday</td>\n",
       "      <td>15</td>\n",
       "      <td>1.0</td>\n",
       "      <td>4.970139</td>\n",
       "    </tr>\n",
       "    <tr>\n",
       "      <th>4</th>\n",
       "      <td>16 years</td>\n",
       "      <td>Return to Owner</td>\n",
       "      <td>Neutered Male</td>\n",
       "      <td>5840</td>\n",
       "      <td>16.0</td>\n",
       "      <td>2013-11-16 11:54:00</td>\n",
       "      <td>11</td>\n",
       "      <td>2013</td>\n",
       "      <td>Saturday</td>\n",
       "      <td>11</td>\n",
       "      <td>...</td>\n",
       "      <td>Neutered Male</td>\n",
       "      <td>5840</td>\n",
       "      <td>16.0</td>\n",
       "      <td>2013-11-16 09:02:00</td>\n",
       "      <td>11</td>\n",
       "      <td>2013</td>\n",
       "      <td>Saturday</td>\n",
       "      <td>9</td>\n",
       "      <td>1.0</td>\n",
       "      <td>0.119444</td>\n",
       "    </tr>\n",
       "    <tr>\n",
       "      <th>5</th>\n",
       "      <td>15 years</td>\n",
       "      <td>Return to Owner</td>\n",
       "      <td>Spayed Female</td>\n",
       "      <td>5475</td>\n",
       "      <td>15.0</td>\n",
       "      <td>2013-11-17 11:40:00</td>\n",
       "      <td>11</td>\n",
       "      <td>2013</td>\n",
       "      <td>Sunday</td>\n",
       "      <td>11</td>\n",
       "      <td>...</td>\n",
       "      <td>Spayed Female</td>\n",
       "      <td>5475</td>\n",
       "      <td>15.0</td>\n",
       "      <td>2013-11-16 14:46:00</td>\n",
       "      <td>11</td>\n",
       "      <td>2013</td>\n",
       "      <td>Saturday</td>\n",
       "      <td>14</td>\n",
       "      <td>1.0</td>\n",
       "      <td>0.870833</td>\n",
       "    </tr>\n",
       "    <tr>\n",
       "      <th>6</th>\n",
       "      <td>15 years</td>\n",
       "      <td>Return to Owner</td>\n",
       "      <td>Intact Female</td>\n",
       "      <td>5475</td>\n",
       "      <td>15.0</td>\n",
       "      <td>2014-11-14 19:28:00</td>\n",
       "      <td>11</td>\n",
       "      <td>2014</td>\n",
       "      <td>Friday</td>\n",
       "      <td>19</td>\n",
       "      <td>...</td>\n",
       "      <td>Intact Female</td>\n",
       "      <td>5475</td>\n",
       "      <td>15.0</td>\n",
       "      <td>2014-11-14 15:11:00</td>\n",
       "      <td>11</td>\n",
       "      <td>2014</td>\n",
       "      <td>Friday</td>\n",
       "      <td>15</td>\n",
       "      <td>1.0</td>\n",
       "      <td>0.178472</td>\n",
       "    </tr>\n",
       "    <tr>\n",
       "      <th>7</th>\n",
       "      <td>15 years</td>\n",
       "      <td>Return to Owner</td>\n",
       "      <td>Neutered Male</td>\n",
       "      <td>5475</td>\n",
       "      <td>15.0</td>\n",
       "      <td>2014-09-15 16:35:00</td>\n",
       "      <td>9</td>\n",
       "      <td>2014</td>\n",
       "      <td>Monday</td>\n",
       "      <td>16</td>\n",
       "      <td>...</td>\n",
       "      <td>Neutered Male</td>\n",
       "      <td>5475</td>\n",
       "      <td>15.0</td>\n",
       "      <td>2014-09-15 11:28:00</td>\n",
       "      <td>9</td>\n",
       "      <td>2014</td>\n",
       "      <td>Monday</td>\n",
       "      <td>11</td>\n",
       "      <td>1.0</td>\n",
       "      <td>0.213194</td>\n",
       "    </tr>\n",
       "    <tr>\n",
       "      <th>8</th>\n",
       "      <td>15 years</td>\n",
       "      <td>Return to Owner</td>\n",
       "      <td>Neutered Male</td>\n",
       "      <td>5475</td>\n",
       "      <td>15.0</td>\n",
       "      <td>2014-03-23 15:57:00</td>\n",
       "      <td>3</td>\n",
       "      <td>2014</td>\n",
       "      <td>Sunday</td>\n",
       "      <td>15</td>\n",
       "      <td>...</td>\n",
       "      <td>Neutered Male</td>\n",
       "      <td>5475</td>\n",
       "      <td>15.0</td>\n",
       "      <td>2014-03-17 09:45:00</td>\n",
       "      <td>3</td>\n",
       "      <td>2014</td>\n",
       "      <td>Monday</td>\n",
       "      <td>9</td>\n",
       "      <td>1.0</td>\n",
       "      <td>6.258333</td>\n",
       "    </tr>\n",
       "    <tr>\n",
       "      <th>9</th>\n",
       "      <td>18 years</td>\n",
       "      <td>Return to Owner</td>\n",
       "      <td>Spayed Female</td>\n",
       "      <td>6570</td>\n",
       "      <td>18.0</td>\n",
       "      <td>2015-09-18 19:04:00</td>\n",
       "      <td>9</td>\n",
       "      <td>2015</td>\n",
       "      <td>Friday</td>\n",
       "      <td>19</td>\n",
       "      <td>...</td>\n",
       "      <td>Spayed Female</td>\n",
       "      <td>6570</td>\n",
       "      <td>18.0</td>\n",
       "      <td>2015-09-18 17:46:00</td>\n",
       "      <td>9</td>\n",
       "      <td>2015</td>\n",
       "      <td>Friday</td>\n",
       "      <td>17</td>\n",
       "      <td>1.0</td>\n",
       "      <td>0.054167</td>\n",
       "    </tr>\n",
       "  </tbody>\n",
       "</table>\n",
       "<p>10 rows × 27 columns</p>\n",
       "</div>"
      ],
      "text/plain": [
       "  age_upon_outcome     outcome_type sex_upon_outcome  age_upon_outcome_(days)  \\\n",
       "0         10 years  Return to Owner    Neutered Male                     3650   \n",
       "1          7 years  Return to Owner    Neutered Male                     2555   \n",
       "2          6 years  Return to Owner    Neutered Male                     2190   \n",
       "3         10 years         Transfer    Neutered Male                     3650   \n",
       "4         16 years  Return to Owner    Neutered Male                     5840   \n",
       "5         15 years  Return to Owner    Spayed Female                     5475   \n",
       "6         15 years  Return to Owner    Intact Female                     5475   \n",
       "7         15 years  Return to Owner    Neutered Male                     5475   \n",
       "8         15 years  Return to Owner    Neutered Male                     5475   \n",
       "9         18 years  Return to Owner    Spayed Female                     6570   \n",
       "\n",
       "   age_upon_outcome_(years)     outcome_datetime  outcome_month  outcome_year  \\\n",
       "0                      10.0  2017-12-07 14:07:00             12          2017   \n",
       "1                       7.0  2014-12-20 16:35:00             12          2014   \n",
       "2                       6.0  2014-03-08 17:10:00              3          2014   \n",
       "3                      10.0  2014-04-07 15:12:00              4          2014   \n",
       "4                      16.0  2013-11-16 11:54:00             11          2013   \n",
       "5                      15.0  2013-11-17 11:40:00             11          2013   \n",
       "6                      15.0  2014-11-14 19:28:00             11          2014   \n",
       "7                      15.0  2014-09-15 16:35:00              9          2014   \n",
       "8                      15.0  2014-03-23 15:57:00              3          2014   \n",
       "9                      18.0  2015-09-18 19:04:00              9          2015   \n",
       "\n",
       "  outcome_weekday  outcome_hour          ...           sex_upon_intake  \\\n",
       "0        Thursday             0          ...             Neutered Male   \n",
       "1        Saturday            16          ...             Neutered Male   \n",
       "2        Saturday            17          ...             Neutered Male   \n",
       "3          Monday            15          ...             Neutered Male   \n",
       "4        Saturday            11          ...             Neutered Male   \n",
       "5          Sunday            11          ...             Spayed Female   \n",
       "6          Friday            19          ...             Intact Female   \n",
       "7          Monday            16          ...             Neutered Male   \n",
       "8          Sunday            15          ...             Neutered Male   \n",
       "9          Friday            19          ...             Spayed Female   \n",
       "\n",
       "   age_upon_intake_(days)  age_upon_intake_(years)      intake_datetime  \\\n",
       "0                    3650                     10.0  2017-12-07 00:00:00   \n",
       "1                    2555                      7.0  2014-12-19 10:21:00   \n",
       "2                    2190                      6.0  2014-03-07 14:26:00   \n",
       "3                    3650                     10.0  2014-04-02 15:55:00   \n",
       "4                    5840                     16.0  2013-11-16 09:02:00   \n",
       "5                    5475                     15.0  2013-11-16 14:46:00   \n",
       "6                    5475                     15.0  2014-11-14 15:11:00   \n",
       "7                    5475                     15.0  2014-09-15 11:28:00   \n",
       "8                    5475                     15.0  2014-03-17 09:45:00   \n",
       "9                    6570                     18.0  2015-09-18 17:46:00   \n",
       "\n",
       "  intake_month intake_year intake_weekday intake_hour  intake_number  \\\n",
       "0           12        2017       Thursday          14            1.0   \n",
       "1           12        2014         Friday          10            2.0   \n",
       "2            3        2014         Friday          14            3.0   \n",
       "3            4        2014      Wednesday          15            1.0   \n",
       "4           11        2013       Saturday           9            1.0   \n",
       "5           11        2013       Saturday          14            1.0   \n",
       "6           11        2014         Friday          15            1.0   \n",
       "7            9        2014         Monday          11            1.0   \n",
       "8            3        2014         Monday           9            1.0   \n",
       "9            9        2015         Friday          17            1.0   \n",
       "\n",
       "   time_in_shelter_days  \n",
       "0              0.588194  \n",
       "1              1.259722  \n",
       "2              1.113889  \n",
       "3              4.970139  \n",
       "4              0.119444  \n",
       "5              0.870833  \n",
       "6              0.178472  \n",
       "7              0.213194  \n",
       "8              6.258333  \n",
       "9              0.054167  \n",
       "\n",
       "[10 rows x 27 columns]"
      ]
     },
     "execution_count": 51,
     "metadata": {},
     "output_type": "execute_result"
    }
   ],
   "source": [
    "#read in data\n",
    "df = pd.read_csv('https://www.dropbox.com/s/i613e1l09n5dhp7/aac_intakes_outcomes.csv?dl=1')\n",
    "#drop unnecessary columns \n",
    "df = df.drop(['animal_id_outcome','count','age_upon_outcome_age_group','outcome_subtype','age_upon_intake_age_group','animal_id_intake', 'color', 'found_location','breed','time_in_shelter','date_of_birth','dob_monthyear','outcome_monthyear','intake_monthyear' ], axis = 1)\n",
    "df.head(10)"
   ]
  },
  {
   "cell_type": "code",
   "execution_count": 52,
   "metadata": {},
   "outputs": [
    {
     "data": {
      "text/html": [
       "<div>\n",
       "<style scoped>\n",
       "    .dataframe tbody tr th:only-of-type {\n",
       "        vertical-align: middle;\n",
       "    }\n",
       "\n",
       "    .dataframe tbody tr th {\n",
       "        vertical-align: top;\n",
       "    }\n",
       "\n",
       "    .dataframe thead th {\n",
       "        text-align: right;\n",
       "    }\n",
       "</style>\n",
       "<table border=\"1\" class=\"dataframe\">\n",
       "  <thead>\n",
       "    <tr style=\"text-align: right;\">\n",
       "      <th></th>\n",
       "      <th>age_upon_outcome_(days)</th>\n",
       "      <th>age_upon_outcome_(years)</th>\n",
       "      <th>outcome_month</th>\n",
       "      <th>outcome_year</th>\n",
       "      <th>outcome_hour</th>\n",
       "      <th>outcome_number</th>\n",
       "      <th>dob_year</th>\n",
       "      <th>dob_month</th>\n",
       "      <th>age_upon_intake_(days)</th>\n",
       "      <th>age_upon_intake_(years)</th>\n",
       "      <th>intake_month</th>\n",
       "      <th>intake_year</th>\n",
       "      <th>intake_hour</th>\n",
       "      <th>intake_number</th>\n",
       "      <th>time_in_shelter_days</th>\n",
       "    </tr>\n",
       "  </thead>\n",
       "  <tbody>\n",
       "    <tr>\n",
       "      <th>count</th>\n",
       "      <td>79672.000000</td>\n",
       "      <td>79672.000000</td>\n",
       "      <td>79672.000000</td>\n",
       "      <td>79672.000000</td>\n",
       "      <td>79672.000000</td>\n",
       "      <td>79672.000000</td>\n",
       "      <td>79672.000000</td>\n",
       "      <td>79672.000000</td>\n",
       "      <td>79672.000000</td>\n",
       "      <td>79672.000000</td>\n",
       "      <td>79672.000000</td>\n",
       "      <td>79672.000000</td>\n",
       "      <td>79672.000000</td>\n",
       "      <td>79672.000000</td>\n",
       "      <td>79672.000000</td>\n",
       "    </tr>\n",
       "    <tr>\n",
       "      <th>mean</th>\n",
       "      <td>782.046127</td>\n",
       "      <td>2.142592</td>\n",
       "      <td>6.655425</td>\n",
       "      <td>2015.472563</td>\n",
       "      <td>14.297306</td>\n",
       "      <td>1.126820</td>\n",
       "      <td>2013.254870</td>\n",
       "      <td>6.310310</td>\n",
       "      <td>769.341701</td>\n",
       "      <td>2.107785</td>\n",
       "      <td>6.584032</td>\n",
       "      <td>2015.436101</td>\n",
       "      <td>13.487022</td>\n",
       "      <td>1.126820</td>\n",
       "      <td>16.757116</td>\n",
       "    </tr>\n",
       "    <tr>\n",
       "      <th>std</th>\n",
       "      <td>1058.528519</td>\n",
       "      <td>2.900078</td>\n",
       "      <td>3.414284</td>\n",
       "      <td>1.305944</td>\n",
       "      <td>3.774317</td>\n",
       "      <td>0.456057</td>\n",
       "      <td>3.216517</td>\n",
       "      <td>3.289077</td>\n",
       "      <td>1056.009040</td>\n",
       "      <td>2.893175</td>\n",
       "      <td>3.366579</td>\n",
       "      <td>1.303157</td>\n",
       "      <td>3.121173</td>\n",
       "      <td>0.456057</td>\n",
       "      <td>41.679359</td>\n",
       "    </tr>\n",
       "    <tr>\n",
       "      <th>min</th>\n",
       "      <td>0.000000</td>\n",
       "      <td>0.000000</td>\n",
       "      <td>1.000000</td>\n",
       "      <td>2013.000000</td>\n",
       "      <td>0.000000</td>\n",
       "      <td>1.000000</td>\n",
       "      <td>1991.000000</td>\n",
       "      <td>1.000000</td>\n",
       "      <td>0.000000</td>\n",
       "      <td>0.000000</td>\n",
       "      <td>1.000000</td>\n",
       "      <td>2013.000000</td>\n",
       "      <td>0.000000</td>\n",
       "      <td>1.000000</td>\n",
       "      <td>0.000000</td>\n",
       "    </tr>\n",
       "    <tr>\n",
       "      <th>25%</th>\n",
       "      <td>90.000000</td>\n",
       "      <td>0.246575</td>\n",
       "      <td>4.000000</td>\n",
       "      <td>2014.000000</td>\n",
       "      <td>12.000000</td>\n",
       "      <td>1.000000</td>\n",
       "      <td>2012.000000</td>\n",
       "      <td>4.000000</td>\n",
       "      <td>60.000000</td>\n",
       "      <td>0.164384</td>\n",
       "      <td>4.000000</td>\n",
       "      <td>2014.000000</td>\n",
       "      <td>11.000000</td>\n",
       "      <td>1.000000</td>\n",
       "      <td>1.102083</td>\n",
       "    </tr>\n",
       "    <tr>\n",
       "      <th>50%</th>\n",
       "      <td>365.000000</td>\n",
       "      <td>1.000000</td>\n",
       "      <td>7.000000</td>\n",
       "      <td>2015.000000</td>\n",
       "      <td>15.000000</td>\n",
       "      <td>1.000000</td>\n",
       "      <td>2014.000000</td>\n",
       "      <td>6.000000</td>\n",
       "      <td>365.000000</td>\n",
       "      <td>1.000000</td>\n",
       "      <td>7.000000</td>\n",
       "      <td>2015.000000</td>\n",
       "      <td>13.000000</td>\n",
       "      <td>1.000000</td>\n",
       "      <td>4.987153</td>\n",
       "    </tr>\n",
       "    <tr>\n",
       "      <th>75%</th>\n",
       "      <td>1095.000000</td>\n",
       "      <td>3.000000</td>\n",
       "      <td>10.000000</td>\n",
       "      <td>2017.000000</td>\n",
       "      <td>17.000000</td>\n",
       "      <td>1.000000</td>\n",
       "      <td>2015.000000</td>\n",
       "      <td>9.000000</td>\n",
       "      <td>1095.000000</td>\n",
       "      <td>3.000000</td>\n",
       "      <td>10.000000</td>\n",
       "      <td>2017.000000</td>\n",
       "      <td>16.000000</td>\n",
       "      <td>1.000000</td>\n",
       "      <td>13.610764</td>\n",
       "    </tr>\n",
       "    <tr>\n",
       "      <th>max</th>\n",
       "      <td>9125.000000</td>\n",
       "      <td>25.000000</td>\n",
       "      <td>12.000000</td>\n",
       "      <td>2018.000000</td>\n",
       "      <td>23.000000</td>\n",
       "      <td>13.000000</td>\n",
       "      <td>2018.000000</td>\n",
       "      <td>12.000000</td>\n",
       "      <td>9125.000000</td>\n",
       "      <td>25.000000</td>\n",
       "      <td>12.000000</td>\n",
       "      <td>2018.000000</td>\n",
       "      <td>23.000000</td>\n",
       "      <td>13.000000</td>\n",
       "      <td>1606.194444</td>\n",
       "    </tr>\n",
       "  </tbody>\n",
       "</table>\n",
       "</div>"
      ],
      "text/plain": [
       "       age_upon_outcome_(days)  age_upon_outcome_(years)  outcome_month  \\\n",
       "count             79672.000000              79672.000000   79672.000000   \n",
       "mean                782.046127                  2.142592       6.655425   \n",
       "std                1058.528519                  2.900078       3.414284   \n",
       "min                   0.000000                  0.000000       1.000000   \n",
       "25%                  90.000000                  0.246575       4.000000   \n",
       "50%                 365.000000                  1.000000       7.000000   \n",
       "75%                1095.000000                  3.000000      10.000000   \n",
       "max                9125.000000                 25.000000      12.000000   \n",
       "\n",
       "       outcome_year  outcome_hour  outcome_number      dob_year     dob_month  \\\n",
       "count  79672.000000  79672.000000    79672.000000  79672.000000  79672.000000   \n",
       "mean    2015.472563     14.297306        1.126820   2013.254870      6.310310   \n",
       "std        1.305944      3.774317        0.456057      3.216517      3.289077   \n",
       "min     2013.000000      0.000000        1.000000   1991.000000      1.000000   \n",
       "25%     2014.000000     12.000000        1.000000   2012.000000      4.000000   \n",
       "50%     2015.000000     15.000000        1.000000   2014.000000      6.000000   \n",
       "75%     2017.000000     17.000000        1.000000   2015.000000      9.000000   \n",
       "max     2018.000000     23.000000       13.000000   2018.000000     12.000000   \n",
       "\n",
       "       age_upon_intake_(days)  age_upon_intake_(years)  intake_month  \\\n",
       "count            79672.000000             79672.000000  79672.000000   \n",
       "mean               769.341701                 2.107785      6.584032   \n",
       "std               1056.009040                 2.893175      3.366579   \n",
       "min                  0.000000                 0.000000      1.000000   \n",
       "25%                 60.000000                 0.164384      4.000000   \n",
       "50%                365.000000                 1.000000      7.000000   \n",
       "75%               1095.000000                 3.000000     10.000000   \n",
       "max               9125.000000                25.000000     12.000000   \n",
       "\n",
       "        intake_year   intake_hour  intake_number  time_in_shelter_days  \n",
       "count  79672.000000  79672.000000   79672.000000          79672.000000  \n",
       "mean    2015.436101     13.487022       1.126820             16.757116  \n",
       "std        1.303157      3.121173       0.456057             41.679359  \n",
       "min     2013.000000      0.000000       1.000000              0.000000  \n",
       "25%     2014.000000     11.000000       1.000000              1.102083  \n",
       "50%     2015.000000     13.000000       1.000000              4.987153  \n",
       "75%     2017.000000     16.000000       1.000000             13.610764  \n",
       "max     2018.000000     23.000000      13.000000           1606.194444  "
      ]
     },
     "execution_count": 52,
     "metadata": {},
     "output_type": "execute_result"
    }
   ],
   "source": [
    "df.describe()"
   ]
  },
  {
   "cell_type": "code",
   "execution_count": 53,
   "metadata": {},
   "outputs": [
    {
     "name": "stdout",
     "output_type": "stream",
     "text": [
      "<class 'pandas.core.frame.DataFrame'>\n",
      "RangeIndex: 79672 entries, 0 to 79671\n",
      "Data columns (total 27 columns):\n",
      "age_upon_outcome            79672 non-null object\n",
      "outcome_type                79662 non-null object\n",
      "sex_upon_outcome            79671 non-null object\n",
      "age_upon_outcome_(days)     79672 non-null int64\n",
      "age_upon_outcome_(years)    79672 non-null float64\n",
      "outcome_datetime            79672 non-null object\n",
      "outcome_month               79672 non-null int64\n",
      "outcome_year                79672 non-null int64\n",
      "outcome_weekday             79672 non-null object\n",
      "outcome_hour                79672 non-null int64\n",
      "outcome_number              79672 non-null float64\n",
      "dob_year                    79672 non-null int64\n",
      "dob_month                   79672 non-null int64\n",
      "age_upon_intake             79672 non-null object\n",
      "animal_type                 79672 non-null object\n",
      "intake_condition            79672 non-null object\n",
      "intake_type                 79672 non-null object\n",
      "sex_upon_intake             79671 non-null object\n",
      "age_upon_intake_(days)      79672 non-null int64\n",
      "age_upon_intake_(years)     79672 non-null float64\n",
      "intake_datetime             79672 non-null object\n",
      "intake_month                79672 non-null int64\n",
      "intake_year                 79672 non-null int64\n",
      "intake_weekday              79672 non-null object\n",
      "intake_hour                 79672 non-null int64\n",
      "intake_number               79672 non-null float64\n",
      "time_in_shelter_days        79672 non-null float64\n",
      "dtypes: float64(5), int64(10), object(12)\n",
      "memory usage: 16.4+ MB\n"
     ]
    }
   ],
   "source": [
    "df.info()"
   ]
  },
  {
   "cell_type": "code",
   "execution_count": 54,
   "metadata": {},
   "outputs": [],
   "source": [
    "#Limit the outcome types for adoption/transfer for prediction \n",
    "df_adopt = df.loc[((df['outcome_type'] == 'Transfer')  | (df['outcome_type'] == 'Adoption'))]"
   ]
  },
  {
   "cell_type": "code",
   "execution_count": 55,
   "metadata": {},
   "outputs": [
    {
     "data": {
      "text/plain": [
       "<matplotlib.axes._subplots.AxesSubplot at 0x7fca174aeed0>"
      ]
     },
     "execution_count": 55,
     "metadata": {},
     "output_type": "execute_result"
    },
    {
     "data": {
      "image/png": "[encoded data removed]",
      "text/plain": [
       "<matplotlib.figure.Figure at 0x7fca174ae9d0>"
      ]
     },
     "metadata": {},
     "output_type": "display_data"
    }
   ],
   "source": [
    "#create correlation matrix\n",
    "sns.heatmap(df_adopt.corr())"
   ]
  },
  {
   "cell_type": "code",
   "execution_count": 56,
   "metadata": {},
   "outputs": [],
   "source": [
    "#drop some of the heavily corrleated variables\n",
    "df_adopt = df_adopt.drop(['age_upon_outcome', 'age_upon_outcome_(years)','outcome_number','outcome_year', 'age_upon_intake_(years)', 'outcome_datetime','intake_datetime', 'dob_year'], axis = 1)"
   ]
  },
  {
   "cell_type": "markdown",
   "metadata": {},
   "source": [
    "### Feature Engineering"
   ]
  },
  {
   "cell_type": "code",
   "execution_count": 57,
   "metadata": {},
   "outputs": [],
   "source": [
    "#create values for the categorical variables\n",
    "outcome_weekday_values = {'Sunday':0, 'Monday':1, 'Tuesday':2, 'Wednesday':3, 'Thursday':4,'Friday':5,'Saturday':6} \n",
    "df_adopt.replace({'outcome_weekday':outcome_weekday_values}, inplace=True)\n",
    "sex_upon_outcome_values = {'Unknown':0, 'Neutered Male':1, 'Spayed Female':2, 'Intact Female':3, 'Intact Male':4}\n",
    "df_adopt.replace({'sex_upon_outcome':sex_upon_outcome_values}, inplace = True) \n",
    "animal_type_values = {'Other':0,'Bird':1,'Cat':2, 'Dog':3}\n",
    "df_adopt.replace({'animal_type':animal_type_values}, inplace = True) \n",
    "intake_condition_values = {'Normal':0,'Sick':1,'Aged':2, 'Feral':3,'Nursing':4, 'Injured':5, 'Pregnant':6, 'Other':7}\n",
    "df_adopt.replace({'intake_condition': intake_condition_values}, inplace = True)\n",
    "intake_type_values ={'Owner Surrender':0, 'Public Assist': 1, 'Stray':2, 'Wildlife':3,'Euthanasia Request':4}\n",
    "df_adopt.replace({'intake_type': intake_type_values}, inplace = True)\n",
    "intake_weekday_values = {'Sunday':0, 'Monday':1, 'Tuesday':2, 'Wednesday':3, 'Thursday':4,'Friday':5,'Saturday':6} \n",
    "df_adopt.replace({'intake_weekday':intake_weekday_values}, inplace=True)\n",
    "sex_upon_intake_values =  {'Unknown':0, 'Neutered Male':1, 'Spayed Female':2, 'Intact Female':3, 'Intact Male':4}\n",
    "df_adopt.replace({'sex_upon_intake':sex_upon_intake_values}, inplace = True) "
   ]
  },
  {
   "cell_type": "code",
   "execution_count": 58,
   "metadata": {},
   "outputs": [
    {
     "data": {
      "text/plain": [
       "<matplotlib.axes._subplots.AxesSubplot at 0x7fca141ef450>"
      ]
     },
     "execution_count": 58,
     "metadata": {},
     "output_type": "execute_result"
    },
    {
     "data": {
      "image/png": "[encoded data removed]",
      "text/plain": [
       "<matplotlib.figure.Figure at 0x7fca16e8ff90>"
      ]
     },
     "metadata": {},
     "output_type": "display_data"
    }
   ],
   "source": [
    "#run another correlation matrix with the newly created features \n",
    "sns.heatmap(df_adopt.corr())"
   ]
  },
  {
   "cell_type": "code",
   "execution_count": 59,
   "metadata": {},
   "outputs": [],
   "source": [
    "#create the binary prediction outcomes\n",
    "outcome_type_values = {'Transfer':0, 'Adoption':1}\n",
    "df_adopt.replace({'outcome_type':outcome_type_values}, inplace = True)"
   ]
  },
  {
   "cell_type": "code",
   "execution_count": 60,
   "metadata": {},
   "outputs": [],
   "source": [
    "#clean data to fit model\n",
    "df_adopt.replace('NaN', np.nan) \n",
    "df_adopt['age_upon_intake'] = df_adopt.age_upon_intake.str.extract('(\\d+)', expand=True).astype(int)\n",
    "df_adopt.fillna(0, inplace=True)\n",
    "for col in df_adopt.iloc[:, 1:]:\n",
    "    df_adopt[col] = df_adopt[col].replace('[^0-9]+', '', regex=True)"
   ]
  },
  {
   "cell_type": "code",
   "execution_count": 61,
   "metadata": {},
   "outputs": [],
   "source": [
    "#Let's remove any outcome variables, we'll want to know what the likelyhood of that animal getting adopted would be over transfered at time of intake \n",
    "df_adopt = df_adopt.drop(['sex_upon_outcome','age_upon_outcome_(days)', 'outcome_month','outcome_weekday','outcome_hour'], axis = 1)"
   ]
  },
  {
   "cell_type": "markdown",
   "metadata": {},
   "source": [
    "## Vanilla Logistic Regression"
   ]
  },
  {
   "cell_type": "code",
   "execution_count": 62,
   "metadata": {},
   "outputs": [],
   "source": [
    "#create training/test sets\n",
    "X = df_adopt.drop('outcome_type', axis=1)\n",
    "Y = df_adopt['outcome_type']\n",
    "\n",
    "X_train, X_test, Y_train, Y_test = train_test_split(X,Y, test_size=0.3)"
   ]
  },
  {
   "cell_type": "markdown",
   "metadata": {},
   "source": [
    "##### Fitting a binary logistic model using statsmodels"
   ]
  },
  {
   "cell_type": "code",
   "execution_count": 63,
   "metadata": {},
   "outputs": [
    {
     "name": "stdout",
     "output_type": "stream",
     "text": [
      "Optimization terminated successfully.\n",
      "         Current function value: 0.565937\n",
      "         Iterations 8\n",
      "                               Results: Logit\n",
      "=============================================================================\n",
      "Model:                  Logit                No. Iterations:       8.0000    \n",
      "Dependent Variable:     outcome_type         Pseudo R-squared:     0.165     \n",
      "Date:                   2018-12-14 18:18     AIC:                  45501.0077\n",
      "No. Observations:       40175                BIC:                  45621.4217\n",
      "Df Model:               13                   Log-Likelihood:       -22737.   \n",
      "Df Residuals:           40161                LL-Null:              -27233.   \n",
      "Converged:              1.0000               Scale:                1.0000    \n",
      "-----------------------------------------------------------------------------\n",
      "                         Coef.   Std.Err.    z     P>|z|    [0.025    0.975] \n",
      "-----------------------------------------------------------------------------\n",
      "dob_month                 0.0010   0.0040   0.2481 0.8041   -0.0069    0.0089\n",
      "age_upon_intake           0.0184   0.0054   3.3721 0.0007    0.0077    0.0291\n",
      "animal_type               0.7904   0.0211  37.4189 0.0000    0.7490    0.8318\n",
      "intake_condition         -0.2341   0.0107 -21.7977 0.0000   -0.2551   -0.2130\n",
      "intake_type              -0.2303   0.0140 -16.3973 0.0000   -0.2578   -0.2028\n",
      "sex_upon_intake           0.1852   0.0107  17.3435 0.0000    0.1643    0.2062\n",
      "age_upon_intake_(days)   -0.0002   0.0000 -10.1349 0.0000   -0.0002   -0.0001\n",
      "intake_month              0.0004   0.0040   0.1025 0.9184   -0.0074    0.0083\n",
      "intake_year               0.1475   0.0090  16.4153 0.0000    0.1299    0.1651\n",
      "intake_weekday            0.0151   0.0057   2.6800 0.0074    0.0041    0.0262\n",
      "intake_hour              -0.0013   0.0040  -0.3253 0.7450   -0.0092    0.0066\n",
      "intake_number             1.4264   0.0527  27.0817 0.0000    1.3231    1.5296\n",
      "time_in_shelter_days      0.0372   0.0007  51.3181 0.0000    0.0358    0.0386\n",
      "intercept              -301.0787  18.1229 -16.6132 0.0000 -336.5989 -265.5585\n",
      "=============================================================================\n",
      "\n"
     ]
    }
   ],
   "source": [
    "#declare predictors\n",
    "X_statsmod = X_train.copy()\n",
    "\n",
    "#the statsmodels formulation requires a column with constant value 1 that\n",
    "#will act as the intercept.\n",
    "X_statsmod['intercept'] = 1 \n",
    "\n",
    "#declare and fit the model.\n",
    "logit = sm.Logit(Y_train, X_statsmod)\n",
    "result = logit.fit()\n",
    "\n",
    "#lots of information about the model and its coefficients, but the\n",
    "#accuracy rate for predictions is missing.\n",
    "print(result.summary2())"
   ]
  },
  {
   "cell_type": "markdown",
   "metadata": {},
   "source": [
    "##### Fitting a binary logistic model using sklearn "
   ]
  },
  {
   "cell_type": "code",
   "execution_count": 64,
   "metadata": {},
   "outputs": [
    {
     "name": "stdout",
     "output_type": "stream",
     "text": [
      "Coefficients\n",
      "[[ 1.75977401e-03  1.74781225e-02  7.82080187e-01 -2.36491628e-01\n",
      "  -2.34156955e-01  1.79838637e-01 -1.67434008e-04 -1.43579318e-02\n",
      "  -1.77201861e-03  1.29215744e-02 -4.14927115e-03  1.38118406e+00\n",
      "   3.71254187e-02]]\n",
      "[-0.00557249]\n",
      "\n",
      " Accuracy\n",
      "outcome_type     0      1\n",
      "row_0                    \n",
      "0             9516   3999\n",
      "1             7067  19593\n",
      "\n",
      " Percentage accuracy\n",
      "0.7251132535718434\n",
      "\n",
      " Cross Validation Scores\n",
      "[0.72025537 0.71038886 0.72125436 0.73054588 0.72473868 0.71370499\n",
      " 0.7181871  0.72806508 0.72341662 0.73271354]\n"
     ]
    }
   ],
   "source": [
    "#declare a logistic regression classifier\n",
    "lr = LogisticRegression()\n",
    "Y = Y_train\n",
    "X = X_train\n",
    "\n",
    "#fit the model.\n",
    "fit = lr.fit(X, Y)\n",
    "\n",
    "#display\n",
    "print('Coefficients')\n",
    "print(fit.coef_)\n",
    "print(fit.intercept_)\n",
    "pred_y_sklearn = lr.predict(X)\n",
    "\n",
    "#print confusion matrix \n",
    "print('\\n Accuracy')\n",
    "print(pd.crosstab(pred_y_sklearn, Y))\n",
    "\n",
    "#print accuracy score\n",
    "print('\\n Percentage accuracy')\n",
    "print(lr.score(X_test, Y_test))\n",
    "\n",
    "#perform cross validation \n",
    "print('\\n Cross Validation Scores')\n",
    "print(cross_val_score(lr, X_test, Y_test, cv=10))"
   ]
  },
  {
   "cell_type": "markdown",
   "metadata": {},
   "source": [
    "## Ridge Logistic Regression"
   ]
  },
  {
   "cell_type": "code",
   "execution_count": 65,
   "metadata": {},
   "outputs": [],
   "source": [
    "#initiate the ridge model through the pentalty l2 \n",
    "ridgemodel = LogisticRegression(penalty='l2')\n",
    "ridgefit = ridgemodel.fit(X_train, Y_train)"
   ]
  },
  {
   "cell_type": "code",
   "execution_count": 66,
   "metadata": {},
   "outputs": [
    {
     "data": {
      "text/plain": [
       "0.7251132535718434"
      ]
     },
     "execution_count": 66,
     "metadata": {},
     "output_type": "execute_result"
    }
   ],
   "source": [
    "ridgemodel.score(X_test, Y_test)"
   ]
  },
  {
   "cell_type": "code",
   "execution_count": 68,
   "metadata": {},
   "outputs": [
    {
     "name": "stdout",
     "output_type": "stream",
     "text": [
      "\n",
      " Accuracy\n",
      "outcome_type     0     1\n",
      "row_0                   \n",
      "0             4182  1699\n",
      "1             3034  8303\n",
      "\n",
      " Percentage accuracy\n",
      "0.7251132535718434\n",
      "\n",
      " Cross Validation Scores\n",
      "[0.72025537 0.71038886 0.72125436 0.73054588 0.72473868 0.71370499\n",
      " 0.7181871  0.72806508 0.72341662 0.73271354]\n"
     ]
    }
   ],
   "source": [
    "#metrics\n",
    "pred_y_sklearn = ridgemodel.predict(X_test)\n",
    "\n",
    "#confusion matrix\n",
    "print('\\n Accuracy')\n",
    "print(pd.crosstab(pred_y_sklearn, Y_test))\n",
    "\n",
    "#accuracy score\n",
    "print('\\n Percentage accuracy')\n",
    "print(ridgemodel.score(X_test, Y_test))\n",
    "\n",
    "#cross validation \n",
    "print('\\n Cross Validation Scores')\n",
    "print(cross_val_score(ridgemodel, X_test, Y_test, cv=10))"
   ]
  },
  {
   "cell_type": "code",
   "execution_count": 78,
   "metadata": {},
   "outputs": [
    {
     "name": "stdout",
     "output_type": "stream",
     "text": [
      "[0.7248786558805227, 0.7246546359676416, 0.7248288736776602, 0.7248786558805227, 0.7248786558805227, 0.7242314872433105, 0.7242065961418793, 0.7249035469819539, 0.7242065961418793]\n"
     ]
    },
    {
     "data": {
      "image/png": "[encoded data removed]",
      "text/plain": [
       "<matplotlib.figure.Figure at 0x7fca17e79910>"
      ]
     },
     "metadata": {},
     "output_type": "display_data"
    }
   ],
   "source": [
    "ridge_scores =[]\n",
    "lam = np.arange(.1, 1, .1)\n",
    "for i in lam:\n",
    "    ridgemodel = LogisticRegression(penalty='l2',C=i)\n",
    "    ridgemodel.fit(X_train, Y_train)\n",
    "    rscore = ridgemodel.score(X_train, Y_train)\n",
    "    ridge_scores.append(rscore)\n",
    "print(ridge_scores)\n",
    "plt.plot(ridge_scores);"
   ]
  },
  {
   "cell_type": "markdown",
   "metadata": {},
   "source": [
    "## Lasso Logistic Regression"
   ]
  },
  {
   "cell_type": "code",
   "execution_count": 74,
   "metadata": {},
   "outputs": [
    {
     "data": {
      "text/plain": [
       "LogisticRegression(C=1.0, class_weight=None, dual=False, fit_intercept=True,\n",
       "          intercept_scaling=1, max_iter=100, multi_class='ovr', n_jobs=1,\n",
       "          penalty='l1', random_state=None, solver='liblinear', tol=0.0001,\n",
       "          verbose=0, warm_start=False)"
      ]
     },
     "execution_count": 74,
     "metadata": {},
     "output_type": "execute_result"
    }
   ],
   "source": [
    "#initial the Lasso model through the pentalty l1 \n",
    "lassomodel = LogisticRegression(penalty='l1')\n",
    "lassomodel.fit(X_train, Y_train)"
   ]
  },
  {
   "cell_type": "code",
   "execution_count": 75,
   "metadata": {},
   "outputs": [
    {
     "data": {
      "text/plain": [
       "0.7249970960622604"
      ]
     },
     "execution_count": 75,
     "metadata": {},
     "output_type": "execute_result"
    }
   ],
   "source": [
    "lassomodel.score(X_test, Y_test)"
   ]
  },
  {
   "cell_type": "code",
   "execution_count": 76,
   "metadata": {},
   "outputs": [
    {
     "name": "stdout",
     "output_type": "stream",
     "text": [
      "\n",
      " Accuracy\n",
      "outcome_type     0     1\n",
      "row_0                   \n",
      "0             4187  1706\n",
      "1             3029  8296\n",
      "\n",
      " Percentage accuracy\n",
      "0.7249970960622604\n",
      "\n",
      " Cross Validation Scores\n",
      "[0.7190946  0.70980847 0.72183508 0.72996516 0.72357724 0.71312427\n",
      " 0.71876816 0.72864614 0.72283556 0.73271354]\n"
     ]
    }
   ],
   "source": [
    "#=metrics\n",
    "pred_y_sklearn = lassomodel.predict(X_test)\n",
    "\n",
    "#confusion matrix. \n",
    "print('\\n Accuracy')\n",
    "print(pd.crosstab(pred_y_sklearn, Y_test))\n",
    "\n",
    "#accuracy Score\n",
    "print('\\n Percentage accuracy')\n",
    "print(lassomodel.score(X_test, Y_test))\n",
    "\n",
    "#cross validation \n",
    "print('\\n Cross Validation Scores')\n",
    "print(cross_val_score(lassomodel, X_test, Y_test, cv=10))"
   ]
  },
  {
   "cell_type": "code",
   "execution_count": 80,
   "metadata": {},
   "outputs": [
    {
     "name": "stdout",
     "output_type": "stream",
     "text": [
      "[0.7247790914747978, 0.7245550715619166, 0.7245550715619166, 0.7246297448662103, 0.7245550715619166, 0.7245799626633479, 0.7245799626633479, 0.7244803982576229, 0.7244555071561917]\n"
     ]
    },
    {
     "data": {
      "image/png": "[encoded data removed]",
      "text/plain": [
       "<matplotlib.figure.Figure at 0x7fca17533f50>"
      ]
     },
     "metadata": {},
     "output_type": "display_data"
    }
   ],
   "source": [
    "lass_scores =[]\n",
    "lam = np.arange(.1, 1, .1)\n",
    "for i in lam:\n",
    "    lassomodel = LogisticRegression(penalty='l1',C=i)\n",
    "    lassomodel.fit(X_train, Y_train)\n",
    "    rscore = lassomodel.score(X_train, Y_train)\n",
    "    lass_scores.append(rscore)\n",
    "print(lass_scores)\n",
    "plt.plot(lass_scores);"
   ]
  },
  {
   "cell_type": "markdown",
   "metadata": {},
   "source": [
    "## Conclusion "
   ]
  },
  {
   "cell_type": "markdown",
   "metadata": {},
   "source": [
    "In Summation: \n",
    "\n",
    "Logistic Regression Percentage Accuracy: 0.7235096453018046 \n",
    "\n",
    "Ridge Logistic Regression Percentage Accuracy: 0.723312812173307\n",
    "\n",
    "Lasso Logistic Regression Percentage Accuracy: 0.7234289696828899\n",
    "\n",
    "Our logistic regression model performed better by around .0002, so very minimally better than the ridge and logistic regression. We have low multicolinearity in this model, and most variables appear useful, thus, I would stick with the logistic regression for not only simplicity, but better performance. "
   ]
  },
  {
   "cell_type": "markdown",
   "metadata": {},
   "source": [
    "When checking to see the best fit c values, it appears that smaller values generally perform better for the lasso regression model, while our ridge version's c values didnt make much of any difference only by a .0007 percentile in our scores. "
   ]
  },
  {
   "cell_type": "code",
   "execution_count": null,
   "metadata": {},
   "outputs": [],
   "source": []
  }
 ],
 "metadata": {
  "kernelspec": {
   "display_name": "Python 2",
   "language": "python",
   "name": "python2"
  },
  "language_info": {
   "codemirror_mode": {
    "name": "ipython",
    "version": 2
   },
   "file_extension": ".py",
   "mimetype": "text/x-python",
   "name": "python",
   "nbconvert_exporter": "python",
   "pygments_lexer": "ipython2",
   "version": "2.7.15"
  }
 },
 "nbformat": 4,
 "nbformat_minor": 2
}
